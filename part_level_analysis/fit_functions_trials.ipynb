{
 "cells": [
  {
   "cell_type": "markdown",
   "metadata": {},
   "source": [
    "Here we fit the functions to the trial wise participant data"
   ]
  },
  {
   "cell_type": "code",
   "execution_count": 2,
   "metadata": {},
   "outputs": [],
   "source": [
    "import numpy as np\n",
    "import matplotlib.pyplot as plt\n",
    "from matplotlib.transforms import Affine2D\n",
    "import matplotlib.transforms as transforms\n",
    "import matplotlib\n",
    "import pandas as pd\n",
    "import os\n",
    "import os.path\n",
    "from scipy.optimize import curve_fit"
   ]
  },
  {
   "cell_type": "code",
   "execution_count": 3,
   "metadata": {},
   "outputs": [
    {
     "data": {
      "text/plain": [
       "'c:\\\\Users\\\\Jirko\\\\Desktop\\\\Hip_Lab\\\\analysis_scripts/data_loading/data_v2_quotes/'"
      ]
     },
     "execution_count": 3,
     "metadata": {},
     "output_type": "execute_result"
    }
   ],
   "source": [
    "dname = os.path.dirname(os.getcwd()) + '/data_loading/data_v2_quotes/'\n",
    "dname"
   ]
  },
  {
   "cell_type": "markdown",
   "metadata": {},
   "source": [
    "Loading the data"
   ]
  },
  {
   "cell_type": "code",
   "execution_count": 4,
   "metadata": {},
   "outputs": [],
   "source": [
    "ACCURACY = np.load(dname + 'ACCURACY_New.npy')\n",
    "acc_first_prop = np.load(dname + 'Acc_first_prop_New.npy')\n",
    "acc_second_prop = np.load(dname + 'acc_second_prop_New.npy')\n",
    "acc_third_prop = np.load(dname + 'acc_third_prop_New.npy')"
   ]
  },
  {
   "cell_type": "code",
   "execution_count": 5,
   "metadata": {},
   "outputs": [
    {
     "data": {
      "text/plain": [
       "(49, 8, 16)"
      ]
     },
     "execution_count": 5,
     "metadata": {},
     "output_type": "execute_result"
    }
   ],
   "source": [
    "n_sujs, n_blocs, n_trials = ACCURACY.shape\n",
    "# ACCURACY.shape\n",
    "acc_first_prop.shape\n",
    "acc_second_prop.shape\n",
    "# ACCURACY[0,:,:] "
   ]
  },
  {
   "cell_type": "markdown",
   "metadata": {},
   "source": [
    "We reshape the data into an appropriate format for our fitting procedure"
   ]
  },
  {
   "cell_type": "code",
   "execution_count": 6,
   "metadata": {},
   "outputs": [
    {
     "name": "stdout",
     "output_type": "stream",
     "text": [
      "[1. 1. 0. 0. 0. 1. 0. 1. 0. 1. 1. 1. 1. 0. 1. 1.]\n"
     ]
    }
   ],
   "source": [
    "print(acc_first_prop[0,0,:])\n",
    "acc_first_prop_reshaped = np.reshape(acc_first_prop,(49,128))\n",
    "acc_second_prop_reshaped = np.reshape(acc_second_prop,(49,128))\n",
    "acc_third_prop_reshaped = np.reshape(acc_third_prop,(49,128))"
   ]
  },
  {
   "cell_type": "code",
   "execution_count": 7,
   "metadata": {},
   "outputs": [],
   "source": [
    "def plot_accuracy_indi(subj_means, fig_name, fig_title, chance_level=False):\n",
    "    # Define figure\n",
    "    fig, ax = plt.subplots(1, 1, figsize=(9, 4), dpi=300, facecolor='w')\n",
    "\n",
    "    # Individual data\n",
    "    for i in range(subj_means.shape[0]-40):\n",
    "        ax.plot(\n",
    "            np.arange(n_blocs),\n",
    "            subj_means[i,:]\n",
    "        )\n",
    "    if chance_level:\n",
    "        ax.axhline(y=chance_level, color='r', linestyle='--' )\n",
    "    # Aesthetics\n",
    "    ax.set_title(fig_title, fontweight='bold')\n",
    "    ax.set_ylim(0.3, 1.05)\n",
    "    ax.set_xlabel('Block #')\n",
    "    ax.set_ylabel('Accuracy')\n",
    "\n",
    "    # Hide the right and top spines\n",
    "    ax.spines.right.set_visible(False)\n",
    "    ax.spines.top.set_visible(False)\n",
    "\n",
    "    plt.tight_layout()\n",
    "    # fig.savefig(fig_name)"
   ]
  },
  {
   "cell_type": "markdown",
   "metadata": {},
   "source": [
    "The functions we want to fit"
   ]
  },
  {
   "cell_type": "code",
   "execution_count": 8,
   "metadata": {},
   "outputs": [],
   "source": [
    "def sigmoid(x, x0, k):\n",
    "    y = 1 / (1 + np.exp(-k*(x-x0)))\n",
    "    return y\n",
    "\n",
    "def linear(x, w, b):\n",
    "    y = x * w + b\n",
    "    return y\n",
    "\n",
    "def relu(x, w, b1, b2):\n",
    "    y = np.maximum((x * w - b1),0) + b2\n",
    "    return y\n",
    "\n",
    "def heaviside(x, b1, b2):\n",
    "    y = 1 * (x + b1 > 0) * b2\n",
    "    return y\n",
    "\n",
    "def linear_step_func(x, x0, x1):\n",
    "    y= np.piecewise(x, [\n",
    "        x < x0, \n",
    "       (x >= x0) & (x <= x1), \n",
    "        x > x1],\n",
    "            [0., \n",
    "            lambda x: x/(x1-x0)+x0/(x0-x1),\n",
    "            1.])\n",
    "    return y"
   ]
  },
  {
   "cell_type": "markdown",
   "metadata": {},
   "source": [
    "A function to fit a candidate function to each indidividual participant"
   ]
  },
  {
   "cell_type": "code",
   "execution_count": 12,
   "metadata": {},
   "outputs": [],
   "source": [
    "def part_fit(function, data, n_params, p0, bound):\n",
    "    \"\"\"make fit to each participant and return the params\n",
    "\n",
    "    Args:\n",
    "        function (_type_): _description_\n",
    "        data (_type_): _description_\n",
    "    \"\"\"\n",
    "    all_popt = np.full((data.shape[0], n_params), np.nan)\n",
    "    x_data = np.linspace(1, data.shape[1], data.shape[1])\n",
    "    # loop over each participant\n",
    "\n",
    "    for i in range(data.shape[0]):\n",
    "        y_data = data[i,:]\n",
    "\n",
    "        popt, pcov = curve_fit(function, x_data, y_data, p0, method='dogbox',bounds=bound, maxfev=1000)\n",
    "        \n",
    "        all_popt[i,:] = popt\n",
    "\n",
    "    return all_popt"
   ]
  },
  {
   "cell_type": "markdown",
   "metadata": {},
   "source": [
    "Fit our sigmoid"
   ]
  },
  {
   "cell_type": "code",
   "execution_count": 116,
   "metadata": {},
   "outputs": [
    {
     "name": "stdout",
     "output_type": "stream",
     "text": [
      "(49, 2)\n"
     ]
    }
   ],
   "source": [
    "p0 = [1, 1] # this is an mandatory initial guess\n",
    "bound = ([1, -np.inf], [np.inf, np.inf])\n",
    "\n",
    "all_popt = part_fit(sigmoid, acc_first_prop_reshaped, 2, p0, bound)\n",
    "df = pd.DataFrame(all_popt, columns = ['x0','k'])\n",
    "# df.to_csv(\"params_trialwise/third/sigmoid.csv\")\n",
    "print(all_popt.shape)"
   ]
  },
  {
   "cell_type": "code",
   "execution_count": 70,
   "metadata": {},
   "outputs": [
    {
     "data": {
      "text/plain": [
       "(array([33.,  0.,  0.,  0.,  0.,  0.,  0.,  1.,  3.,  0.,  0.,  0.,  0.,\n",
       "         0.,  0.,  2.,  3.,  5.,  0.,  2.]),\n",
       " array([1.22940534e-03, 1.14273153e+00, 2.28423366e+00, 3.42573578e+00,\n",
       "        4.56723791e+00, 5.70874003e+00, 6.85024216e+00, 7.99174428e+00,\n",
       "        9.13324641e+00, 1.02747485e+01, 1.14162507e+01, 1.25577528e+01,\n",
       "        1.36992549e+01, 1.48407570e+01, 1.59822592e+01, 1.71237613e+01,\n",
       "        1.82652634e+01, 1.94067655e+01, 2.05482677e+01, 2.16897698e+01,\n",
       "        2.28312719e+01]),\n",
       " <BarContainer object of 20 artists>)"
      ]
     },
     "execution_count": 70,
     "metadata": {},
     "output_type": "execute_result"
    },
    {
     "data": {
      "image/png": "[encoded data removed]",
      "text/plain": [
       "<Figure size 432x288 with 1 Axes>"
      ]
     },
     "metadata": {
      "needs_background": "light"
     },
     "output_type": "display_data"
    }
   ],
   "source": [
    "plt.hist(all_popt[:,1],20)"
   ]
  },
  {
   "cell_type": "code",
   "execution_count": 56,
   "metadata": {},
   "outputs": [
    {
     "name": "stdout",
     "output_type": "stream",
     "text": [
      "(49, 2)\n"
     ]
    }
   ],
   "source": [
    "p0 = [1, 1] # this is an mandatory initial guess\n",
    "bound = ([1, -np.inf], [np.inf, np.inf])\n",
    "\n",
    "all_popt = part_fit(sigmoid, acc_second_prop_reshaped, 2, p0, bound)\n",
    "df = pd.DataFrame(all_popt2, columns = ['x0','k'])\n",
    "# df.to_csv(\"params/sigmoid.csv\")\n",
    "print(all_popt2.shape)"
   ]
  },
  {
   "cell_type": "code",
   "execution_count": 69,
   "metadata": {},
   "outputs": [
    {
     "data": {
      "text/plain": [
       "(array([44.,  0.,  0.,  0.,  0.,  0.,  0.,  0.,  0.,  2.,  0.,  0.,  0.,\n",
       "         0.,  0.,  0.,  0.,  0.,  1.,  2.]),\n",
       " array([-6.16890333e-03,  9.97726630e-01,  2.00162216e+00,  3.00551770e+00,\n",
       "         4.00941323e+00,  5.01330876e+00,  6.01720429e+00,  7.02109983e+00,\n",
       "         8.02499536e+00,  9.02889089e+00,  1.00327864e+01,  1.10366820e+01,\n",
       "         1.20405775e+01,  1.30444730e+01,  1.40483686e+01,  1.50522641e+01,\n",
       "         1.60561596e+01,  1.70600552e+01,  1.80639507e+01,  1.90678462e+01,\n",
       "         2.00717418e+01]),\n",
       " <BarContainer object of 20 artists>)"
      ]
     },
     "execution_count": 69,
     "metadata": {},
     "output_type": "execute_result"
    },
    {
     "data": {
      "image/png": "[encoded data removed]",
      "text/plain": [
       "<Figure size 432x288 with 1 Axes>"
      ]
     },
     "metadata": {
      "needs_background": "light"
     },
     "output_type": "display_data"
    }
   ],
   "source": [
    "plt.hist(all_popt2[:,1],20)"
   ]
  },
  {
   "cell_type": "markdown",
   "metadata": {},
   "source": [
    "A visual check of fits"
   ]
  },
  {
   "cell_type": "code",
   "execution_count": 1,
   "metadata": {},
   "outputs": [
    {
     "ename": "NameError",
     "evalue": "name 'acc_first_prop_reshaped' is not defined",
     "output_type": "error",
     "traceback": [
      "\u001b[1;31m---------------------------------------------------------------------------\u001b[0m",
      "\u001b[1;31mNameError\u001b[0m                                 Traceback (most recent call last)",
      "\u001b[1;32mc:\\Users\\Jirko\\Desktop\\Hip_Lab\\analysis_scripts\\part_level_analysis\\fit_functions_trials.ipynb Cell 20\u001b[0m in \u001b[0;36m<cell line: 1>\u001b[1;34m()\u001b[0m\n\u001b[1;32m----> <a href='vscode-notebook-cell:/c%3A/Users/Jirko/Desktop/Hip_Lab/analysis_scripts/part_level_analysis/fit_functions_trials.ipynb#X25sZmlsZQ%3D%3D?line=0'>1</a>\u001b[0m y_data \u001b[39m=\u001b[39m acc_first_prop_reshaped[\u001b[39m6\u001b[39m,:]\n\u001b[0;32m      <a href='vscode-notebook-cell:/c%3A/Users/Jirko/Desktop/Hip_Lab/analysis_scripts/part_level_analysis/fit_functions_trials.ipynb#X25sZmlsZQ%3D%3D?line=1'>2</a>\u001b[0m x_data \u001b[39m=\u001b[39m np\u001b[39m.\u001b[39mlinspace(\u001b[39m1\u001b[39m, acc_first_prop_reshaped\u001b[39m.\u001b[39mshape[\u001b[39m1\u001b[39m], acc_first_prop_reshaped\u001b[39m.\u001b[39mshape[\u001b[39m1\u001b[39m])\n\u001b[0;32m      <a href='vscode-notebook-cell:/c%3A/Users/Jirko/Desktop/Hip_Lab/analysis_scripts/part_level_analysis/fit_functions_trials.ipynb#X25sZmlsZQ%3D%3D?line=3'>4</a>\u001b[0m x \u001b[39m=\u001b[39m np\u001b[39m.\u001b[39mlinspace(\u001b[39m-\u001b[39m\u001b[39m120\u001b[39m, \u001b[39m120\u001b[39m, \u001b[39m241\u001b[39m)\n",
      "\u001b[1;31mNameError\u001b[0m: name 'acc_first_prop_reshaped' is not defined"
     ]
    }
   ],
   "source": [
    "y_data = acc_first_prop_reshaped[6,:]\n",
    "x_data = np.linspace(1, acc_first_prop_reshaped.shape[1], acc_first_prop_reshaped.shape[1])\n",
    "\n",
    "x = np.linspace(-120, 120, 241)\n",
    "print(x)\n",
    "y = sigmoid(x, *all_popt[6,:])\n",
    "plt.plot(x_data, y_data, label='data', linestyle='', marker = 'o', mfc = 'none')\n",
    "plt.plot(x,y, label='fit')\n",
    "plt.legend()    "
   ]
  },
  {
   "cell_type": "markdown",
   "metadata": {},
   "source": [
    "Now fit for our linear models"
   ]
  },
  {
   "cell_type": "code",
   "execution_count": 85,
   "metadata": {},
   "outputs": [
    {
     "name": "stdout",
     "output_type": "stream",
     "text": [
      "(49, 2)\n"
     ]
    },
    {
     "data": {
      "text/plain": [
       "(array([5., 6., 8., 4., 7., 7., 2., 4., 2., 4.]),\n",
       " array([0.22219488, 0.28367372, 0.34515256, 0.4066314 , 0.46811024,\n",
       "        0.52958907, 0.59106791, 0.65254675, 0.71402559, 0.77550443,\n",
       "        0.83698327]),\n",
       " <BarContainer object of 10 artists>)"
      ]
     },
     "execution_count": 85,
     "metadata": {},
     "output_type": "execute_result"
    },
    {
     "data": {
      "image/png": "[encoded data removed]",
      "text/plain": [
       "<Figure size 432x288 with 1 Axes>"
      ]
     },
     "metadata": {
      "needs_background": "light"
     },
     "output_type": "display_data"
    }
   ],
   "source": [
    "p0 = [1, .5] # this is an mandatory initial guess\n",
    "bound = ([-np.inf, -np.inf], [np.inf, np.inf])\n",
    "\n",
    "all_popt = part_fit(linear, acc_third_prop_reshaped, 2, p0, bound)\n",
    "df = pd.DataFrame(all_popt, columns = ['w','b'])\n",
    "df.to_csv(\"params_trialwise/third/linear.csv\")\n",
    "print(all_popt.shape)\n",
    "plt.hist(all_popt[:,1],10)"
   ]
  },
  {
   "cell_type": "code",
   "execution_count": 86,
   "metadata": {},
   "outputs": [
    {
     "data": {
      "text/plain": [
       "(array([ 1.,  3.,  2.,  5., 11., 17.,  5.,  2.,  0.,  3.]),\n",
       " array([-0.00349924, -0.0024014 , -0.00130356, -0.00020572,  0.00089212,\n",
       "         0.00198996,  0.0030878 ,  0.00418565,  0.00528349,  0.00638133,\n",
       "         0.00747917]),\n",
       " <BarContainer object of 10 artists>)"
      ]
     },
     "execution_count": 86,
     "metadata": {},
     "output_type": "execute_result"
    },
    {
     "data": {
      "image/png": "[encoded data removed]",
      "text/plain": [
       "<Figure size 432x288 with 1 Axes>"
      ]
     },
     "metadata": {
      "needs_background": "light"
     },
     "output_type": "display_data"
    }
   ],
   "source": [
    "plt.hist(all_popt[:,0],10)"
   ]
  },
  {
   "cell_type": "markdown",
   "metadata": {},
   "source": [
    "Visual checks of linear models"
   ]
  },
  {
   "cell_type": "code",
   "execution_count": 84,
   "metadata": {},
   "outputs": [
    {
     "name": "stdout",
     "output_type": "stream",
     "text": [
      "[-120. -119. -118. -117. -116. -115. -114. -113. -112. -111. -110. -109.\n",
      " -108. -107. -106. -105. -104. -103. -102. -101. -100.  -99.  -98.  -97.\n",
      "  -96.  -95.  -94.  -93.  -92.  -91.  -90.  -89.  -88.  -87.  -86.  -85.\n",
      "  -84.  -83.  -82.  -81.  -80.  -79.  -78.  -77.  -76.  -75.  -74.  -73.\n",
      "  -72.  -71.  -70.  -69.  -68.  -67.  -66.  -65.  -64.  -63.  -62.  -61.\n",
      "  -60.  -59.  -58.  -57.  -56.  -55.  -54.  -53.  -52.  -51.  -50.  -49.\n",
      "  -48.  -47.  -46.  -45.  -44.  -43.  -42.  -41.  -40.  -39.  -38.  -37.\n",
      "  -36.  -35.  -34.  -33.  -32.  -31.  -30.  -29.  -28.  -27.  -26.  -25.\n",
      "  -24.  -23.  -22.  -21.  -20.  -19.  -18.  -17.  -16.  -15.  -14.  -13.\n",
      "  -12.  -11.  -10.   -9.   -8.   -7.   -6.   -5.   -4.   -3.   -2.   -1.\n",
      "    0.    1.    2.    3.    4.    5.    6.    7.    8.    9.   10.   11.\n",
      "   12.   13.   14.   15.   16.   17.   18.   19.   20.   21.   22.   23.\n",
      "   24.   25.   26.   27.   28.   29.   30.   31.   32.   33.   34.   35.\n",
      "   36.   37.   38.   39.   40.   41.   42.   43.   44.   45.   46.   47.\n",
      "   48.   49.   50.   51.   52.   53.   54.   55.   56.   57.   58.   59.\n",
      "   60.   61.   62.   63.   64.   65.   66.   67.   68.   69.   70.   71.\n",
      "   72.   73.   74.   75.   76.   77.   78.   79.   80.   81.   82.   83.\n",
      "   84.   85.   86.   87.   88.   89.   90.   91.   92.   93.   94.   95.\n",
      "   96.   97.   98.   99.  100.  101.  102.  103.  104.  105.  106.  107.\n",
      "  108.  109.  110.  111.  112.  113.  114.  115.  116.  117.  118.  119.\n",
      "  120.]\n"
     ]
    },
    {
     "data": {
      "text/plain": [
       "<matplotlib.legend.Legend at 0x18ddebd06d0>"
      ]
     },
     "execution_count": 84,
     "metadata": {},
     "output_type": "execute_result"
    },
    {
     "data": {
      "image/png": "[encoded data removed]",
      "text/plain": [
       "<Figure size 432x288 with 1 Axes>"
      ]
     },
     "metadata": {
      "needs_background": "light"
     },
     "output_type": "display_data"
    }
   ],
   "source": [
    "y_data = acc_second_prop_reshaped[0,:]\n",
    "x_data = np.linspace(1, acc_first_prop_reshaped.shape[1], acc_first_prop_reshaped.shape[1])\n",
    "\n",
    "x = np.linspace(-120, 120, 241)\n",
    "print(x)\n",
    "y = linear(x, *all_popt[0,:])\n",
    "plt.plot(x_data, y_data, label='data', linestyle='', marker = 'o')\n",
    "plt.plot(x,y, label='fit')\n",
    "plt.legend()    "
   ]
  },
  {
   "cell_type": "markdown",
   "metadata": {},
   "source": [
    "Now we fit the relu model"
   ]
  },
  {
   "cell_type": "code",
   "execution_count": 98,
   "metadata": {},
   "outputs": [
    {
     "name": "stdout",
     "output_type": "stream",
     "text": [
      "(49, 3)\n"
     ]
    },
    {
     "data": {
      "text/plain": [
       "(array([5., 7., 9., 5., 8., 4., 1., 4., 2., 4.]),\n",
       " array([0.22219488, 0.28367372, 0.34515256, 0.4066314 , 0.46811024,\n",
       "        0.52958907, 0.59106791, 0.65254675, 0.71402559, 0.77550443,\n",
       "        0.83698327]),\n",
       " <BarContainer object of 10 artists>)"
      ]
     },
     "execution_count": 98,
     "metadata": {},
     "output_type": "execute_result"
    },
    {
     "data": {
      "image/png": "[encoded data removed]",
      "text/plain": [
       "<Figure size 432x288 with 1 Axes>"
      ]
     },
     "metadata": {
      "needs_background": "light"
     },
     "output_type": "display_data"
    }
   ],
   "source": [
    "# def relu(x, w, b1, b2):\n",
    "#     y = np.maximum((x * w - b1),0) + b2\n",
    "#     return y\n",
    "\n",
    "p0 = [1, 0, 0] # this is an mandatory initial guess\n",
    "bound = ([-np.inf, 0, -np.inf], [np.inf, np.inf, np.inf])\n",
    "\n",
    "all_popt = part_fit(relu, acc_third_prop_reshaped, 3, p0, bound)\n",
    "df = pd.DataFrame(all_popt, columns = ['w','b1',\"b2\"])\n",
    "df.to_csv(\"params_trialwise/third/relu.csv\")\n",
    "print(all_popt.shape)\n",
    "plt.hist(all_popt[:,2],10)"
   ]
  },
  {
   "cell_type": "code",
   "execution_count": 101,
   "metadata": {},
   "outputs": [
    {
     "data": {
      "text/plain": [
       "(array([5., 7., 9., 5., 8., 4., 1., 4., 2., 4.]),\n",
       " array([0.22219488, 0.28367372, 0.34515256, 0.4066314 , 0.46811024,\n",
       "        0.52958907, 0.59106791, 0.65254675, 0.71402559, 0.77550443,\n",
       "        0.83698327]),\n",
       " <BarContainer object of 10 artists>)"
      ]
     },
     "execution_count": 101,
     "metadata": {},
     "output_type": "execute_result"
    },
    {
     "data": {
      "image/png": "[encoded data removed]",
      "text/plain": [
       "<Figure size 432x288 with 1 Axes>"
      ]
     },
     "metadata": {
      "needs_background": "light"
     },
     "output_type": "display_data"
    }
   ],
   "source": [
    "plt.hist(all_popt[:,2],10)"
   ]
  },
  {
   "cell_type": "markdown",
   "metadata": {},
   "source": [
    "Now we fit a linear step function"
   ]
  },
  {
   "cell_type": "code",
   "execution_count": 24,
   "metadata": {},
   "outputs": [
    {
     "name": "stdout",
     "output_type": "stream",
     "text": [
      "(49, 2)\n"
     ]
    },
    {
     "data": {
      "text/plain": [
       "(array([ 3.,  6.,  4.,  1.,  2.,  1.,  1.,  1.,  0., 30.]),\n",
       " array([  5.73591875,  17.96232687,  30.188735  ,  42.41514312,\n",
       "         54.64155125,  66.86795937,  79.0943675 ,  91.32077562,\n",
       "        103.54718375, 115.77359187, 128.        ]),\n",
       " <BarContainer object of 10 artists>)"
      ]
     },
     "execution_count": 24,
     "metadata": {},
     "output_type": "execute_result"
    },
    {
     "data": {
      "image/png": "[encoded data removed]",
      "text/plain": [
       "<Figure size 432x288 with 1 Axes>"
      ]
     },
     "metadata": {
      "needs_background": "light"
     },
     "output_type": "display_data"
    }
   ],
   "source": [
    "p0 = [80, 120] # this is an mandatory initial guess\n",
    "bound = ([0, 1e-10], [np.inf, 128])\n",
    "\n",
    "all_popt = part_fit(linear_step_func, acc_third_prop_reshaped, 2, p0, bound)\n",
    "df = pd.DataFrame(all_popt, columns = ['x0','x1'])\n",
    "df.to_csv(\"params_trialwise/third/linear_step_2.csv\")\n",
    "print(all_popt.shape)\n",
    "plt.hist(all_popt[:,1],10)"
   ]
  },
  {
   "cell_type": "code",
   "execution_count": 25,
   "metadata": {},
   "outputs": [
    {
     "data": {
      "text/plain": [
       "(array([42.,  0.,  1.,  1.,  0.,  0.,  2.,  1.,  1.,  1.]),\n",
       " array([  0.        ,  11.73055556,  23.46111112,  35.19166668,\n",
       "         46.92222224,  58.6527778 ,  70.38333335,  82.11388891,\n",
       "         93.84444447, 105.57500003, 117.30555559]),\n",
       " <BarContainer object of 10 artists>)"
      ]
     },
     "execution_count": 25,
     "metadata": {},
     "output_type": "execute_result"
    },
    {
     "data": {
      "image/png": "[encoded data removed]",
      "text/plain": [
       "<Figure size 432x288 with 1 Axes>"
      ]
     },
     "metadata": {
      "needs_background": "light"
     },
     "output_type": "display_data"
    }
   ],
   "source": [
    "plt.hist(all_popt[:,0],10)"
   ]
  },
  {
   "cell_type": "code",
   "execution_count": 114,
   "metadata": {},
   "outputs": [
    {
     "name": "stdout",
     "output_type": "stream",
     "text": [
      "[-120. -119. -118. -117. -116. -115. -114. -113. -112. -111. -110. -109.\n",
      " -108. -107. -106. -105. -104. -103. -102. -101. -100.  -99.  -98.  -97.\n",
      "  -96.  -95.  -94.  -93.  -92.  -91.  -90.  -89.  -88.  -87.  -86.  -85.\n",
      "  -84.  -83.  -82.  -81.  -80.  -79.  -78.  -77.  -76.  -75.  -74.  -73.\n",
      "  -72.  -71.  -70.  -69.  -68.  -67.  -66.  -65.  -64.  -63.  -62.  -61.\n",
      "  -60.  -59.  -58.  -57.  -56.  -55.  -54.  -53.  -52.  -51.  -50.  -49.\n",
      "  -48.  -47.  -46.  -45.  -44.  -43.  -42.  -41.  -40.  -39.  -38.  -37.\n",
      "  -36.  -35.  -34.  -33.  -32.  -31.  -30.  -29.  -28.  -27.  -26.  -25.\n",
      "  -24.  -23.  -22.  -21.  -20.  -19.  -18.  -17.  -16.  -15.  -14.  -13.\n",
      "  -12.  -11.  -10.   -9.   -8.   -7.   -6.   -5.   -4.   -3.   -2.   -1.\n",
      "    0.    1.    2.    3.    4.    5.    6.    7.    8.    9.   10.   11.\n",
      "   12.   13.   14.   15.   16.   17.   18.   19.   20.   21.   22.   23.\n",
      "   24.   25.   26.   27.   28.   29.   30.   31.   32.   33.   34.   35.\n",
      "   36.   37.   38.   39.   40.   41.   42.   43.   44.   45.   46.   47.\n",
      "   48.   49.   50.   51.   52.   53.   54.   55.   56.   57.   58.   59.\n",
      "   60.   61.   62.   63.   64.   65.   66.   67.   68.   69.   70.   71.\n",
      "   72.   73.   74.   75.   76.   77.   78.   79.   80.   81.   82.   83.\n",
      "   84.   85.   86.   87.   88.   89.   90.   91.   92.   93.   94.   95.\n",
      "   96.   97.   98.   99.  100.  101.  102.  103.  104.  105.  106.  107.\n",
      "  108.  109.  110.  111.  112.  113.  114.  115.  116.  117.  118.  119.\n",
      "  120.]\n"
     ]
    },
    {
     "data": {
      "text/plain": [
       "<matplotlib.legend.Legend at 0x18de177d2b0>"
      ]
     },
     "execution_count": 114,
     "metadata": {},
     "output_type": "execute_result"
    },
    {
     "data": {
      "image/png": "[encoded data removed]",
      "text/plain": [
       "<Figure size 432x288 with 1 Axes>"
      ]
     },
     "metadata": {
      "needs_background": "light"
     },
     "output_type": "display_data"
    }
   ],
   "source": [
    "y_data = acc_third_prop_reshaped[10,:]\n",
    "x_data = np.linspace(1, acc_first_prop_reshaped.shape[1], acc_first_prop_reshaped.shape[1])\n",
    "\n",
    "x = np.linspace(-120, 120, 241)\n",
    "print(x)\n",
    "y = linear_step_func(x, *all_popt[10,:])\n",
    "plt.plot(x_data, y_data, label='data', linestyle='', marker = 'o')\n",
    "plt.plot(x,y, label='fit')\n",
    "plt.legend()   "
   ]
  }
 ],
 "metadata": {
  "kernelspec": {
   "display_name": "Python 3.9.12 ('simple_analysis')",
   "language": "python",
   "name": "python3"
  },
  "language_info": {
   "codemirror_mode": {
    "name": "ipython",
    "version": 3
   },
   "file_extension": ".py",
   "mimetype": "text/x-python",
   "name": "python",
   "nbconvert_exporter": "python",
   "pygments_lexer": "ipython3",
   "version": "3.9.12"
  },
  "orig_nbformat": 4,
  "vscode": {
   "interpreter": {
    "hash": "714c65b6556cc764f3390fa3fd2d33ea130c4e159503f5fc78fc31bdcf5df947"
   }
  }
 },
 "nbformat": 4,
 "nbformat_minor": 2
}
