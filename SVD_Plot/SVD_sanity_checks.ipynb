{
 "cells": [
  {
   "cell_type": "markdown",
   "metadata": {},
   "source": [
    "Some Sanity checks for our SVD"
   ]
  },
  {
   "cell_type": "code",
   "execution_count": null,
   "metadata": {},
   "outputs": [],
   "source": [
    "import numpy as np\n",
    "import pandas as pd\n",
    "import re\n",
    "import os\n",
    "import glob\n",
    "import matplotlib.pyplot as plt\n",
    "import matplotlib\n",
    "import matplotlib.colors as colors\n",
    "from matplotlib.pyplot import ylabel\n",
    "from matplotlib.font_manager import FontProperties"
   ]
  },
  {
   "cell_type": "markdown",
   "metadata": {},
   "source": [
    "We get the dir"
   ]
  },
  {
   "cell_type": "code",
   "execution_count": 1,
   "metadata": {},
   "outputs": [
    {
     "data": {
      "text/plain": [
       "'c:\\\\Users\\\\Jirko\\\\Desktop\\\\Hip_Lab\\\\analysis_scripts/data_loading/data_v2_quotes/'"
      ]
     },
     "execution_count": 1,
     "metadata": {},
     "output_type": "execute_result"
    }
   ],
   "source": [
    "# the name of our directory\n",
    "dname = os.path.dirname(os.getcwd()) + \"/data_loading/data_v2_quotes/\"\n",
    "dname"
   ]
  },
  {
   "cell_type": "markdown",
   "metadata": {},
   "source": [
    "Again we get our data "
   ]
  },
  {
   "cell_type": "code",
   "execution_count": 2,
   "metadata": {},
   "outputs": [
    {
     "ename": "NameError",
     "evalue": "name 'np' is not defined",
     "output_type": "error",
     "traceback": [
      "\u001b[1;31m---------------------------------------------------------------------------\u001b[0m",
      "\u001b[1;31mNameError\u001b[0m                                 Traceback (most recent call last)",
      "\u001b[1;32mc:\\Users\\Jirko\\Desktop\\Hip_Lab\\analysis_scripts\\SVD_Plot\\SVD_sanity_checks.ipynb Cell 6\u001b[0m in \u001b[0;36m<cell line: 1>\u001b[1;34m()\u001b[0m\n\u001b[1;32m----> <a href='vscode-notebook-cell:/c%3A/Users/Jirko/Desktop/Hip_Lab/analysis_scripts/SVD_Plot/SVD_sanity_checks.ipynb#ch0000005?line=0'>1</a>\u001b[0m in_out_matrix \u001b[39m=\u001b[39m np\u001b[39m.\u001b[39mload(dname \u001b[39m+\u001b[39m \u001b[39m'\u001b[39m\u001b[39min_out_matrix.npy\u001b[39m\u001b[39m'\u001b[39m)\n\u001b[0;32m      <a href='vscode-notebook-cell:/c%3A/Users/Jirko/Desktop/Hip_Lab/analysis_scripts/SVD_Plot/SVD_sanity_checks.ipynb#ch0000005?line=1'>2</a>\u001b[0m \u001b[39mprint\u001b[39m(in_out_matrix\u001b[39m.\u001b[39mshape)\n\u001b[0;32m      <a href='vscode-notebook-cell:/c%3A/Users/Jirko/Desktop/Hip_Lab/analysis_scripts/SVD_Plot/SVD_sanity_checks.ipynb#ch0000005?line=3'>4</a>\u001b[0m in_out_matrix_trialwise \u001b[39m=\u001b[39m np\u001b[39m.\u001b[39mload(dname \u001b[39m+\u001b[39m \u001b[39m'\u001b[39m\u001b[39min_out_matrix_trialwise.npy\u001b[39m\u001b[39m'\u001b[39m)\n",
      "\u001b[1;31mNameError\u001b[0m: name 'np' is not defined"
     ]
    }
   ],
   "source": [
    "in_out_matrix = np.load(dname + 'in_out_matrix.npy')\n",
    "print(in_out_matrix.shape)\n",
    "\n",
    "in_out_matrix_trialwise = np.load(dname + 'in_out_matrix_trialwise.npy')\n",
    "print(in_out_matrix_trialwise.shape)"
   ]
  }
 ],
 "metadata": {
  "kernelspec": {
   "display_name": "Python 3.9.12 ('simple_analysis')",
   "language": "python",
   "name": "python3"
  },
  "language_info": {
   "codemirror_mode": {
    "name": "ipython",
    "version": 3
   },
   "file_extension": ".py",
   "mimetype": "text/x-python",
   "name": "python",
   "nbconvert_exporter": "python",
   "pygments_lexer": "ipython3",
   "version": "3.9.12"
  },
  "orig_nbformat": 4,
  "vscode": {
   "interpreter": {
    "hash": "714c65b6556cc764f3390fa3fd2d33ea130c4e159503f5fc78fc31bdcf5df947"
   }
  }
 },
 "nbformat": 4,
 "nbformat_minor": 2
}
