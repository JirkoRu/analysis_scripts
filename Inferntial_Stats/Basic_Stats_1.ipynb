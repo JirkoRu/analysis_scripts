{
 "cells": [
  {
   "cell_type": "code",
   "execution_count": 1,
   "metadata": {},
   "outputs": [],
   "source": [
    "import numpy as np\n",
    "import matplotlib.pyplot as plt\n",
    "import matplotlib\n",
    "import os\n",
    "import pandas as pd\n",
    "import rpy2"
   ]
  },
  {
   "cell_type": "markdown",
   "metadata": {},
   "source": [
    "Call R"
   ]
  },
  {
   "cell_type": "code",
   "execution_count": 63,
   "metadata": {},
   "outputs": [],
   "source": [
    "# Call R\n",
    "from rpy2.robjects.packages import importr\n",
    "from rpy2 import robjects\n",
    "from rpy2.robjects import pandas2ri\n",
    "pandas2ri.activate()  # make pyr2 accept and auto-convert pandas dataframes\n",
    "from rpy2.robjects import IntVector, FloatVector, FactorVector, globalenv\n",
    "lme4 = importr('lme4')\n",
    "base = importr('base')\n",
    "stats = importr('stats')\n",
    "broom = importr('broom')\n",
    "utils = importr('utils')\n",
    "ez = importr('ez')"
   ]
  },
  {
   "cell_type": "markdown",
   "metadata": {},
   "source": [
    "Load our data"
   ]
  },
  {
   "cell_type": "code",
   "execution_count": 6,
   "metadata": {},
   "outputs": [
    {
     "data": {
      "text/plain": [
       "'c:\\\\Users\\\\Jirko\\\\Desktop\\\\Hip_Lab\\\\analysis_scripts/data_loading/data_v2_quotes/'"
      ]
     },
     "execution_count": 6,
     "metadata": {},
     "output_type": "execute_result"
    }
   ],
   "source": [
    "dname = os.getcwd()+ '/data_loading/data_v2_quotes/'\n",
    "dname"
   ]
  },
  {
   "cell_type": "code",
   "execution_count": 7,
   "metadata": {},
   "outputs": [],
   "source": [
    "DF = pd.read_csv(dname + 'full_data.csv')"
   ]
  },
  {
   "cell_type": "code",
   "execution_count": 9,
   "metadata": {},
   "outputs": [
    {
     "data": {
      "text/html": [
       "<div>\n",
       "<style scoped>\n",
       "    .dataframe tbody tr th:only-of-type {\n",
       "        vertical-align: middle;\n",
       "    }\n",
       "\n",
       "    .dataframe tbody tr th {\n",
       "        vertical-align: top;\n",
       "    }\n",
       "\n",
       "    .dataframe thead th {\n",
       "        text-align: right;\n",
       "    }\n",
       "</style>\n",
       "<table border=\"1\" class=\"dataframe\">\n",
       "  <thead>\n",
       "    <tr style=\"text-align: right;\">\n",
       "      <th></th>\n",
       "      <th>Unnamed: 0</th>\n",
       "      <th>id</th>\n",
       "      <th>expt_index</th>\n",
       "      <th>expt_trial</th>\n",
       "      <th>expt_block</th>\n",
       "      <th>trial_att</th>\n",
       "      <th>vbxi_category</th>\n",
       "      <th>exemplar</th>\n",
       "      <th>trialProperties</th>\n",
       "      <th>trialPropShuff</th>\n",
       "      <th>trial_bonus</th>\n",
       "      <th>block_bonus</th>\n",
       "      <th>resp_timestamp</th>\n",
       "      <th>resp_reactiontime</th>\n",
       "      <th>property_order</th>\n",
       "      <th>resp_correct_array</th>\n",
       "      <th>resp_correct_array_unshuf</th>\n",
       "      <th>prop_responses</th>\n",
       "      <th>groundTruthCorrect</th>\n",
       "      <th>groundTruthCorrect_unshuf</th>\n",
       "      <th>resp_indices</th>\n",
       "      <th>resp_indices_values</th>\n",
       "    </tr>\n",
       "  </thead>\n",
       "  <tbody>\n",
       "    <tr>\n",
       "      <th>0</th>\n",
       "      <td>0</td>\n",
       "      <td>0</td>\n",
       "      <td>0</td>\n",
       "      <td>0</td>\n",
       "      <td>0</td>\n",
       "      <td>1</td>\n",
       "      <td>7</td>\n",
       "      <td>10</td>\n",
       "      <td>[1, 0, 1, 0, 0, 0, 1]</td>\n",
       "      <td>[[0, 1, 0, 0, 1, 0, 1], [0, 0, 0, 1, 1, 1, 0]]</td>\n",
       "      <td>1</td>\n",
       "      <td>23.0</td>\n",
       "      <td>[1656927914973, 1656927926827]</td>\n",
       "      <td>[9.699, 21.552]</td>\n",
       "      <td>[[1, 0, 5, 4, 2, 3, 6], [5, 3, 4, 2, 0, 6, 1]]</td>\n",
       "      <td>[[False, True, False, None, None, None, None],...</td>\n",
       "      <td>[[True, False, None, None, None, False, None],...</td>\n",
       "      <td>[[1, 1, 1, None, None, None, None], [None, Non...</td>\n",
       "      <td>[[0, 1, 0, 1, 0, 1, 0], [1, 1, 1, 1, 1, 1, 1]]</td>\n",
       "      <td>[[1, 0, 0, 1, 1, 0, 0], [1, 1, 1, 1, 1, 1, 1]]</td>\n",
       "      <td>[[0, 2, 1], [4, 3, 5]]</td>\n",
       "      <td>[[1, 1, 1], [1, 1, 1]]</td>\n",
       "    </tr>\n",
       "    <tr>\n",
       "      <th>1</th>\n",
       "      <td>1</td>\n",
       "      <td>0</td>\n",
       "      <td>1</td>\n",
       "      <td>1</td>\n",
       "      <td>0</td>\n",
       "      <td>0</td>\n",
       "      <td>7</td>\n",
       "      <td>0</td>\n",
       "      <td>[1, 0, 1, 0, 0, 0, 1]</td>\n",
       "      <td>[[1, 1, 1, 0, 0, 0, 0]]</td>\n",
       "      <td>3</td>\n",
       "      <td>32.0</td>\n",
       "      <td>[1656927934679]</td>\n",
       "      <td>[5.846]</td>\n",
       "      <td>[[0, 6, 2, 3, 1, 5, 4]]</td>\n",
       "      <td>[[True, True, True, None, None, None, None]]</td>\n",
       "      <td>[[True, None, True, None, None, None, True]]</td>\n",
       "      <td>[[1, 1, 1, None, None, None, None]]</td>\n",
       "      <td>[[1, 1, 1, 1, 1, 1, 1]]</td>\n",
       "      <td>[[1, 1, 1, 1, 1, 1, 1]]</td>\n",
       "      <td>[[0, 1, 2]]</td>\n",
       "      <td>[[1, 1, 1]]</td>\n",
       "    </tr>\n",
       "    <tr>\n",
       "      <th>2</th>\n",
       "      <td>2</td>\n",
       "      <td>0</td>\n",
       "      <td>2</td>\n",
       "      <td>2</td>\n",
       "      <td>0</td>\n",
       "      <td>1</td>\n",
       "      <td>3</td>\n",
       "      <td>1</td>\n",
       "      <td>[1, 1, 0, 0, 1, 0, 0]</td>\n",
       "      <td>[[1, 0, 0, 0, 1, 0, 1], [1, 1, 1, 0, 0, 0, 0]]</td>\n",
       "      <td>1</td>\n",
       "      <td>31.0</td>\n",
       "      <td>[1656927943664, 1656927953941]</td>\n",
       "      <td>[6.981, 17.258]</td>\n",
       "      <td>[[4, 2, 5, 3, 1, 6, 0], [0, 4, 1, 2, 5, 3, 6]]</td>\n",
       "      <td>[[None, None, False, False, True, None, None],...</td>\n",
       "      <td>[[None, True, None, False, None, False, None],...</td>\n",
       "      <td>[[None, None, 1, 1, 1, None, None], [1, 1, 1, ...</td>\n",
       "      <td>[[0, 1, 0, 0, 1, 1, 0], [1, 1, 1, 1, 1, 1, 1]]</td>\n",
       "      <td>[[0, 1, 1, 0, 0, 0, 1], [1, 1, 1, 1, 1, 1, 1]]</td>\n",
       "      <td>[[2, 4, 3], [1, 2, 0]]</td>\n",
       "      <td>[[1, 1, 1], [1, 1, 1]]</td>\n",
       "    </tr>\n",
       "  </tbody>\n",
       "</table>\n",
       "</div>"
      ],
      "text/plain": [
       "   Unnamed: 0  id  expt_index  expt_trial  expt_block  trial_att  \\\n",
       "0           0   0           0           0           0          1   \n",
       "1           1   0           1           1           0          0   \n",
       "2           2   0           2           2           0          1   \n",
       "\n",
       "   vbxi_category  exemplar        trialProperties  \\\n",
       "0              7        10  [1, 0, 1, 0, 0, 0, 1]   \n",
       "1              7         0  [1, 0, 1, 0, 0, 0, 1]   \n",
       "2              3         1  [1, 1, 0, 0, 1, 0, 0]   \n",
       "\n",
       "                                   trialPropShuff  trial_bonus  block_bonus  \\\n",
       "0  [[0, 1, 0, 0, 1, 0, 1], [0, 0, 0, 1, 1, 1, 0]]            1         23.0   \n",
       "1                         [[1, 1, 1, 0, 0, 0, 0]]            3         32.0   \n",
       "2  [[1, 0, 0, 0, 1, 0, 1], [1, 1, 1, 0, 0, 0, 0]]            1         31.0   \n",
       "\n",
       "                   resp_timestamp resp_reactiontime  \\\n",
       "0  [1656927914973, 1656927926827]   [9.699, 21.552]   \n",
       "1                 [1656927934679]           [5.846]   \n",
       "2  [1656927943664, 1656927953941]   [6.981, 17.258]   \n",
       "\n",
       "                                   property_order  \\\n",
       "0  [[1, 0, 5, 4, 2, 3, 6], [5, 3, 4, 2, 0, 6, 1]]   \n",
       "1                         [[0, 6, 2, 3, 1, 5, 4]]   \n",
       "2  [[4, 2, 5, 3, 1, 6, 0], [0, 4, 1, 2, 5, 3, 6]]   \n",
       "\n",
       "                                  resp_correct_array  \\\n",
       "0  [[False, True, False, None, None, None, None],...   \n",
       "1       [[True, True, True, None, None, None, None]]   \n",
       "2  [[None, None, False, False, True, None, None],...   \n",
       "\n",
       "                           resp_correct_array_unshuf  \\\n",
       "0  [[True, False, None, None, None, False, None],...   \n",
       "1       [[True, None, True, None, None, None, True]]   \n",
       "2  [[None, True, None, False, None, False, None],...   \n",
       "\n",
       "                                      prop_responses  \\\n",
       "0  [[1, 1, 1, None, None, None, None], [None, Non...   \n",
       "1                [[1, 1, 1, None, None, None, None]]   \n",
       "2  [[None, None, 1, 1, 1, None, None], [1, 1, 1, ...   \n",
       "\n",
       "                               groundTruthCorrect  \\\n",
       "0  [[0, 1, 0, 1, 0, 1, 0], [1, 1, 1, 1, 1, 1, 1]]   \n",
       "1                         [[1, 1, 1, 1, 1, 1, 1]]   \n",
       "2  [[0, 1, 0, 0, 1, 1, 0], [1, 1, 1, 1, 1, 1, 1]]   \n",
       "\n",
       "                        groundTruthCorrect_unshuf            resp_indices  \\\n",
       "0  [[1, 0, 0, 1, 1, 0, 0], [1, 1, 1, 1, 1, 1, 1]]  [[0, 2, 1], [4, 3, 5]]   \n",
       "1                         [[1, 1, 1, 1, 1, 1, 1]]             [[0, 1, 2]]   \n",
       "2  [[0, 1, 1, 0, 0, 0, 1], [1, 1, 1, 1, 1, 1, 1]]  [[2, 4, 3], [1, 2, 0]]   \n",
       "\n",
       "      resp_indices_values  \n",
       "0  [[1, 1, 1], [1, 1, 1]]  \n",
       "1             [[1, 1, 1]]  \n",
       "2  [[1, 1, 1], [1, 1, 1]]  "
      ]
     },
     "execution_count": 9,
     "metadata": {},
     "output_type": "execute_result"
    }
   ],
   "source": [
    "pd.set_option('display.max_columns', None)\n",
    "DF.head(3)"
   ]
  },
  {
   "cell_type": "code",
   "execution_count": 11,
   "metadata": {},
   "outputs": [
    {
     "data": {
      "text/plain": [
       "(49, 8, 16)"
      ]
     },
     "execution_count": 11,
     "metadata": {},
     "output_type": "execute_result"
    }
   ],
   "source": [
    "ACCURACY = np.load(dname + 'ACCURACY_New.npy')\n",
    "acc_first_prop = np.load(dname + 'Acc_first_prop_New.npy')\n",
    "acc_second_prop = np.load(dname + 'acc_second_prop_New.npy')\n",
    "acc_third_prop = np.load(dname + 'acc_third_prop_New.npy')\n",
    "\n",
    "ACCURACY.shape"
   ]
  },
  {
   "cell_type": "code",
   "execution_count": 14,
   "metadata": {},
   "outputs": [
    {
     "data": {
      "text/plain": [
       "(49, 8)"
      ]
     },
     "execution_count": 14,
     "metadata": {},
     "output_type": "execute_result"
    }
   ],
   "source": [
    "# we get the average accuracy for each subject across blocks for each level of the hierarchy\n",
    "subj_acc_first = np.nanmean(acc_first_prop, axis=2)\n",
    "subj_acc_second = np.nanmean(acc_second_prop, axis=2)\n",
    "subj_acc_third = np.nanmean(acc_third_prop, axis=2)\n",
    "subj_acc_third.shape"
   ]
  },
  {
   "cell_type": "code",
   "execution_count": 42,
   "metadata": {},
   "outputs": [
    {
     "data": {
      "text/plain": [
       "(49, 4)"
      ]
     },
     "execution_count": 42,
     "metadata": {},
     "output_type": "execute_result"
    }
   ],
   "source": [
    "# now lets construct a dataframe with this\n",
    "ids = np.array(range(subj_acc_first.shape[0]))\n",
    "block = np.full(subj_acc_first.shape[0], 0)\n",
    "level = np.full(subj_acc_first.shape[0], 0)\n",
    "test = np.array([ids, block, level, subj_acc_first[:,0]]).T\n",
    "dataframe_dict = {'Id' : ids, 'block': block, 'level':level, 'Accuracy': subj_acc_first[:,0]}\n",
    "df_first = pd.DataFrame(data = dataframe_dict)\n",
    "\n",
    "test.shape"
   ]
  },
  {
   "cell_type": "code",
   "execution_count": 58,
   "metadata": {},
   "outputs": [
    {
     "data": {
      "text/html": [
       "<div>\n",
       "<style scoped>\n",
       "    .dataframe tbody tr th:only-of-type {\n",
       "        vertical-align: middle;\n",
       "    }\n",
       "\n",
       "    .dataframe tbody tr th {\n",
       "        vertical-align: top;\n",
       "    }\n",
       "\n",
       "    .dataframe thead th {\n",
       "        text-align: right;\n",
       "    }\n",
       "</style>\n",
       "<table border=\"1\" class=\"dataframe\">\n",
       "  <thead>\n",
       "    <tr style=\"text-align: right;\">\n",
       "      <th></th>\n",
       "      <th>Id</th>\n",
       "      <th>block</th>\n",
       "      <th>level</th>\n",
       "      <th>Accuracy</th>\n",
       "    </tr>\n",
       "  </thead>\n",
       "  <tbody>\n",
       "    <tr>\n",
       "      <th>0</th>\n",
       "      <td>0.0</td>\n",
       "      <td>0.0</td>\n",
       "      <td>0.0</td>\n",
       "      <td>0.6250</td>\n",
       "    </tr>\n",
       "    <tr>\n",
       "      <th>1</th>\n",
       "      <td>1.0</td>\n",
       "      <td>0.0</td>\n",
       "      <td>0.0</td>\n",
       "      <td>0.6250</td>\n",
       "    </tr>\n",
       "    <tr>\n",
       "      <th>2</th>\n",
       "      <td>2.0</td>\n",
       "      <td>0.0</td>\n",
       "      <td>0.0</td>\n",
       "      <td>0.8125</td>\n",
       "    </tr>\n",
       "    <tr>\n",
       "      <th>3</th>\n",
       "      <td>3.0</td>\n",
       "      <td>0.0</td>\n",
       "      <td>0.0</td>\n",
       "      <td>0.8125</td>\n",
       "    </tr>\n",
       "    <tr>\n",
       "      <th>4</th>\n",
       "      <td>4.0</td>\n",
       "      <td>0.0</td>\n",
       "      <td>0.0</td>\n",
       "      <td>0.4375</td>\n",
       "    </tr>\n",
       "    <tr>\n",
       "      <th>...</th>\n",
       "      <td>...</td>\n",
       "      <td>...</td>\n",
       "      <td>...</td>\n",
       "      <td>...</td>\n",
       "    </tr>\n",
       "    <tr>\n",
       "      <th>1171</th>\n",
       "      <td>44.0</td>\n",
       "      <td>7.0</td>\n",
       "      <td>2.0</td>\n",
       "      <td>0.3750</td>\n",
       "    </tr>\n",
       "    <tr>\n",
       "      <th>1172</th>\n",
       "      <td>45.0</td>\n",
       "      <td>7.0</td>\n",
       "      <td>2.0</td>\n",
       "      <td>0.8125</td>\n",
       "    </tr>\n",
       "    <tr>\n",
       "      <th>1173</th>\n",
       "      <td>46.0</td>\n",
       "      <td>7.0</td>\n",
       "      <td>2.0</td>\n",
       "      <td>0.2500</td>\n",
       "    </tr>\n",
       "    <tr>\n",
       "      <th>1174</th>\n",
       "      <td>47.0</td>\n",
       "      <td>7.0</td>\n",
       "      <td>2.0</td>\n",
       "      <td>1.0000</td>\n",
       "    </tr>\n",
       "    <tr>\n",
       "      <th>1175</th>\n",
       "      <td>48.0</td>\n",
       "      <td>7.0</td>\n",
       "      <td>2.0</td>\n",
       "      <td>0.6250</td>\n",
       "    </tr>\n",
       "  </tbody>\n",
       "</table>\n",
       "<p>1176 rows × 4 columns</p>\n",
       "</div>"
      ],
      "text/plain": [
       "        Id block level  Accuracy\n",
       "0      0.0   0.0   0.0    0.6250\n",
       "1      1.0   0.0   0.0    0.6250\n",
       "2      2.0   0.0   0.0    0.8125\n",
       "3      3.0   0.0   0.0    0.8125\n",
       "4      4.0   0.0   0.0    0.4375\n",
       "...    ...   ...   ...       ...\n",
       "1171  44.0   7.0   2.0    0.3750\n",
       "1172  45.0   7.0   2.0    0.8125\n",
       "1173  46.0   7.0   2.0    0.2500\n",
       "1174  47.0   7.0   2.0    1.0000\n",
       "1175  48.0   7.0   2.0    0.6250\n",
       "\n",
       "[1176 rows x 4 columns]"
      ]
     },
     "execution_count": 58,
     "metadata": {},
     "output_type": "execute_result"
    }
   ],
   "source": [
    "# a function to create a long format dataframe to run the ANOVA fml\n",
    "\n",
    "def construct_long_df(input_list):\n",
    "    \"\"\" a function to create my desired long df\"\"\"\n",
    "\n",
    "    # initalise an empty array\n",
    "    n_parti = input_list[0].shape[0]\n",
    "    n_blocks = input_list[0].shape[1]\n",
    "    long_array = np.full((len(input_list)*n_parti*n_blocks, 4), np.nan)\n",
    "\n",
    "    # initialise the participant ids\n",
    "    ids = np.array(range(n_parti))\n",
    "\n",
    "    # row counter\n",
    "    current_row = 0\n",
    "\n",
    "    for level, arr in enumerate(input_list):\n",
    "        for block in range(n_blocks):\n",
    "\n",
    "            # get the block, level and accuracy arrays\n",
    "            blocks = np.full(subj_acc_first.shape[0], block)\n",
    "            levels = np.full(subj_acc_first.shape[0], level)\n",
    "            accs   = arr[:,block]\n",
    "            \n",
    "            # insert the desired values in our array\n",
    "            long_array[current_row:current_row + n_parti,:] = np.array([ids, blocks, levels, accs]).T\n",
    "\n",
    "            # update the row counter\n",
    "            current_row += 49\n",
    "\n",
    "    # create the dataframe\n",
    "    df_long = pd.DataFrame(long_array, columns=['Id', 'block', 'level', 'Accuracy'])\n",
    "    df_long = df_long.astype({\"Id\": str,'block': str, 'level': str})\n",
    "\n",
    "    return df_long\n",
    "\n",
    "input_list = [subj_acc_first, subj_acc_second, subj_acc_third]\n",
    "df_long = construct_long_df(input_list=input_list)\n",
    "\n",
    "df_long "
   ]
  },
  {
   "cell_type": "code",
   "execution_count": 59,
   "metadata": {},
   "outputs": [],
   "source": [
    "globalenv['accuracy'] = FloatVector(df_long['Accuracy'])\n",
    "globalenv['suj'] = FactorVector(df_long['Id'])\n",
    "globalenv['block'] = FactorVector(df_long['block'])\n",
    "globalenv['level'] = FactorVector(df_long['level'])"
   ]
  },
  {
   "cell_type": "code",
   "execution_count": 72,
   "metadata": {},
   "outputs": [
    {
     "name": "stderr",
     "output_type": "stream",
     "text": [
      "R[write to console]: Warning:\n",
      "R[write to console]:  Converting \"Id\" to factor for ANOVA.\n",
      "\n",
      "R[write to console]: Warning:\n",
      "R[write to console]:  Converting \"block\" to factor for ANOVA.\n",
      "\n",
      "R[write to console]: Warning:\n",
      "R[write to console]:  Converting \"level\" to factor for ANOVA.\n",
      "\n"
     ]
    },
    {
     "name": "stdout",
     "output_type": "stream",
     "text": [
      "$ANOVA\n",
      "       Effect DFn DFd        SSn       SSd           F            p p<.05\n",
      "1 (Intercept)   1  48 643.899902 19.522461 1583.160822 2.066082e-38     *\n",
      "2       block   7 336   7.723849  8.904569   41.635337 4.569080e-42     *\n",
      "3       level   2  96  14.894133  7.230867   98.870348 4.861178e-24     *\n",
      "4 block:level  14 672   0.251807  7.435693    1.625502 6.747331e-02      \n",
      "          ges\n",
      "1 0.937272200\n",
      "2 0.151992088\n",
      "3 0.256849758\n",
      "4 0.005809313\n",
      "\n",
      "$`Mauchly's Test for Sphericity`\n",
      "       Effect         W            p p<.05\n",
      "2       block 0.1437335 2.256692e-08     *\n",
      "3       level 0.5532671 9.098486e-07     *\n",
      "4 block:level 0.0270636 9.412676e-04     *\n",
      "\n",
      "$`Sphericity Corrections`\n",
      "       Effect       GGe        p[GG] p[GG]<.05       HFe        p[HF] p[HF]<.05\n",
      "2       block 0.5891214 8.289681e-26         * 0.6514071 2.819595e-28         *\n",
      "3       level 0.6912126 2.227233e-17         * 0.7050864 1.117008e-17         *\n",
      "4 block:level 0.6708404 1.017877e-01           0.8477032 8.140385e-02          \n",
      "\n",
      "\n"
     ]
    }
   ],
   "source": [
    "anova1 = robjects.r(\"\"\"\n",
    "library(ez)\n",
    "function(df) {\n",
    "    # df gets passed in\n",
    "    ezANOVA(\n",
    "        data=df,\n",
    "        dv=.(Accuracy),\n",
    "        within = .(block, level),\n",
    "        wid=Id, \n",
    "        detailed=TRUE)\n",
    "}\n",
    "\"\"\")\n",
    "print(anova1(df_long))"
   ]
  }
 ],
 "metadata": {
  "kernelspec": {
   "display_name": "Python 3.9.12 ('simple_analysis')",
   "language": "python",
   "name": "python3"
  },
  "language_info": {
   "codemirror_mode": {
    "name": "ipython",
    "version": 3
   },
   "file_extension": ".py",
   "mimetype": "text/x-python",
   "name": "python",
   "nbconvert_exporter": "python",
   "pygments_lexer": "ipython3",
   "version": "3.9.12"
  },
  "orig_nbformat": 4,
  "vscode": {
   "interpreter": {
    "hash": "714c65b6556cc764f3390fa3fd2d33ea130c4e159503f5fc78fc31bdcf5df947"
   }
  }
 },
 "nbformat": 4,
 "nbformat_minor": 2
}
