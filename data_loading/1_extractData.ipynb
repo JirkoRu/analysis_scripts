{
 "cells": [
  {
   "cell_type": "markdown",
   "metadata": {},
   "source": [
    "# Import CSV files, combine them and extract Numpy arrays"
   ]
  },
  {
   "cell_type": "code",
   "execution_count": 89,
   "metadata": {},
   "outputs": [],
   "source": [
    "import numpy as np\n",
    "import pandas as pd\n",
    "import json\n",
    "import os\n",
    "import glob"
   ]
  },
  {
   "cell_type": "markdown",
   "metadata": {},
   "source": [
    "### Import files into pd.DataFrame"
   ]
  },
  {
   "cell_type": "code",
   "execution_count": 90,
   "metadata": {},
   "outputs": [
    {
     "data": {
      "text/plain": [
       "'c:\\\\Users\\\\Jirko\\\\Desktop\\\\Hip_Lab\\\\analysis_scripts\\\\data_loading/data/'"
      ]
     },
     "execution_count": 90,
     "metadata": {},
     "output_type": "execute_result"
    }
   ],
   "source": [
    "dname = os.getcwd() + '/data/'\n",
    "dname"
   ]
  },
  {
   "cell_type": "code",
   "execution_count": 91,
   "metadata": {},
   "outputs": [
    {
     "data": {
      "text/plain": [
       "['c:\\\\Users\\\\Jirko\\\\Desktop\\\\Hip_Lab\\\\analysis_scripts\\\\data_loading/data\\\\B4FtJYIUmklC.txt',\n",
       " 'c:\\\\Users\\\\Jirko\\\\Desktop\\\\Hip_Lab\\\\analysis_scripts\\\\data_loading/data\\\\i7qSWNyQDEZw.txt',\n",
       " 'c:\\\\Users\\\\Jirko\\\\Desktop\\\\Hip_Lab\\\\analysis_scripts\\\\data_loading/data\\\\KpejNvQQPjXk.txt',\n",
       " 'c:\\\\Users\\\\Jirko\\\\Desktop\\\\Hip_Lab\\\\analysis_scripts\\\\data_loading/data\\\\VeRhCWexiown.txt']"
      ]
     },
     "execution_count": 91,
     "metadata": {},
     "output_type": "execute_result"
    }
   ],
   "source": [
    "fnames = glob.glob(dname + '*.txt')\n",
    "fnames = fnames[:4]\n",
    "fnames"
   ]
  },
  {
   "cell_type": "code",
   "execution_count": 92,
   "metadata": {},
   "outputs": [
    {
     "name": "stderr",
     "output_type": "stream",
     "text": [
      "C:\\Users\\Jirko\\AppData\\Local\\Temp\\ipykernel_9552\\66902968.py:15: FutureWarning: The frame.append method is deprecated and will be removed from pandas in a future version. Use pandas.concat instead.\n",
      "  DF = DF.append(df, ignore_index=True)\n",
      "C:\\Users\\Jirko\\AppData\\Local\\Temp\\ipykernel_9552\\66902968.py:15: FutureWarning: The frame.append method is deprecated and will be removed from pandas in a future version. Use pandas.concat instead.\n",
      "  DF = DF.append(df, ignore_index=True)\n",
      "C:\\Users\\Jirko\\AppData\\Local\\Temp\\ipykernel_9552\\66902968.py:15: FutureWarning: The frame.append method is deprecated and will be removed from pandas in a future version. Use pandas.concat instead.\n",
      "  DF = DF.append(df, ignore_index=True)\n",
      "C:\\Users\\Jirko\\AppData\\Local\\Temp\\ipykernel_9552\\66902968.py:15: FutureWarning: The frame.append method is deprecated and will be removed from pandas in a future version. Use pandas.concat instead.\n",
      "  DF = DF.append(df, ignore_index=True)\n"
     ]
    }
   ],
   "source": [
    "DF = pd.DataFrame()\n",
    "for i, fname in enumerate(fnames):\n",
    "\n",
    "    with open(fname) as f:\n",
    "        # read the data and transform to a dictionary\n",
    "        data = f.read() \n",
    "        js = json.loads(data)\n",
    "        # enter the dict into a dataframe\n",
    "        df = pd.DataFrame.from_dict(js[\"sdata\"], orient='index')\n",
    "        df = df.transpose() # small hack to load data into dataframe\n",
    "        # add a participant ID\n",
    "        df.insert(loc=0, column=\"id\", value=i)\n",
    "    \n",
    "    # Append to the big dataFrame\n",
    "    DF = DF.append(df, ignore_index=True)"
   ]
  },
  {
   "cell_type": "markdown",
   "metadata": {},
   "source": [
    "### Explore DataFrame"
   ]
  },
  {
   "cell_type": "code",
   "execution_count": 93,
   "metadata": {},
   "outputs": [
    {
     "data": {
      "text/html": [
       "<div>\n",
       "<style scoped>\n",
       "    .dataframe tbody tr th:only-of-type {\n",
       "        vertical-align: middle;\n",
       "    }\n",
       "\n",
       "    .dataframe tbody tr th {\n",
       "        vertical-align: top;\n",
       "    }\n",
       "\n",
       "    .dataframe thead th {\n",
       "        text-align: right;\n",
       "    }\n",
       "</style>\n",
       "<table border=\"1\" class=\"dataframe\">\n",
       "  <thead>\n",
       "    <tr style=\"text-align: right;\">\n",
       "      <th></th>\n",
       "      <th>id</th>\n",
       "      <th>expt_index</th>\n",
       "      <th>expt_trial</th>\n",
       "      <th>expt_block</th>\n",
       "      <th>trial_att</th>\n",
       "      <th>vbxi_category</th>\n",
       "      <th>exemplar</th>\n",
       "      <th>trialProperties</th>\n",
       "      <th>trialPropShuff</th>\n",
       "      <th>relevProps</th>\n",
       "      <th>relevPropsShuff</th>\n",
       "      <th>resp_timestamp</th>\n",
       "      <th>resp_reactiontime</th>\n",
       "      <th>property_order</th>\n",
       "      <th>resp_correct_array</th>\n",
       "      <th>resp_correct_array_unshuf</th>\n",
       "      <th>prop_responses</th>\n",
       "      <th>groundTruthCorrect</th>\n",
       "      <th>groundTruthCorrect_unshuf</th>\n",
       "      <th>resp_indices</th>\n",
       "      <th>resp_indices_values</th>\n",
       "    </tr>\n",
       "  </thead>\n",
       "  <tbody>\n",
       "    <tr>\n",
       "      <th>0</th>\n",
       "      <td>0</td>\n",
       "      <td>0</td>\n",
       "      <td>0</td>\n",
       "      <td>0</td>\n",
       "      <td>1</td>\n",
       "      <td>7</td>\n",
       "      <td>2</td>\n",
       "      <td>[1, 0, 1, 0, 0, 0, 1]</td>\n",
       "      <td>[[1, 1, 0, 0, 0, 1, 0], [1, 1, 0, 0, 0, 1, 0]]</td>\n",
       "      <td>None</td>\n",
       "      <td>[]</td>\n",
       "      <td>[1655033270949, 1655033281035]</td>\n",
       "      <td>[8.285, 18.371]</td>\n",
       "      <td>[[6, 2, 4, 1, 5, 0, 3], [6, 0, 4, 1, 5, 2, 3]]</td>\n",
       "      <td>[[None, True, None, False, None, True, None], ...</td>\n",
       "      <td>[[True, False, True, None, None, None, None], ...</td>\n",
       "      <td>[[None, 1, None, 1, None, 1, None], [1, 1, Non...</td>\n",
       "      <td>[[0, 1, 1, 0, 1, 1, 1], [1, 1, 1, 1, 1, 1, 1]]</td>\n",
       "      <td>[[1, 0, 1, 1, 1, 1, 0], [1, 1, 1, 1, 1, 1, 1]]</td>\n",
       "      <td>[[1, 3, 5], [1, 5, 0]]</td>\n",
       "      <td>[[1, 1, 1], [1, 1, 1]]</td>\n",
       "    </tr>\n",
       "    <tr>\n",
       "      <th>1</th>\n",
       "      <td>0</td>\n",
       "      <td>1</td>\n",
       "      <td>1</td>\n",
       "      <td>0</td>\n",
       "      <td>1</td>\n",
       "      <td>2</td>\n",
       "      <td>0</td>\n",
       "      <td>[1, 1, 0, 0, 1, 0, 0]</td>\n",
       "      <td>[[1, 1, 0, 1, 0, 0, 0], [0, 1, 0, 0, 1, 1, 0]]</td>\n",
       "      <td>None</td>\n",
       "      <td>[]</td>\n",
       "      <td>[1655033288403, 1655033297851]</td>\n",
       "      <td>[5.363, 14.811]</td>\n",
       "      <td>[[4, 0, 6, 1, 5, 2, 3], [5, 4, 6, 3, 0, 1, 2]]</td>\n",
       "      <td>[[None, True, False, None, None, False, None],...</td>\n",
       "      <td>[[True, None, False, None, None, None, False],...</td>\n",
       "      <td>[[None, 1, 1, None, None, 1, None], [None, 1, ...</td>\n",
       "      <td>[[0, 1, 0, 0, 1, 0, 1], [1, 1, 1, 1, 1, 1, 1]]</td>\n",
       "      <td>[[1, 0, 0, 1, 0, 1, 0], [1, 1, 1, 1, 1, 1, 1]]</td>\n",
       "      <td>[[1, 5, 2], [1, 4, 5]]</td>\n",
       "      <td>[[1, 1, 1], [1, 1, 1]]</td>\n",
       "    </tr>\n",
       "    <tr>\n",
       "      <th>2</th>\n",
       "      <td>0</td>\n",
       "      <td>2</td>\n",
       "      <td>2</td>\n",
       "      <td>0</td>\n",
       "      <td>1</td>\n",
       "      <td>6</td>\n",
       "      <td>0</td>\n",
       "      <td>[1, 0, 1, 0, 0, 0, 1]</td>\n",
       "      <td>[[0, 0, 1, 0, 1, 0, 1], [0, 0, 1, 1, 0, 1, 0]]</td>\n",
       "      <td>None</td>\n",
       "      <td>[]</td>\n",
       "      <td>[1655033305844, 1655033314850]</td>\n",
       "      <td>[5.988, 14.994]</td>\n",
       "      <td>[[4, 1, 6, 5, 0, 3, 2], [5, 1, 2, 6, 3, 0, 4]]</td>\n",
       "      <td>[[None, None, None, False, None, False, True],...</td>\n",
       "      <td>[[None, None, True, False, None, False, None],...</td>\n",
       "      <td>[[None, None, None, 1, None, 1, 1], [None, Non...</td>\n",
       "      <td>[[1, 1, 0, 0, 0, 0, 1], [1, 1, 1, 1, 1, 1, 1]]</td>\n",
       "      <td>[[0, 1, 1, 0, 1, 0, 0], [1, 1, 1, 1, 1, 1, 1]]</td>\n",
       "      <td>[[3, 5, 6], [3, 5, 2]]</td>\n",
       "      <td>[[1, 1, 1], [1, 1, 1]]</td>\n",
       "    </tr>\n",
       "  </tbody>\n",
       "</table>\n",
       "</div>"
      ],
      "text/plain": [
       "   id expt_index expt_trial expt_block trial_att vbxi_category exemplar  \\\n",
       "0   0          0          0          0         1             7        2   \n",
       "1   0          1          1          0         1             2        0   \n",
       "2   0          2          2          0         1             6        0   \n",
       "\n",
       "         trialProperties                                  trialPropShuff  \\\n",
       "0  [1, 0, 1, 0, 0, 0, 1]  [[1, 1, 0, 0, 0, 1, 0], [1, 1, 0, 0, 0, 1, 0]]   \n",
       "1  [1, 1, 0, 0, 1, 0, 0]  [[1, 1, 0, 1, 0, 0, 0], [0, 1, 0, 0, 1, 1, 0]]   \n",
       "2  [1, 0, 1, 0, 0, 0, 1]  [[0, 0, 1, 0, 1, 0, 1], [0, 0, 1, 1, 0, 1, 0]]   \n",
       "\n",
       "  relevProps relevPropsShuff                  resp_timestamp  \\\n",
       "0       None              []  [1655033270949, 1655033281035]   \n",
       "1       None              []  [1655033288403, 1655033297851]   \n",
       "2       None              []  [1655033305844, 1655033314850]   \n",
       "\n",
       "  resp_reactiontime                                  property_order  \\\n",
       "0   [8.285, 18.371]  [[6, 2, 4, 1, 5, 0, 3], [6, 0, 4, 1, 5, 2, 3]]   \n",
       "1   [5.363, 14.811]  [[4, 0, 6, 1, 5, 2, 3], [5, 4, 6, 3, 0, 1, 2]]   \n",
       "2   [5.988, 14.994]  [[4, 1, 6, 5, 0, 3, 2], [5, 1, 2, 6, 3, 0, 4]]   \n",
       "\n",
       "                                  resp_correct_array  \\\n",
       "0  [[None, True, None, False, None, True, None], ...   \n",
       "1  [[None, True, False, None, None, False, None],...   \n",
       "2  [[None, None, None, False, None, False, True],...   \n",
       "\n",
       "                           resp_correct_array_unshuf  \\\n",
       "0  [[True, False, True, None, None, None, None], ...   \n",
       "1  [[True, None, False, None, None, None, False],...   \n",
       "2  [[None, None, True, False, None, False, None],...   \n",
       "\n",
       "                                      prop_responses  \\\n",
       "0  [[None, 1, None, 1, None, 1, None], [1, 1, Non...   \n",
       "1  [[None, 1, 1, None, None, 1, None], [None, 1, ...   \n",
       "2  [[None, None, None, 1, None, 1, 1], [None, Non...   \n",
       "\n",
       "                               groundTruthCorrect  \\\n",
       "0  [[0, 1, 1, 0, 1, 1, 1], [1, 1, 1, 1, 1, 1, 1]]   \n",
       "1  [[0, 1, 0, 0, 1, 0, 1], [1, 1, 1, 1, 1, 1, 1]]   \n",
       "2  [[1, 1, 0, 0, 0, 0, 1], [1, 1, 1, 1, 1, 1, 1]]   \n",
       "\n",
       "                        groundTruthCorrect_unshuf            resp_indices  \\\n",
       "0  [[1, 0, 1, 1, 1, 1, 0], [1, 1, 1, 1, 1, 1, 1]]  [[1, 3, 5], [1, 5, 0]]   \n",
       "1  [[1, 0, 0, 1, 0, 1, 0], [1, 1, 1, 1, 1, 1, 1]]  [[1, 5, 2], [1, 4, 5]]   \n",
       "2  [[0, 1, 1, 0, 1, 0, 0], [1, 1, 1, 1, 1, 1, 1]]  [[3, 5, 6], [3, 5, 2]]   \n",
       "\n",
       "      resp_indices_values  \n",
       "0  [[1, 1, 1], [1, 1, 1]]  \n",
       "1  [[1, 1, 1], [1, 1, 1]]  \n",
       "2  [[1, 1, 1], [1, 1, 1]]  "
      ]
     },
     "execution_count": 93,
     "metadata": {},
     "output_type": "execute_result"
    }
   ],
   "source": [
    "pd.set_option('display.max_columns', None)\n",
    "DF.shape\n",
    "DF.head(3)"
   ]
  },
  {
   "cell_type": "markdown",
   "metadata": {},
   "source": [
    "### Filter responses"
   ]
  },
  {
   "cell_type": "code",
   "execution_count": 94,
   "metadata": {},
   "outputs": [
    {
     "data": {
      "text/html": [
       "<div>\n",
       "<style scoped>\n",
       "    .dataframe tbody tr th:only-of-type {\n",
       "        vertical-align: middle;\n",
       "    }\n",
       "\n",
       "    .dataframe tbody tr th {\n",
       "        vertical-align: top;\n",
       "    }\n",
       "\n",
       "    .dataframe thead th {\n",
       "        text-align: right;\n",
       "    }\n",
       "</style>\n",
       "<table border=\"1\" class=\"dataframe\">\n",
       "  <thead>\n",
       "    <tr style=\"text-align: right;\">\n",
       "      <th></th>\n",
       "      <th>id</th>\n",
       "      <th>expt_index</th>\n",
       "      <th>expt_trial</th>\n",
       "      <th>expt_block</th>\n",
       "      <th>trial_att</th>\n",
       "      <th>vbxi_category</th>\n",
       "      <th>exemplar</th>\n",
       "      <th>trialProperties</th>\n",
       "      <th>trialPropShuff</th>\n",
       "      <th>resp_timestamp</th>\n",
       "      <th>resp_reactiontime</th>\n",
       "      <th>property_order</th>\n",
       "      <th>resp_correct_array</th>\n",
       "      <th>resp_correct_array_unshuf</th>\n",
       "      <th>prop_responses</th>\n",
       "      <th>groundTruthCorrect</th>\n",
       "      <th>groundTruthCorrect_unshuf</th>\n",
       "      <th>resp_indices</th>\n",
       "      <th>resp_indices_values</th>\n",
       "    </tr>\n",
       "  </thead>\n",
       "  <tbody>\n",
       "    <tr>\n",
       "      <th>0</th>\n",
       "      <td>0</td>\n",
       "      <td>0</td>\n",
       "      <td>0</td>\n",
       "      <td>0</td>\n",
       "      <td>1</td>\n",
       "      <td>7</td>\n",
       "      <td>2</td>\n",
       "      <td>[1, 0, 1, 0, 0, 0, 1]</td>\n",
       "      <td>[[1, 1, 0, 0, 0, 1, 0], [1, 1, 0, 0, 0, 1, 0]]</td>\n",
       "      <td>[1655033270949, 1655033281035]</td>\n",
       "      <td>[8.285, 18.371]</td>\n",
       "      <td>[[6, 2, 4, 1, 5, 0, 3], [6, 0, 4, 1, 5, 2, 3]]</td>\n",
       "      <td>[[None, True, None, False, None, True, None], ...</td>\n",
       "      <td>[[True, False, True, None, None, None, None], ...</td>\n",
       "      <td>[[None, 1, None, 1, None, 1, None], [1, 1, Non...</td>\n",
       "      <td>[[0, 1, 1, 0, 1, 1, 1], [1, 1, 1, 1, 1, 1, 1]]</td>\n",
       "      <td>[[1, 0, 1, 1, 1, 1, 0], [1, 1, 1, 1, 1, 1, 1]]</td>\n",
       "      <td>[[1, 3, 5], [1, 5, 0]]</td>\n",
       "      <td>[[1, 1, 1], [1, 1, 1]]</td>\n",
       "    </tr>\n",
       "    <tr>\n",
       "      <th>1</th>\n",
       "      <td>0</td>\n",
       "      <td>1</td>\n",
       "      <td>1</td>\n",
       "      <td>0</td>\n",
       "      <td>1</td>\n",
       "      <td>2</td>\n",
       "      <td>0</td>\n",
       "      <td>[1, 1, 0, 0, 1, 0, 0]</td>\n",
       "      <td>[[1, 1, 0, 1, 0, 0, 0], [0, 1, 0, 0, 1, 1, 0]]</td>\n",
       "      <td>[1655033288403, 1655033297851]</td>\n",
       "      <td>[5.363, 14.811]</td>\n",
       "      <td>[[4, 0, 6, 1, 5, 2, 3], [5, 4, 6, 3, 0, 1, 2]]</td>\n",
       "      <td>[[None, True, False, None, None, False, None],...</td>\n",
       "      <td>[[True, None, False, None, None, None, False],...</td>\n",
       "      <td>[[None, 1, 1, None, None, 1, None], [None, 1, ...</td>\n",
       "      <td>[[0, 1, 0, 0, 1, 0, 1], [1, 1, 1, 1, 1, 1, 1]]</td>\n",
       "      <td>[[1, 0, 0, 1, 0, 1, 0], [1, 1, 1, 1, 1, 1, 1]]</td>\n",
       "      <td>[[1, 5, 2], [1, 4, 5]]</td>\n",
       "      <td>[[1, 1, 1], [1, 1, 1]]</td>\n",
       "    </tr>\n",
       "    <tr>\n",
       "      <th>2</th>\n",
       "      <td>0</td>\n",
       "      <td>2</td>\n",
       "      <td>2</td>\n",
       "      <td>0</td>\n",
       "      <td>1</td>\n",
       "      <td>6</td>\n",
       "      <td>0</td>\n",
       "      <td>[1, 0, 1, 0, 0, 0, 1]</td>\n",
       "      <td>[[0, 0, 1, 0, 1, 0, 1], [0, 0, 1, 1, 0, 1, 0]]</td>\n",
       "      <td>[1655033305844, 1655033314850]</td>\n",
       "      <td>[5.988, 14.994]</td>\n",
       "      <td>[[4, 1, 6, 5, 0, 3, 2], [5, 1, 2, 6, 3, 0, 4]]</td>\n",
       "      <td>[[None, None, None, False, None, False, True],...</td>\n",
       "      <td>[[None, None, True, False, None, False, None],...</td>\n",
       "      <td>[[None, None, None, 1, None, 1, 1], [None, Non...</td>\n",
       "      <td>[[1, 1, 0, 0, 0, 0, 1], [1, 1, 1, 1, 1, 1, 1]]</td>\n",
       "      <td>[[0, 1, 1, 0, 1, 0, 0], [1, 1, 1, 1, 1, 1, 1]]</td>\n",
       "      <td>[[3, 5, 6], [3, 5, 2]]</td>\n",
       "      <td>[[1, 1, 1], [1, 1, 1]]</td>\n",
       "    </tr>\n",
       "  </tbody>\n",
       "</table>\n",
       "</div>"
      ],
      "text/plain": [
       "   id expt_index expt_trial expt_block trial_att vbxi_category exemplar  \\\n",
       "0   0          0          0          0         1             7        2   \n",
       "1   0          1          1          0         1             2        0   \n",
       "2   0          2          2          0         1             6        0   \n",
       "\n",
       "         trialProperties                                  trialPropShuff  \\\n",
       "0  [1, 0, 1, 0, 0, 0, 1]  [[1, 1, 0, 0, 0, 1, 0], [1, 1, 0, 0, 0, 1, 0]]   \n",
       "1  [1, 1, 0, 0, 1, 0, 0]  [[1, 1, 0, 1, 0, 0, 0], [0, 1, 0, 0, 1, 1, 0]]   \n",
       "2  [1, 0, 1, 0, 0, 0, 1]  [[0, 0, 1, 0, 1, 0, 1], [0, 0, 1, 1, 0, 1, 0]]   \n",
       "\n",
       "                   resp_timestamp resp_reactiontime  \\\n",
       "0  [1655033270949, 1655033281035]   [8.285, 18.371]   \n",
       "1  [1655033288403, 1655033297851]   [5.363, 14.811]   \n",
       "2  [1655033305844, 1655033314850]   [5.988, 14.994]   \n",
       "\n",
       "                                   property_order  \\\n",
       "0  [[6, 2, 4, 1, 5, 0, 3], [6, 0, 4, 1, 5, 2, 3]]   \n",
       "1  [[4, 0, 6, 1, 5, 2, 3], [5, 4, 6, 3, 0, 1, 2]]   \n",
       "2  [[4, 1, 6, 5, 0, 3, 2], [5, 1, 2, 6, 3, 0, 4]]   \n",
       "\n",
       "                                  resp_correct_array  \\\n",
       "0  [[None, True, None, False, None, True, None], ...   \n",
       "1  [[None, True, False, None, None, False, None],...   \n",
       "2  [[None, None, None, False, None, False, True],...   \n",
       "\n",
       "                           resp_correct_array_unshuf  \\\n",
       "0  [[True, False, True, None, None, None, None], ...   \n",
       "1  [[True, None, False, None, None, None, False],...   \n",
       "2  [[None, None, True, False, None, False, None],...   \n",
       "\n",
       "                                      prop_responses  \\\n",
       "0  [[None, 1, None, 1, None, 1, None], [1, 1, Non...   \n",
       "1  [[None, 1, 1, None, None, 1, None], [None, 1, ...   \n",
       "2  [[None, None, None, 1, None, 1, 1], [None, Non...   \n",
       "\n",
       "                               groundTruthCorrect  \\\n",
       "0  [[0, 1, 1, 0, 1, 1, 1], [1, 1, 1, 1, 1, 1, 1]]   \n",
       "1  [[0, 1, 0, 0, 1, 0, 1], [1, 1, 1, 1, 1, 1, 1]]   \n",
       "2  [[1, 1, 0, 0, 0, 0, 1], [1, 1, 1, 1, 1, 1, 1]]   \n",
       "\n",
       "                        groundTruthCorrect_unshuf            resp_indices  \\\n",
       "0  [[1, 0, 1, 1, 1, 1, 0], [1, 1, 1, 1, 1, 1, 1]]  [[1, 3, 5], [1, 5, 0]]   \n",
       "1  [[1, 0, 0, 1, 0, 1, 0], [1, 1, 1, 1, 1, 1, 1]]  [[1, 5, 2], [1, 4, 5]]   \n",
       "2  [[0, 1, 1, 0, 1, 0, 0], [1, 1, 1, 1, 1, 1, 1]]  [[3, 5, 6], [3, 5, 2]]   \n",
       "\n",
       "      resp_indices_values  \n",
       "0  [[1, 1, 1], [1, 1, 1]]  \n",
       "1  [[1, 1, 1], [1, 1, 1]]  \n",
       "2  [[1, 1, 1], [1, 1, 1]]  "
      ]
     },
     "execution_count": 94,
     "metadata": {},
     "output_type": "execute_result"
    }
   ],
   "source": [
    "# drop redundant columns\n",
    "DF.drop(columns=[\"relevProps\", \"relevPropsShuff\"], inplace=True)\n",
    "DF.head(3)"
   ]
  },
  {
   "cell_type": "markdown",
   "metadata": {},
   "source": [
    "### Save full DataFrame to CSV"
   ]
  },
  {
   "cell_type": "code",
   "execution_count": 95,
   "metadata": {},
   "outputs": [],
   "source": [
    "DF.to_csv(dname + 'full_data.csv')"
   ]
  },
  {
   "cell_type": "markdown",
   "metadata": {},
   "source": [
    "### Retreive parameters"
   ]
  },
  {
   "cell_type": "code",
   "execution_count": 96,
   "metadata": {},
   "outputs": [
    {
     "data": {
      "text/plain": [
       "4"
      ]
     },
     "execution_count": 96,
     "metadata": {},
     "output_type": "execute_result"
    }
   ],
   "source": [
    "sujs = DF['id'].unique()\n",
    "n_sujs = sujs.size\n",
    "n_sujs"
   ]
  },
  {
   "cell_type": "code",
   "execution_count": 97,
   "metadata": {},
   "outputs": [
    {
     "data": {
      "text/plain": [
       "64"
      ]
     },
     "execution_count": 97,
     "metadata": {},
     "output_type": "execute_result"
    }
   ],
   "source": [
    "n_trials_per_suj = DF.loc[DF['id'] == sujs[0]].shape[0]\n",
    "n_trials_per_suj"
   ]
  },
  {
   "cell_type": "code",
   "execution_count": 98,
   "metadata": {},
   "outputs": [
    {
     "data": {
      "text/plain": [
       "4"
      ]
     },
     "execution_count": 98,
     "metadata": {},
     "output_type": "execute_result"
    }
   ],
   "source": [
    "n_blocs = DF['expt_block'].unique().size\n",
    "n_blocs"
   ]
  },
  {
   "cell_type": "code",
   "execution_count": 99,
   "metadata": {},
   "outputs": [
    {
     "data": {
      "text/plain": [
       "16"
      ]
     },
     "execution_count": 99,
     "metadata": {},
     "output_type": "execute_result"
    }
   ],
   "source": [
    "n_trials_per_block = int(n_trials_per_suj/n_blocs)\n",
    "n_trials_per_block"
   ]
  },
  {
   "cell_type": "markdown",
   "metadata": {},
   "source": [
    "### Put data in numpy arrays"
   ]
  },
  {
   "cell_type": "code",
   "execution_count": 103,
   "metadata": {},
   "outputs": [],
   "source": [
    "ACCURACY = np.full((n_sujs, n_blocs, n_trials_per_block), np.nan)\n",
    "acc_first_prop = np.full((n_sujs, n_blocs, n_trials_per_block), np.nan)\n",
    "acc_second_prop = np.full((n_sujs, n_blocs, n_trials_per_block), np.nan)\n",
    "acc_third_prop = np.full((n_sujs, n_blocs, n_trials_per_block), np.nan)\n",
    "# RT = np.full((n_sujs, n_blocs, n_trial), np.nan)\n",
    "# BLOC_TYPE = np.full((n_sujs, n_blocs), np.nan, dtype=np.object)\n",
    "\n",
    "# Loop across participant and blocs\n",
    "for i, suj in enumerate(sujs):\n",
    "    for block in range(n_blocs):\n",
    "\n",
    "        # Select lines in the DataFrame\n",
    "        _DF = DF.loc[(DF['id'] == suj) & (DF['expt_block'] == block)]\n",
    "\n",
    "        # Accuracy \n",
    "        ACCURACY[i, block, :_DF.shape[0]] = _DF['groundTruthCorrect_unshuf'].apply(lambda x: np.sum(x[0])/len(x[0]))\n",
    "        # accuracy on first property\n",
    "        acc_first_prop[i, block, :_DF.shape[0]] = _DF['groundTruthCorrect_unshuf'].apply(lambda x: np.sum(x[0][0]))\n",
    "        # accuracy on second property\n",
    "        acc_second_prop[i, block, :_DF.shape[0]] = _DF['groundTruthCorrect_unshuf'].apply(lambda x: np.sum(x[0][1:3])/2)\n",
    "        # accuracy on second property\n",
    "        acc_third_prop[i, block, :_DF.shape[0]] = _DF['groundTruthCorrect_unshuf'].apply(lambda x: np.sum(x[0][3:])/4)\n",
    "        # Reaction times\n",
    "        # RT[i, j, :_DF.shape[0]] = _DF['data : \"rt\"']\n",
    "        \n",
    "        # Bloc type\n",
    "        # BLOC_TYPE[i, j] = _DF['bloc_type'].unique()[0]"
   ]
  },
  {
   "cell_type": "markdown",
   "metadata": {},
   "source": [
    "### Save data as numpy arrays"
   ]
  },
  {
   "cell_type": "code",
   "execution_count": 104,
   "metadata": {},
   "outputs": [],
   "source": [
    "np.save(dname + 'ACCURACY.npy', ACCURACY)\n",
    "np.save(dname + 'Acc_first_prop.npy', acc_first_prop)\n",
    "np.save(dname + 'acc_second_prop.npy', acc_second_prop)\n",
    "np.save(dname + 'acc_third_prop.npy', acc_third_prop)\n",
    "# np.save(dname + 'SUJS.npy', sujs)"
   ]
  }
 ],
 "metadata": {
  "kernelspec": {
   "display_name": "Python 3.9.12 ('simple_analysis')",
   "language": "python",
   "name": "python3"
  },
  "language_info": {
   "codemirror_mode": {
    "name": "ipython",
    "version": 3
   },
   "file_extension": ".py",
   "mimetype": "text/x-python",
   "name": "python",
   "nbconvert_exporter": "python",
   "pygments_lexer": "ipython3",
   "version": "3.9.12"
  },
  "vscode": {
   "interpreter": {
    "hash": "714c65b6556cc764f3390fa3fd2d33ea130c4e159503f5fc78fc31bdcf5df947"
   }
  }
 },
 "nbformat": 4,
 "nbformat_minor": 4
}
