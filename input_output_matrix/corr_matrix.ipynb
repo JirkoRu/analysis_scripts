{
 "cells": [
  {
   "cell_type": "markdown",
   "metadata": {},
   "source": [
    "Import statements"
   ]
  },
  {
   "cell_type": "code",
   "execution_count": 157,
   "metadata": {},
   "outputs": [],
   "source": [
    "import numpy as np\n",
    "import pandas as pd\n",
    "import re\n",
    "import os\n",
    "import glob\n",
    "from ast import literal_eval\n",
    "import matplotlib.pyplot as plt\n",
    "import matplotlib\n",
    "import matplotlib.colors as colors"
   ]
  },
  {
   "cell_type": "markdown",
   "metadata": {},
   "source": [
    "Load the Data adequately"
   ]
  },
  {
   "cell_type": "code",
   "execution_count": 7,
   "metadata": {},
   "outputs": [
    {
     "data": {
      "text/plain": [
       "'c:\\\\Users\\\\Jirko\\\\Desktop\\\\Hip_Lab\\\\analysis_scripts/data_loading/data_v2_quotes/'"
      ]
     },
     "execution_count": 7,
     "metadata": {},
     "output_type": "execute_result"
    }
   ],
   "source": [
    "# the name of our directory\n",
    "dname = os.path.dirname(os.getcwd()) + \"/data_loading/data_v2_quotes/\"\n",
    "dname"
   ]
  },
  {
   "cell_type": "code",
   "execution_count": 50,
   "metadata": {},
   "outputs": [
    {
     "data": {
      "text/plain": [
       "(1280, 16)"
      ]
     },
     "execution_count": 50,
     "metadata": {},
     "output_type": "execute_result"
    }
   ],
   "source": [
    "# load the data\n",
    "df = pd.read_csv(dname + \"full_data.csv\")\n",
    "# drop redundant columns\n",
    "df.drop(columns=[\"trial_bonus\", \"block_bonus\", \"resp_indices\", \"resp_indices_values\", \"resp_timestamp\", \"resp_reactiontime\"], inplace=True)\n",
    "df.head(3)"
   ]
  },
  {
   "cell_type": "code",
   "execution_count": 105,
   "metadata": {},
   "outputs": [
    {
     "name": "stdout",
     "output_type": "stream",
     "text": [
      "[0 1 2 3 4 5 6 7 8 9]\n"
     ]
    },
    {
     "data": {
      "text/html": [
       "<div>\n",
       "<style scoped>\n",
       "    .dataframe tbody tr th:only-of-type {\n",
       "        vertical-align: middle;\n",
       "    }\n",
       "\n",
       "    .dataframe tbody tr th {\n",
       "        vertical-align: top;\n",
       "    }\n",
       "\n",
       "    .dataframe thead th {\n",
       "        text-align: right;\n",
       "    }\n",
       "</style>\n",
       "<table border=\"1\" class=\"dataframe\">\n",
       "  <thead>\n",
       "    <tr style=\"text-align: right;\">\n",
       "      <th></th>\n",
       "      <th>Unnamed: 0</th>\n",
       "      <th>id</th>\n",
       "      <th>expt_index</th>\n",
       "      <th>expt_trial</th>\n",
       "      <th>expt_block</th>\n",
       "      <th>trial_att</th>\n",
       "      <th>vbxi_category</th>\n",
       "      <th>exemplar</th>\n",
       "      <th>trialProperties</th>\n",
       "      <th>trialPropShuff</th>\n",
       "      <th>property_order</th>\n",
       "      <th>resp_correct_array</th>\n",
       "      <th>resp_correct_array_unshuf</th>\n",
       "      <th>prop_responses</th>\n",
       "      <th>groundTruthCorrect</th>\n",
       "      <th>groundTruthCorrect_unshuf</th>\n",
       "    </tr>\n",
       "  </thead>\n",
       "  <tbody>\n",
       "    <tr>\n",
       "      <th>3</th>\n",
       "      <td>3</td>\n",
       "      <td>0</td>\n",
       "      <td>3</td>\n",
       "      <td>3</td>\n",
       "      <td>0</td>\n",
       "      <td>1</td>\n",
       "      <td>0</td>\n",
       "      <td>13</td>\n",
       "      <td>[1, 1, 0, 1, 0, 0, 0]</td>\n",
       "      <td>[[1, 0, 1, 0, 1, 0, 0], [1, 1, 0, 0, 0, 0, 1]]</td>\n",
       "      <td>[[0, 6, 1, 5, 3, 4, 2], [1, 0, 6, 2, 5, 4, 3]]</td>\n",
       "      <td>[[None, False, None, False, True, None, None],...</td>\n",
       "      <td>[[None, None, None, True, None, False, False],...</td>\n",
       "      <td>[[None, 1, None, 1, 1, None, None], [1, 1, Non...</td>\n",
       "      <td>[[0, 0, 0, 0, 1, 1, 1], [1, 1, 1, 1, 1, 1, 1]]</td>\n",
       "      <td>[[0, 0, 1, 1, 1, 0, 0], [1, 1, 1, 1, 1, 1, 1]]</td>\n",
       "    </tr>\n",
       "    <tr>\n",
       "      <th>5</th>\n",
       "      <td>5</td>\n",
       "      <td>0</td>\n",
       "      <td>5</td>\n",
       "      <td>5</td>\n",
       "      <td>0</td>\n",
       "      <td>1</td>\n",
       "      <td>1</td>\n",
       "      <td>9</td>\n",
       "      <td>[1, 1, 0, 1, 0, 0, 0]</td>\n",
       "      <td>[[0, 1, 1, 0, 0, 1, 0], [0, 0, 1, 0, 0, 1, 1]]</td>\n",
       "      <td>[[2, 3, 0, 4, 6, 1, 5], [2, 6, 1, 5, 4, 0, 3]]</td>\n",
       "      <td>[[None, None, None, False, False, True, None],...</td>\n",
       "      <td>[[None, True, None, None, False, None, False],...</td>\n",
       "      <td>[[None, None, None, 1, 1, 1, None], [None, Non...</td>\n",
       "      <td>[[1, 0, 0, 0, 0, 1, 1], [1, 1, 1, 1, 1, 1, 1]]</td>\n",
       "      <td>[[0, 1, 1, 0, 0, 1, 0], [1, 1, 1, 1, 1, 1, 1]]</td>\n",
       "    </tr>\n",
       "    <tr>\n",
       "      <th>7</th>\n",
       "      <td>7</td>\n",
       "      <td>0</td>\n",
       "      <td>7</td>\n",
       "      <td>7</td>\n",
       "      <td>0</td>\n",
       "      <td>0</td>\n",
       "      <td>0</td>\n",
       "      <td>10</td>\n",
       "      <td>[1, 1, 0, 1, 0, 0, 0]</td>\n",
       "      <td>[[1, 0, 0, 1, 0, 0, 1]]</td>\n",
       "      <td>[[0, 2, 4, 3, 5, 6, 1]]</td>\n",
       "      <td>[[True, None, None, True, None, None, True]]</td>\n",
       "      <td>[[True, True, None, True, None, None, None]]</td>\n",
       "      <td>[[1, None, None, 1, None, None, 1]]</td>\n",
       "      <td>[[1, 1, 1, 1, 1, 1, 1]]</td>\n",
       "      <td>[[1, 1, 1, 1, 1, 1, 1]]</td>\n",
       "    </tr>\n",
       "  </tbody>\n",
       "</table>\n",
       "</div>"
      ],
      "text/plain": [
       "   Unnamed: 0  id  expt_index  expt_trial  expt_block  trial_att  \\\n",
       "3           3   0           3           3           0          1   \n",
       "5           5   0           5           5           0          1   \n",
       "7           7   0           7           7           0          0   \n",
       "\n",
       "   vbxi_category  exemplar        trialProperties  \\\n",
       "3              0        13  [1, 1, 0, 1, 0, 0, 0]   \n",
       "5              1         9  [1, 1, 0, 1, 0, 0, 0]   \n",
       "7              0        10  [1, 1, 0, 1, 0, 0, 0]   \n",
       "\n",
       "                                   trialPropShuff  \\\n",
       "3  [[1, 0, 1, 0, 1, 0, 0], [1, 1, 0, 0, 0, 0, 1]]   \n",
       "5  [[0, 1, 1, 0, 0, 1, 0], [0, 0, 1, 0, 0, 1, 1]]   \n",
       "7                         [[1, 0, 0, 1, 0, 0, 1]]   \n",
       "\n",
       "                                   property_order  \\\n",
       "3  [[0, 6, 1, 5, 3, 4, 2], [1, 0, 6, 2, 5, 4, 3]]   \n",
       "5  [[2, 3, 0, 4, 6, 1, 5], [2, 6, 1, 5, 4, 0, 3]]   \n",
       "7                         [[0, 2, 4, 3, 5, 6, 1]]   \n",
       "\n",
       "                                  resp_correct_array  \\\n",
       "3  [[None, False, None, False, True, None, None],...   \n",
       "5  [[None, None, None, False, False, True, None],...   \n",
       "7       [[True, None, None, True, None, None, True]]   \n",
       "\n",
       "                           resp_correct_array_unshuf  \\\n",
       "3  [[None, None, None, True, None, False, False],...   \n",
       "5  [[None, True, None, None, False, None, False],...   \n",
       "7       [[True, True, None, True, None, None, None]]   \n",
       "\n",
       "                                      prop_responses  \\\n",
       "3  [[None, 1, None, 1, 1, None, None], [1, 1, Non...   \n",
       "5  [[None, None, None, 1, 1, 1, None], [None, Non...   \n",
       "7                [[1, None, None, 1, None, None, 1]]   \n",
       "\n",
       "                               groundTruthCorrect  \\\n",
       "3  [[0, 0, 0, 0, 1, 1, 1], [1, 1, 1, 1, 1, 1, 1]]   \n",
       "5  [[1, 0, 0, 0, 0, 1, 1], [1, 1, 1, 1, 1, 1, 1]]   \n",
       "7                         [[1, 1, 1, 1, 1, 1, 1]]   \n",
       "\n",
       "                        groundTruthCorrect_unshuf  \n",
       "3  [[0, 0, 1, 1, 1, 0, 0], [1, 1, 1, 1, 1, 1, 1]]  \n",
       "5  [[0, 1, 1, 0, 0, 1, 0], [1, 1, 1, 1, 1, 1, 1]]  \n",
       "7                         [[1, 1, 1, 1, 1, 1, 1]]  "
      ]
     },
     "execution_count": 105,
     "metadata": {},
     "output_type": "execute_result"
    }
   ],
   "source": [
    "# find the subjects\n",
    "sujs = df['id'].unique()\n",
    "# select all rows from first block\n",
    "df_block0 = df.loc[df['expt_block'] == 0] # df.loc[:, df.loc['expt_block'] == 0]\n",
    "df_block0.shape\n",
    "# select all rows for our first category\n",
    "df_block0_cat01 = df_block0.loc[df_block0['vbxi_category'].isin([0, 1])]\n",
    "df_block0_cat01.head(3)\n",
    "\n"
   ]
  },
  {
   "cell_type": "code",
   "execution_count": 137,
   "metadata": {},
   "outputs": [
    {
     "name": "stdout",
     "output_type": "stream",
     "text": [
      "[0.75       0.67857143 0.21428571 0.58928571 0.28571429 0.26785714\n",
      " 0.21428571]\n"
     ]
    }
   ],
   "source": [
    "# get the average response vector in the first block for the first two categories\n",
    "vec_bl0_cat01 = df_block0_cat01[\"resp_correct_array_unshuf\"]\n",
    "vec_bl0_cat01 = vec_bl0_cat01.apply(lambda x: np.asarray(literal_eval(x)[0]))\n",
    "vec_bl0_cat01 = vec_bl0_cat01.apply(lambda x: np.select([x == True, x == False],[1, 1]))\n",
    "vec_bl0_cat01 =  vec_bl0_cat01.sum(axis=0)/vec_bl0_cat01.shape[0]\n",
    "print(vec_bl0_cat01)"
   ]
  },
  {
   "cell_type": "code",
   "execution_count": 148,
   "metadata": {},
   "outputs": [
    {
     "name": "stdout",
     "output_type": "stream",
     "text": [
      "(7, 4, 8)\n"
     ]
    }
   ],
   "source": [
    "def input_output_matrix(df):\n",
    "    \"\"\"function to create the input output matrix\"\"\"\n",
    "    \n",
    "    # get lists of the blocks and categories\n",
    "    blocks = df['expt_block'].unique()\n",
    "    categs = (df['vbxi_category'].unique())\n",
    "    categs.sort()\n",
    "\n",
    "    # create a 3D tensor to store the category specific performance across blocks\n",
    "    in_out_matrix = np.full((7, int(len(categs)/2), len(blocks)), np.nan)\n",
    "\n",
    "    for block in blocks:\n",
    "\n",
    "        # select block specific part of dataframe\n",
    "        df_block = df.loc[df['expt_block'] == block]\n",
    "\n",
    "        for i, categ in enumerate(categs[::2]):\n",
    "            \n",
    "            # slightly tedious selection of the relevant cateogries\n",
    "            df_block_categ = df_block.loc[df_block['vbxi_category'].isin([categ, categ + 1])]\n",
    "            df_block_categ = df_block_categ[\"resp_correct_array_unshuf\"]\n",
    "\n",
    "            # change the evaluation as pandas read my lists as strings\n",
    "            df_block_categ = df_block_categ.apply(lambda x: np.asarray(literal_eval(x)[0]))\n",
    "\n",
    "            # we change the coding of our data adequatly for storage\n",
    "            df_block_categ = df_block_categ.apply(lambda x: np.select([x == True, x == False],[1, 1]))\n",
    "\n",
    "            # get mean array of property responses for each block and category\n",
    "            array_block_categ = df_block_categ.sum(axis=0)/df_block_categ.shape[0]\n",
    "            # place the result in our output\n",
    "            in_out_matrix[:, i, block] = array_block_categ\n",
    "    \n",
    "    return in_out_matrix\n",
    "\n",
    "in_out_matrix = input_output_matrix(df)\n",
    "np.save(dname + 'in_out_matrix.npy', in_out_matrix)\n",
    "print(in_out_matrix.shape)"
   ]
  },
  {
   "cell_type": "markdown",
   "metadata": {},
   "source": [
    "Now we plot, first we define parameters"
   ]
  },
  {
   "cell_type": "code",
   "execution_count": 147,
   "metadata": {},
   "outputs": [],
   "source": [
    "cmap = matplotlib.cm.get_cmap('Set1')\n",
    "norm = matplotlib.colors.Normalize(vmin=0, vmax=1)"
   ]
  },
  {
   "cell_type": "markdown",
   "metadata": {},
   "source": [
    "Now we plot"
   ]
  },
  {
   "cell_type": "code",
   "execution_count": 180,
   "metadata": {},
   "outputs": [],
   "source": [
    "# custom function for the cmap\n",
    "def truncate_colormap(cmap, minval=0.0, maxval=1.0, n=100):\n",
    "    new_cmap = colors.LinearSegmentedColormap.from_list(\n",
    "        'trunc({n},{a:.2f},{b:.2f})'.format(n=cmap.name, a=minval, b=maxval),\n",
    "        cmap(np.linspace(minval, maxval, n)))\n",
    "    return new_cmap\n",
    "\n",
    "def plot_inout_matrix(in_out_matrix, fig_name, fig_title):\n",
    "    # Define figure\n",
    "    fig, axes = plt.subplots(2, 4, figsize=(10, 6), dpi=300, facecolor='w')\n",
    "    cmap = plt.get_cmap('Reds')\n",
    "    new_cmap = truncate_colormap(cmap,0, 1)\n",
    "\n",
    "    # Average per bloc\n",
    "    for i, ax in enumerate(axes.flatten()):\n",
    "        im = ax.matshow(in_out_matrix[:,:,i], cmap=new_cmap)\n",
    "    # Aesthetics\n",
    "    # ax.set_title(fig_title, fontweight='bold')\n",
    "    # ax.set_ylim(0.3, 1.05)\n",
    "    # ax.set_xlabel('Block #')\n",
    "    # ax.set_ylabel('Accuracy')\n",
    "    # remove the x and y ticks\n",
    "    for ax in axes.flatten():\n",
    "        ax.set_xticks([])\n",
    "        ax.set_yticks([])\n",
    "    \n",
    "    fig.subplots_adjust(right=0.8)\n",
    "    cbar_ax = fig.add_axes([0.85, 0.15, 0.05, 0.7])\n",
    "    fig.colorbar(im, cax=cbar_ax)\n",
    "\n",
    "    # plt.tight_layout()\n",
    "    \n",
    "    # fig.savefig(fig_name)"
   ]
  },
  {
   "cell_type": "code",
   "execution_count": 181,
   "metadata": {},
   "outputs": [
    {
     "data": {
      "image/png": "[encoded data removed]",
      "text/plain": [
       "<Figure size 3000x1800 with 9 Axes>"
      ]
     },
     "metadata": {},
     "output_type": "display_data"
    }
   ],
   "source": [
    "plot_inout_matrix(in_out_matrix, \"test\", \"test\")"
   ]
  },
  {
   "cell_type": "code",
   "execution_count": null,
   "metadata": {},
   "outputs": [],
   "source": []
  }
 ],
 "metadata": {
  "kernelspec": {
   "display_name": "Python 3.9.12 ('simple_analysis')",
   "language": "python",
   "name": "python3"
  },
  "language_info": {
   "codemirror_mode": {
    "name": "ipython",
    "version": 3
   },
   "file_extension": ".py",
   "mimetype": "text/x-python",
   "name": "python",
   "nbconvert_exporter": "python",
   "pygments_lexer": "ipython3",
   "version": "3.9.12"
  },
  "orig_nbformat": 4,
  "vscode": {
   "interpreter": {
    "hash": "714c65b6556cc764f3390fa3fd2d33ea130c4e159503f5fc78fc31bdcf5df947"
   }
  }
 },
 "nbformat": 4,
 "nbformat_minor": 2
}
