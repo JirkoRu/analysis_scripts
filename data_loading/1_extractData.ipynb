{
 "cells": [
  {
   "cell_type": "markdown",
   "metadata": {},
   "source": [
    "# Import CSV files, combine them and extract Numpy arrays"
   ]
  },
  {
   "cell_type": "code",
   "execution_count": 2,
   "metadata": {},
   "outputs": [],
   "source": [
    "import numpy as np\n",
    "import pandas as pd\n",
    "import json\n",
    "import os\n",
    "import glob\n",
    "import re"
   ]
  },
  {
   "cell_type": "markdown",
   "metadata": {},
   "source": [
    "### Import files into pd.DataFrame"
   ]
  },
  {
   "cell_type": "code",
   "execution_count": 114,
   "metadata": {},
   "outputs": [
    {
     "data": {
      "text/plain": [
       "'c:\\\\Users\\\\Jirko\\\\Desktop\\\\Hip_Lab\\\\analysis_scripts\\\\data_loading/data_v2/'"
      ]
     },
     "execution_count": 114,
     "metadata": {},
     "output_type": "execute_result"
    }
   ],
   "source": [
    "dname = os.getcwd() + '/data_v2/'\n",
    "dname"
   ]
  },
  {
   "cell_type": "code",
   "execution_count": 115,
   "metadata": {},
   "outputs": [
    {
     "data": {
      "text/plain": [
       "['c:\\\\Users\\\\Jirko\\\\Desktop\\\\Hip_Lab\\\\analysis_scripts\\\\data_loading/data_v2\\\\3dWkc3IGEK2s.txt',\n",
       " 'c:\\\\Users\\\\Jirko\\\\Desktop\\\\Hip_Lab\\\\analysis_scripts\\\\data_loading/data_v2\\\\9sKymqK0NbkJ.txt',\n",
       " 'c:\\\\Users\\\\Jirko\\\\Desktop\\\\Hip_Lab\\\\analysis_scripts\\\\data_loading/data_v2\\\\AR7NdQpVtSG6.txt',\n",
       " 'c:\\\\Users\\\\Jirko\\\\Desktop\\\\Hip_Lab\\\\analysis_scripts\\\\data_loading/data_v2\\\\c2f4PiMcTKfv.txt',\n",
       " 'c:\\\\Users\\\\Jirko\\\\Desktop\\\\Hip_Lab\\\\analysis_scripts\\\\data_loading/data_v2\\\\DrYcBn0Ezs1f.txt',\n",
       " 'c:\\\\Users\\\\Jirko\\\\Desktop\\\\Hip_Lab\\\\analysis_scripts\\\\data_loading/data_v2\\\\fyMFPxtvgkTz.txt',\n",
       " 'c:\\\\Users\\\\Jirko\\\\Desktop\\\\Hip_Lab\\\\analysis_scripts\\\\data_loading/data_v2\\\\HjfAibTUOYzb.txt',\n",
       " 'c:\\\\Users\\\\Jirko\\\\Desktop\\\\Hip_Lab\\\\analysis_scripts\\\\data_loading/data_v2\\\\kgUy7OzybO1l.txt',\n",
       " 'c:\\\\Users\\\\Jirko\\\\Desktop\\\\Hip_Lab\\\\analysis_scripts\\\\data_loading/data_v2\\\\kLTG4TUC9OND.txt',\n",
       " 'c:\\\\Users\\\\Jirko\\\\Desktop\\\\Hip_Lab\\\\analysis_scripts\\\\data_loading/data_v2\\\\wbMmHFrF4EgN.txt']"
      ]
     },
     "execution_count": 115,
     "metadata": {},
     "output_type": "execute_result"
    }
   ],
   "source": [
    "# list the file names\n",
    "fnames = glob.glob(dname + '*.txt')\n",
    "fnames"
   ]
  },
  {
   "cell_type": "code",
   "execution_count": 79,
   "metadata": {},
   "outputs": [],
   "source": [
    "# regular expressions to make the file suitable to be read into a dataframe\n",
    "def replace_several(diction, text):\n",
    "    # create regex from dict\n",
    "    regex = re.compile(\"(%s)\" % \"|\".join(map(re.escape, diction.keys())))\n",
    "\n",
    "    # look-up value in dictionary\n",
    "    return regex.sub(lambda mo: diction[mo.string[mo.start():mo.end()]], text)  \n",
    "\n",
    "# dictionary for replacement\n",
    "expres_dict = {\"sdata\": '\\\"sdata\\\"', \"edata\": '\\\"edata\\\"', \"parameters\": '\\\"parameters\\\"'}\n",
    "\n",
    "# run a loop over file names\n",
    "for fname in fnames:\n",
    "    # make a new file to place the data\n",
    "    newfile = open(\"data_v2_quotes/\"+ os.path.basename(os.path.normpath(fname)) , 'w')\n",
    "    # print(\"data_v2_quotes/\"+ os.path.basename(os.path.normpath(fname)))\n",
    "    for i, line in enumerate(open(fname)):\n",
    "        rep_line = replace_several(expres_dict, line)\n",
    "        # replace the content of the file line by line\n",
    "        newfile.write(\"%s\" % rep_line)\n",
    "        # newfile.write('\\n')"
   ]
  },
  {
   "cell_type": "code",
   "execution_count": 94,
   "metadata": {},
   "outputs": [
    {
     "name": "stdout",
     "output_type": "stream",
     "text": [
      "4\n",
      "{'edata': {'expt_subject': '3dWkc3IGEK2s', 'expt_sex': 'other', 'expt_age': '21-30', 'expt_task': 'jirko/test', 'expt_turker': '6296253d6921d6626f9e5f6d', 'exp_starttime': 1656273825064, 'exp_finishtime': 1656275766172}}\n"
     ]
    }
   ],
   "source": [
    "#  function from https://github.com/aranas\n",
    "def data2dict(file_path):\n",
    "    \"\"\" Load in data saved from javascript online study\n",
    "    Deals with missing '{}' and outputs data in the form of dicts.\n",
    "    ​\n",
    "    Parameters:\n",
    "    path_to_file (str) : full path to file that contains data\n",
    "​   \n",
    "    Returns:\n",
    "    out (list) : list of dicts from file\n",
    "    ​\n",
    "    \"\"\"\n",
    "    with open(file_path, \"r\") as file:\n",
    "        data_read = file.read().split('\\n')\n",
    "    out = [json.loads('{' + line + '}') for line in data_read]\n",
    "    return out\n",
    "\n",
    "# test = data2dict(\"data_v2_quotes/3dWkc3IGEK2s.txt\")\n",
    "# print(len(test))\n",
    "# print(test[])\n"
   ]
  },
  {
   "cell_type": "code",
   "execution_count": 116,
   "metadata": {},
   "outputs": [
    {
     "name": "stdout",
     "output_type": "stream",
     "text": [
      "['c:\\\\Users\\\\Jirko\\\\Desktop\\\\Hip_Lab\\\\analysis_scripts\\\\data_loading/data_v2_quotes\\\\3dWkc3IGEK2s.txt', 'c:\\\\Users\\\\Jirko\\\\Desktop\\\\Hip_Lab\\\\analysis_scripts\\\\data_loading/data_v2_quotes\\\\9sKymqK0NbkJ.txt', 'c:\\\\Users\\\\Jirko\\\\Desktop\\\\Hip_Lab\\\\analysis_scripts\\\\data_loading/data_v2_quotes\\\\AR7NdQpVtSG6.txt', 'c:\\\\Users\\\\Jirko\\\\Desktop\\\\Hip_Lab\\\\analysis_scripts\\\\data_loading/data_v2_quotes\\\\c2f4PiMcTKfv.txt', 'c:\\\\Users\\\\Jirko\\\\Desktop\\\\Hip_Lab\\\\analysis_scripts\\\\data_loading/data_v2_quotes\\\\DrYcBn0Ezs1f.txt', 'c:\\\\Users\\\\Jirko\\\\Desktop\\\\Hip_Lab\\\\analysis_scripts\\\\data_loading/data_v2_quotes\\\\fyMFPxtvgkTz.txt', 'c:\\\\Users\\\\Jirko\\\\Desktop\\\\Hip_Lab\\\\analysis_scripts\\\\data_loading/data_v2_quotes\\\\HjfAibTUOYzb.txt', 'c:\\\\Users\\\\Jirko\\\\Desktop\\\\Hip_Lab\\\\analysis_scripts\\\\data_loading/data_v2_quotes\\\\kgUy7OzybO1l.txt', 'c:\\\\Users\\\\Jirko\\\\Desktop\\\\Hip_Lab\\\\analysis_scripts\\\\data_loading/data_v2_quotes\\\\kLTG4TUC9OND.txt', 'c:\\\\Users\\\\Jirko\\\\Desktop\\\\Hip_Lab\\\\analysis_scripts\\\\data_loading/data_v2_quotes\\\\wbMmHFrF4EgN.txt']\n"
     ]
    }
   ],
   "source": [
    "dname_new = os.getcwd() + '/data_v2_quotes/'\n",
    "fnames_new = glob.glob(dname_new + '*.txt')\n",
    "print(fnames_new)"
   ]
  },
  {
   "cell_type": "code",
   "execution_count": 111,
   "metadata": {},
   "outputs": [
    {
     "name": "stdout",
     "output_type": "stream",
     "text": [
      "20\n",
      "20\n",
      "20\n",
      "19\n"
     ]
    },
    {
     "name": "stderr",
     "output_type": "stream",
     "text": [
      "C:\\Users\\Jirko\\AppData\\Local\\Temp\\ipykernel_15860\\2090755151.py:16: FutureWarning: The frame.append method is deprecated and will be removed from pandas in a future version. Use pandas.concat instead.\n",
      "  DF = DF.append(df, ignore_index=True)\n",
      "C:\\Users\\Jirko\\AppData\\Local\\Temp\\ipykernel_15860\\2090755151.py:16: FutureWarning: The frame.append method is deprecated and will be removed from pandas in a future version. Use pandas.concat instead.\n",
      "  DF = DF.append(df, ignore_index=True)\n",
      "C:\\Users\\Jirko\\AppData\\Local\\Temp\\ipykernel_15860\\2090755151.py:16: FutureWarning: The frame.append method is deprecated and will be removed from pandas in a future version. Use pandas.concat instead.\n",
      "  DF = DF.append(df, ignore_index=True)\n",
      "C:\\Users\\Jirko\\AppData\\Local\\Temp\\ipykernel_15860\\2090755151.py:16: FutureWarning: The frame.append method is deprecated and will be removed from pandas in a future version. Use pandas.concat instead.\n",
      "  DF = DF.append(df, ignore_index=True)\n"
     ]
    }
   ],
   "source": [
    "DF = pd.DataFrame()\n",
    "for i, fname in enumerate(fnames):\n",
    "\n",
    "    with open(fname) as f:\n",
    "        # read the data and transform to a dictionary\n",
    "        data = f.read() \n",
    "        js = json.loads(data)\n",
    "        print(len(js[\"sdata\"]))\n",
    "        # enter the dict into a dataframe\n",
    "        df = pd.DataFrame.from_dict(js[\"sdata\"], orient='index')\n",
    "        df = df.transpose() # small hack to load data into dataframe\n",
    "        # add a participant ID\n",
    "        df.insert(loc=0, column=\"id\", value=i)\n",
    "    \n",
    "    # Append to the big dataFrame\n",
    "    DF = DF.append(df, ignore_index=True)"
   ]
  },
  {
   "cell_type": "code",
   "execution_count": 125,
   "metadata": {},
   "outputs": [
    {
     "name": "stdout",
     "output_type": "stream",
     "text": [
      "23\n",
      "22\n",
      "23\n",
      "22\n",
      "23\n",
      "22\n",
      "23\n",
      "22\n"
     ]
    },
    {
     "name": "stderr",
     "output_type": "stream",
     "text": [
      "C:\\Users\\Jirko\\AppData\\Local\\Temp\\ipykernel_15860\\1861592728.py:22: FutureWarning: The frame.append method is deprecated and will be removed from pandas in a future version. Use pandas.concat instead.\n",
      "  DF = DF.append(df, ignore_index=True)\n",
      "C:\\Users\\Jirko\\AppData\\Local\\Temp\\ipykernel_15860\\1861592728.py:22: FutureWarning: The frame.append method is deprecated and will be removed from pandas in a future version. Use pandas.concat instead.\n",
      "  DF = DF.append(df, ignore_index=True)\n",
      "C:\\Users\\Jirko\\AppData\\Local\\Temp\\ipykernel_15860\\1861592728.py:22: FutureWarning: The frame.append method is deprecated and will be removed from pandas in a future version. Use pandas.concat instead.\n",
      "  DF = DF.append(df, ignore_index=True)\n",
      "C:\\Users\\Jirko\\AppData\\Local\\Temp\\ipykernel_15860\\1861592728.py:22: FutureWarning: The frame.append method is deprecated and will be removed from pandas in a future version. Use pandas.concat instead.\n",
      "  DF = DF.append(df, ignore_index=True)\n"
     ]
    },
    {
     "name": "stdout",
     "output_type": "stream",
     "text": [
      "23\n",
      "22\n",
      "23\n",
      "22\n",
      "23\n",
      "22\n",
      "23\n",
      "22\n",
      "23\n",
      "22\n",
      "23\n",
      "22\n"
     ]
    },
    {
     "name": "stderr",
     "output_type": "stream",
     "text": [
      "C:\\Users\\Jirko\\AppData\\Local\\Temp\\ipykernel_15860\\1861592728.py:22: FutureWarning: The frame.append method is deprecated and will be removed from pandas in a future version. Use pandas.concat instead.\n",
      "  DF = DF.append(df, ignore_index=True)\n",
      "C:\\Users\\Jirko\\AppData\\Local\\Temp\\ipykernel_15860\\1861592728.py:22: FutureWarning: The frame.append method is deprecated and will be removed from pandas in a future version. Use pandas.concat instead.\n",
      "  DF = DF.append(df, ignore_index=True)\n",
      "C:\\Users\\Jirko\\AppData\\Local\\Temp\\ipykernel_15860\\1861592728.py:22: FutureWarning: The frame.append method is deprecated and will be removed from pandas in a future version. Use pandas.concat instead.\n",
      "  DF = DF.append(df, ignore_index=True)\n",
      "C:\\Users\\Jirko\\AppData\\Local\\Temp\\ipykernel_15860\\1861592728.py:22: FutureWarning: The frame.append method is deprecated and will be removed from pandas in a future version. Use pandas.concat instead.\n",
      "  DF = DF.append(df, ignore_index=True)\n",
      "C:\\Users\\Jirko\\AppData\\Local\\Temp\\ipykernel_15860\\1861592728.py:22: FutureWarning: The frame.append method is deprecated and will be removed from pandas in a future version. Use pandas.concat instead.\n",
      "  DF = DF.append(df, ignore_index=True)\n",
      "C:\\Users\\Jirko\\AppData\\Local\\Temp\\ipykernel_15860\\1861592728.py:22: FutureWarning: The frame.append method is deprecated and will be removed from pandas in a future version. Use pandas.concat instead.\n",
      "  DF = DF.append(df, ignore_index=True)\n"
     ]
    }
   ],
   "source": [
    "def create_df(fnames):\n",
    "    \"\"\"function to create the dataframe from the files\"\"\"\n",
    "    DF = pd.DataFrame()\n",
    "    for i, fname in enumerate(fnames):\n",
    "        list_of_dicts = data2dict(fname)\n",
    "        # get the relevant sdata\n",
    "        data_dict = list_of_dicts[0][\"sdata\"]\n",
    "        \n",
    "        # remove entries of type integer\n",
    "        for key in list(data_dict):\n",
    "            if isinstance(data_dict[key], int):\n",
    "                del data_dict[key]\n",
    "\n",
    "        # creating the dict\n",
    "        df = pd.DataFrame.from_dict(data_dict, orient='index')\n",
    "        df = df.transpose() # small hack to load data into dataframe\n",
    "        # add a participant ID\n",
    "        df.insert(loc=0, column=\"id\", value=i)\n",
    "    \n",
    "        # Append to the big dataFrame\n",
    "        DF = DF.append(df, ignore_index=True)\n",
    "    return DF \n",
    "\n",
    "DF = create_df(fnames_new)\n"
   ]
  },
  {
   "cell_type": "markdown",
   "metadata": {},
   "source": [
    "### Explore DataFrame"
   ]
  },
  {
   "cell_type": "code",
   "execution_count": 126,
   "metadata": {},
   "outputs": [
    {
     "data": {
      "text/html": [
       "<div>\n",
       "<style scoped>\n",
       "    .dataframe tbody tr th:only-of-type {\n",
       "        vertical-align: middle;\n",
       "    }\n",
       "\n",
       "    .dataframe tbody tr th {\n",
       "        vertical-align: top;\n",
       "    }\n",
       "\n",
       "    .dataframe thead th {\n",
       "        text-align: right;\n",
       "    }\n",
       "</style>\n",
       "<table border=\"1\" class=\"dataframe\">\n",
       "  <thead>\n",
       "    <tr style=\"text-align: right;\">\n",
       "      <th></th>\n",
       "      <th>id</th>\n",
       "      <th>expt_index</th>\n",
       "      <th>expt_trial</th>\n",
       "      <th>expt_block</th>\n",
       "      <th>trial_att</th>\n",
       "      <th>vbxi_category</th>\n",
       "      <th>exemplar</th>\n",
       "      <th>trialProperties</th>\n",
       "      <th>trialPropShuff</th>\n",
       "      <th>relevProps</th>\n",
       "      <th>relevPropsShuff</th>\n",
       "      <th>trial_bonus</th>\n",
       "      <th>block_bonus</th>\n",
       "      <th>resp_timestamp</th>\n",
       "      <th>resp_reactiontime</th>\n",
       "      <th>property_order</th>\n",
       "      <th>resp_correct_array</th>\n",
       "      <th>resp_correct_array_unshuf</th>\n",
       "      <th>prop_responses</th>\n",
       "      <th>groundTruthCorrect</th>\n",
       "      <th>groundTruthCorrect_unshuf</th>\n",
       "      <th>resp_indices</th>\n",
       "      <th>resp_indices_values</th>\n",
       "    </tr>\n",
       "  </thead>\n",
       "  <tbody>\n",
       "    <tr>\n",
       "      <th>0</th>\n",
       "      <td>0</td>\n",
       "      <td>0</td>\n",
       "      <td>0</td>\n",
       "      <td>0</td>\n",
       "      <td>1</td>\n",
       "      <td>3</td>\n",
       "      <td>9</td>\n",
       "      <td>[1, 1, 0, 0, 1, 0, 0]</td>\n",
       "      <td>[[1, 0, 0, 0, 0, 1, 1], [0, 0, 0, 1, 1, 1, 0]]</td>\n",
       "      <td>None</td>\n",
       "      <td>[]</td>\n",
       "      <td>1</td>\n",
       "      <td>35</td>\n",
       "      <td>[1656273896249, 1656273906985]</td>\n",
       "      <td>[11.120000000000001, 21.856]</td>\n",
       "      <td>[[4, 3, 2, 6, 5, 1, 0], [5, 3, 2, 1, 0, 4, 6]]</td>\n",
       "      <td>[[True, None, False, None, False, None, None],...</td>\n",
       "      <td>[[None, None, False, None, True, False, None],...</td>\n",
       "      <td>[[1, None, 1, None, 1, None, None], [None, Non...</td>\n",
       "      <td>[[1, 1, 0, 1, 0, 0, 0], [1, 1, 1, 1, 1, 1, 1]]</td>\n",
       "      <td>[[0, 0, 0, 1, 1, 0, 1], [1, 1, 1, 1, 1, 1, 1]]</td>\n",
       "      <td>[[0, 2, 4], [3, 5, 4]]</td>\n",
       "      <td>[[1, 1, 1], [1, 1, 1]]</td>\n",
       "    </tr>\n",
       "    <tr>\n",
       "      <th>1</th>\n",
       "      <td>0</td>\n",
       "      <td>1</td>\n",
       "      <td>1</td>\n",
       "      <td>0</td>\n",
       "      <td>1</td>\n",
       "      <td>2</td>\n",
       "      <td>15</td>\n",
       "      <td>[1, 1, 0, 0, 1, 0, 0]</td>\n",
       "      <td>[[1, 0, 1, 0, 0, 0, 1], [1, 1, 0, 1, 0, 0, 0]]</td>\n",
       "      <td>None</td>\n",
       "      <td>[]</td>\n",
       "      <td>2</td>\n",
       "      <td>26</td>\n",
       "      <td>[1656273920302, 1656273929902]</td>\n",
       "      <td>[11.311, 20.911]</td>\n",
       "      <td>[[4, 5, 1, 2, 6, 3, 0], [0, 4, 5, 1, 2, 6, 3]]</td>\n",
       "      <td>[[True, None, None, None, None, False, True], ...</td>\n",
       "      <td>[[True, None, None, False, True, None, None], ...</td>\n",
       "      <td>[[1, None, None, None, None, 1, 1], [1, 1, Non...</td>\n",
       "      <td>[[1, 1, 0, 1, 1, 0, 1], [1, 1, 1, 1, 1, 1, 1]]</td>\n",
       "      <td>[[1, 0, 1, 0, 1, 1, 1], [1, 1, 1, 1, 1, 1, 1]]</td>\n",
       "      <td>[[0, 6, 5], [1, 0, 3]]</td>\n",
       "      <td>[[1, 1, 1], [1, 1, 1]]</td>\n",
       "    </tr>\n",
       "    <tr>\n",
       "      <th>2</th>\n",
       "      <td>0</td>\n",
       "      <td>2</td>\n",
       "      <td>2</td>\n",
       "      <td>0</td>\n",
       "      <td>0</td>\n",
       "      <td>3</td>\n",
       "      <td>14</td>\n",
       "      <td>[1, 1, 0, 0, 1, 0, 0]</td>\n",
       "      <td>[[0, 0, 1, 1, 0, 0, 1]]</td>\n",
       "      <td>None</td>\n",
       "      <td>[]</td>\n",
       "      <td>3</td>\n",
       "      <td>31</td>\n",
       "      <td>[1656273938480]</td>\n",
       "      <td>[6.571]</td>\n",
       "      <td>[[5, 6, 4, 1, 2, 3, 0]]</td>\n",
       "      <td>[[None, None, True, True, None, None, True]]</td>\n",
       "      <td>[[True, True, None, None, True, None, None]]</td>\n",
       "      <td>[[None, None, 1, 1, None, None, 1]]</td>\n",
       "      <td>[[1, 1, 1, 1, 1, 1, 1]]</td>\n",
       "      <td>[[1, 1, 1, 1, 1, 1, 1]]</td>\n",
       "      <td>[[2, 3, 6]]</td>\n",
       "      <td>[[1, 1, 1]]</td>\n",
       "    </tr>\n",
       "  </tbody>\n",
       "</table>\n",
       "</div>"
      ],
      "text/plain": [
       "   id expt_index expt_trial expt_block trial_att vbxi_category exemplar  \\\n",
       "0   0          0          0          0         1             3        9   \n",
       "1   0          1          1          0         1             2       15   \n",
       "2   0          2          2          0         0             3       14   \n",
       "\n",
       "         trialProperties                                  trialPropShuff  \\\n",
       "0  [1, 1, 0, 0, 1, 0, 0]  [[1, 0, 0, 0, 0, 1, 1], [0, 0, 0, 1, 1, 1, 0]]   \n",
       "1  [1, 1, 0, 0, 1, 0, 0]  [[1, 0, 1, 0, 0, 0, 1], [1, 1, 0, 1, 0, 0, 0]]   \n",
       "2  [1, 1, 0, 0, 1, 0, 0]                         [[0, 0, 1, 1, 0, 0, 1]]   \n",
       "\n",
       "  relevProps relevPropsShuff trial_bonus block_bonus  \\\n",
       "0       None              []           1          35   \n",
       "1       None              []           2          26   \n",
       "2       None              []           3          31   \n",
       "\n",
       "                   resp_timestamp             resp_reactiontime  \\\n",
       "0  [1656273896249, 1656273906985]  [11.120000000000001, 21.856]   \n",
       "1  [1656273920302, 1656273929902]              [11.311, 20.911]   \n",
       "2                 [1656273938480]                       [6.571]   \n",
       "\n",
       "                                   property_order  \\\n",
       "0  [[4, 3, 2, 6, 5, 1, 0], [5, 3, 2, 1, 0, 4, 6]]   \n",
       "1  [[4, 5, 1, 2, 6, 3, 0], [0, 4, 5, 1, 2, 6, 3]]   \n",
       "2                         [[5, 6, 4, 1, 2, 3, 0]]   \n",
       "\n",
       "                                  resp_correct_array  \\\n",
       "0  [[True, None, False, None, False, None, None],...   \n",
       "1  [[True, None, None, None, None, False, True], ...   \n",
       "2       [[None, None, True, True, None, None, True]]   \n",
       "\n",
       "                           resp_correct_array_unshuf  \\\n",
       "0  [[None, None, False, None, True, False, None],...   \n",
       "1  [[True, None, None, False, True, None, None], ...   \n",
       "2       [[True, True, None, None, True, None, None]]   \n",
       "\n",
       "                                      prop_responses  \\\n",
       "0  [[1, None, 1, None, 1, None, None], [None, Non...   \n",
       "1  [[1, None, None, None, None, 1, 1], [1, 1, Non...   \n",
       "2                [[None, None, 1, 1, None, None, 1]]   \n",
       "\n",
       "                               groundTruthCorrect  \\\n",
       "0  [[1, 1, 0, 1, 0, 0, 0], [1, 1, 1, 1, 1, 1, 1]]   \n",
       "1  [[1, 1, 0, 1, 1, 0, 1], [1, 1, 1, 1, 1, 1, 1]]   \n",
       "2                         [[1, 1, 1, 1, 1, 1, 1]]   \n",
       "\n",
       "                        groundTruthCorrect_unshuf            resp_indices  \\\n",
       "0  [[0, 0, 0, 1, 1, 0, 1], [1, 1, 1, 1, 1, 1, 1]]  [[0, 2, 4], [3, 5, 4]]   \n",
       "1  [[1, 0, 1, 0, 1, 1, 1], [1, 1, 1, 1, 1, 1, 1]]  [[0, 6, 5], [1, 0, 3]]   \n",
       "2                         [[1, 1, 1, 1, 1, 1, 1]]             [[2, 3, 6]]   \n",
       "\n",
       "      resp_indices_values  \n",
       "0  [[1, 1, 1], [1, 1, 1]]  \n",
       "1  [[1, 1, 1], [1, 1, 1]]  \n",
       "2             [[1, 1, 1]]  "
      ]
     },
     "execution_count": 126,
     "metadata": {},
     "output_type": "execute_result"
    }
   ],
   "source": [
    "pd.set_option('display.max_columns', None)\n",
    "DF.shape\n",
    "DF.head(3)"
   ]
  },
  {
   "cell_type": "markdown",
   "metadata": {},
   "source": [
    "### Filter responses"
   ]
  },
  {
   "cell_type": "code",
   "execution_count": 127,
   "metadata": {},
   "outputs": [
    {
     "data": {
      "text/html": [
       "<div>\n",
       "<style scoped>\n",
       "    .dataframe tbody tr th:only-of-type {\n",
       "        vertical-align: middle;\n",
       "    }\n",
       "\n",
       "    .dataframe tbody tr th {\n",
       "        vertical-align: top;\n",
       "    }\n",
       "\n",
       "    .dataframe thead th {\n",
       "        text-align: right;\n",
       "    }\n",
       "</style>\n",
       "<table border=\"1\" class=\"dataframe\">\n",
       "  <thead>\n",
       "    <tr style=\"text-align: right;\">\n",
       "      <th></th>\n",
       "      <th>id</th>\n",
       "      <th>expt_index</th>\n",
       "      <th>expt_trial</th>\n",
       "      <th>expt_block</th>\n",
       "      <th>trial_att</th>\n",
       "      <th>vbxi_category</th>\n",
       "      <th>exemplar</th>\n",
       "      <th>trialProperties</th>\n",
       "      <th>trialPropShuff</th>\n",
       "      <th>trial_bonus</th>\n",
       "      <th>block_bonus</th>\n",
       "      <th>resp_timestamp</th>\n",
       "      <th>resp_reactiontime</th>\n",
       "      <th>property_order</th>\n",
       "      <th>resp_correct_array</th>\n",
       "      <th>resp_correct_array_unshuf</th>\n",
       "      <th>prop_responses</th>\n",
       "      <th>groundTruthCorrect</th>\n",
       "      <th>groundTruthCorrect_unshuf</th>\n",
       "      <th>resp_indices</th>\n",
       "      <th>resp_indices_values</th>\n",
       "    </tr>\n",
       "  </thead>\n",
       "  <tbody>\n",
       "    <tr>\n",
       "      <th>0</th>\n",
       "      <td>0</td>\n",
       "      <td>0</td>\n",
       "      <td>0</td>\n",
       "      <td>0</td>\n",
       "      <td>1</td>\n",
       "      <td>3</td>\n",
       "      <td>9</td>\n",
       "      <td>[1, 1, 0, 0, 1, 0, 0]</td>\n",
       "      <td>[[1, 0, 0, 0, 0, 1, 1], [0, 0, 0, 1, 1, 1, 0]]</td>\n",
       "      <td>1</td>\n",
       "      <td>35</td>\n",
       "      <td>[1656273896249, 1656273906985]</td>\n",
       "      <td>[11.120000000000001, 21.856]</td>\n",
       "      <td>[[4, 3, 2, 6, 5, 1, 0], [5, 3, 2, 1, 0, 4, 6]]</td>\n",
       "      <td>[[True, None, False, None, False, None, None],...</td>\n",
       "      <td>[[None, None, False, None, True, False, None],...</td>\n",
       "      <td>[[1, None, 1, None, 1, None, None], [None, Non...</td>\n",
       "      <td>[[1, 1, 0, 1, 0, 0, 0], [1, 1, 1, 1, 1, 1, 1]]</td>\n",
       "      <td>[[0, 0, 0, 1, 1, 0, 1], [1, 1, 1, 1, 1, 1, 1]]</td>\n",
       "      <td>[[0, 2, 4], [3, 5, 4]]</td>\n",
       "      <td>[[1, 1, 1], [1, 1, 1]]</td>\n",
       "    </tr>\n",
       "    <tr>\n",
       "      <th>1</th>\n",
       "      <td>0</td>\n",
       "      <td>1</td>\n",
       "      <td>1</td>\n",
       "      <td>0</td>\n",
       "      <td>1</td>\n",
       "      <td>2</td>\n",
       "      <td>15</td>\n",
       "      <td>[1, 1, 0, 0, 1, 0, 0]</td>\n",
       "      <td>[[1, 0, 1, 0, 0, 0, 1], [1, 1, 0, 1, 0, 0, 0]]</td>\n",
       "      <td>2</td>\n",
       "      <td>26</td>\n",
       "      <td>[1656273920302, 1656273929902]</td>\n",
       "      <td>[11.311, 20.911]</td>\n",
       "      <td>[[4, 5, 1, 2, 6, 3, 0], [0, 4, 5, 1, 2, 6, 3]]</td>\n",
       "      <td>[[True, None, None, None, None, False, True], ...</td>\n",
       "      <td>[[True, None, None, False, True, None, None], ...</td>\n",
       "      <td>[[1, None, None, None, None, 1, 1], [1, 1, Non...</td>\n",
       "      <td>[[1, 1, 0, 1, 1, 0, 1], [1, 1, 1, 1, 1, 1, 1]]</td>\n",
       "      <td>[[1, 0, 1, 0, 1, 1, 1], [1, 1, 1, 1, 1, 1, 1]]</td>\n",
       "      <td>[[0, 6, 5], [1, 0, 3]]</td>\n",
       "      <td>[[1, 1, 1], [1, 1, 1]]</td>\n",
       "    </tr>\n",
       "    <tr>\n",
       "      <th>2</th>\n",
       "      <td>0</td>\n",
       "      <td>2</td>\n",
       "      <td>2</td>\n",
       "      <td>0</td>\n",
       "      <td>0</td>\n",
       "      <td>3</td>\n",
       "      <td>14</td>\n",
       "      <td>[1, 1, 0, 0, 1, 0, 0]</td>\n",
       "      <td>[[0, 0, 1, 1, 0, 0, 1]]</td>\n",
       "      <td>3</td>\n",
       "      <td>31</td>\n",
       "      <td>[1656273938480]</td>\n",
       "      <td>[6.571]</td>\n",
       "      <td>[[5, 6, 4, 1, 2, 3, 0]]</td>\n",
       "      <td>[[None, None, True, True, None, None, True]]</td>\n",
       "      <td>[[True, True, None, None, True, None, None]]</td>\n",
       "      <td>[[None, None, 1, 1, None, None, 1]]</td>\n",
       "      <td>[[1, 1, 1, 1, 1, 1, 1]]</td>\n",
       "      <td>[[1, 1, 1, 1, 1, 1, 1]]</td>\n",
       "      <td>[[2, 3, 6]]</td>\n",
       "      <td>[[1, 1, 1]]</td>\n",
       "    </tr>\n",
       "  </tbody>\n",
       "</table>\n",
       "</div>"
      ],
      "text/plain": [
       "   id expt_index expt_trial expt_block trial_att vbxi_category exemplar  \\\n",
       "0   0          0          0          0         1             3        9   \n",
       "1   0          1          1          0         1             2       15   \n",
       "2   0          2          2          0         0             3       14   \n",
       "\n",
       "         trialProperties                                  trialPropShuff  \\\n",
       "0  [1, 1, 0, 0, 1, 0, 0]  [[1, 0, 0, 0, 0, 1, 1], [0, 0, 0, 1, 1, 1, 0]]   \n",
       "1  [1, 1, 0, 0, 1, 0, 0]  [[1, 0, 1, 0, 0, 0, 1], [1, 1, 0, 1, 0, 0, 0]]   \n",
       "2  [1, 1, 0, 0, 1, 0, 0]                         [[0, 0, 1, 1, 0, 0, 1]]   \n",
       "\n",
       "  trial_bonus block_bonus                  resp_timestamp  \\\n",
       "0           1          35  [1656273896249, 1656273906985]   \n",
       "1           2          26  [1656273920302, 1656273929902]   \n",
       "2           3          31                 [1656273938480]   \n",
       "\n",
       "              resp_reactiontime  \\\n",
       "0  [11.120000000000001, 21.856]   \n",
       "1              [11.311, 20.911]   \n",
       "2                       [6.571]   \n",
       "\n",
       "                                   property_order  \\\n",
       "0  [[4, 3, 2, 6, 5, 1, 0], [5, 3, 2, 1, 0, 4, 6]]   \n",
       "1  [[4, 5, 1, 2, 6, 3, 0], [0, 4, 5, 1, 2, 6, 3]]   \n",
       "2                         [[5, 6, 4, 1, 2, 3, 0]]   \n",
       "\n",
       "                                  resp_correct_array  \\\n",
       "0  [[True, None, False, None, False, None, None],...   \n",
       "1  [[True, None, None, None, None, False, True], ...   \n",
       "2       [[None, None, True, True, None, None, True]]   \n",
       "\n",
       "                           resp_correct_array_unshuf  \\\n",
       "0  [[None, None, False, None, True, False, None],...   \n",
       "1  [[True, None, None, False, True, None, None], ...   \n",
       "2       [[True, True, None, None, True, None, None]]   \n",
       "\n",
       "                                      prop_responses  \\\n",
       "0  [[1, None, 1, None, 1, None, None], [None, Non...   \n",
       "1  [[1, None, None, None, None, 1, 1], [1, 1, Non...   \n",
       "2                [[None, None, 1, 1, None, None, 1]]   \n",
       "\n",
       "                               groundTruthCorrect  \\\n",
       "0  [[1, 1, 0, 1, 0, 0, 0], [1, 1, 1, 1, 1, 1, 1]]   \n",
       "1  [[1, 1, 0, 1, 1, 0, 1], [1, 1, 1, 1, 1, 1, 1]]   \n",
       "2                         [[1, 1, 1, 1, 1, 1, 1]]   \n",
       "\n",
       "                        groundTruthCorrect_unshuf            resp_indices  \\\n",
       "0  [[0, 0, 0, 1, 1, 0, 1], [1, 1, 1, 1, 1, 1, 1]]  [[0, 2, 4], [3, 5, 4]]   \n",
       "1  [[1, 0, 1, 0, 1, 1, 1], [1, 1, 1, 1, 1, 1, 1]]  [[0, 6, 5], [1, 0, 3]]   \n",
       "2                         [[1, 1, 1, 1, 1, 1, 1]]             [[2, 3, 6]]   \n",
       "\n",
       "      resp_indices_values  \n",
       "0  [[1, 1, 1], [1, 1, 1]]  \n",
       "1  [[1, 1, 1], [1, 1, 1]]  \n",
       "2             [[1, 1, 1]]  "
      ]
     },
     "execution_count": 127,
     "metadata": {},
     "output_type": "execute_result"
    }
   ],
   "source": [
    "# drop redundant columns\n",
    "DF.drop(columns=[\"relevProps\", \"relevPropsShuff\"], inplace=True)\n",
    "DF.head(3)"
   ]
  },
  {
   "cell_type": "markdown",
   "metadata": {},
   "source": [
    "### Save full DataFrame to CSV"
   ]
  },
  {
   "cell_type": "code",
   "execution_count": 128,
   "metadata": {},
   "outputs": [],
   "source": [
    "DF.to_csv(dname_new + 'full_data.csv')"
   ]
  },
  {
   "cell_type": "markdown",
   "metadata": {},
   "source": [
    "### Retreive parameters"
   ]
  },
  {
   "cell_type": "code",
   "execution_count": 129,
   "metadata": {},
   "outputs": [
    {
     "data": {
      "text/plain": [
       "10"
      ]
     },
     "execution_count": 129,
     "metadata": {},
     "output_type": "execute_result"
    }
   ],
   "source": [
    "sujs = DF['id'].unique()\n",
    "n_sujs = sujs.size\n",
    "n_sujs"
   ]
  },
  {
   "cell_type": "code",
   "execution_count": 130,
   "metadata": {},
   "outputs": [
    {
     "data": {
      "text/plain": [
       "128"
      ]
     },
     "execution_count": 130,
     "metadata": {},
     "output_type": "execute_result"
    }
   ],
   "source": [
    "n_trials_per_suj = DF.loc[DF['id'] == sujs[0]].shape[0]\n",
    "n_trials_per_suj"
   ]
  },
  {
   "cell_type": "code",
   "execution_count": 131,
   "metadata": {},
   "outputs": [
    {
     "data": {
      "text/plain": [
       "8"
      ]
     },
     "execution_count": 131,
     "metadata": {},
     "output_type": "execute_result"
    }
   ],
   "source": [
    "n_blocs = DF['expt_block'].unique().size\n",
    "n_blocs"
   ]
  },
  {
   "cell_type": "code",
   "execution_count": 132,
   "metadata": {},
   "outputs": [
    {
     "data": {
      "text/plain": [
       "16"
      ]
     },
     "execution_count": 132,
     "metadata": {},
     "output_type": "execute_result"
    }
   ],
   "source": [
    "n_trials_per_block = int(n_trials_per_suj/n_blocs)\n",
    "n_trials_per_block"
   ]
  },
  {
   "cell_type": "markdown",
   "metadata": {},
   "source": [
    "### Put data in numpy arrays"
   ]
  },
  {
   "cell_type": "code",
   "execution_count": 133,
   "metadata": {},
   "outputs": [],
   "source": [
    "ACCURACY = np.full((n_sujs, n_blocs, n_trials_per_block), np.nan)\n",
    "acc_first_prop = np.full((n_sujs, n_blocs, n_trials_per_block), np.nan)\n",
    "acc_second_prop = np.full((n_sujs, n_blocs, n_trials_per_block), np.nan)\n",
    "acc_third_prop = np.full((n_sujs, n_blocs, n_trials_per_block), np.nan)\n",
    "# RT = np.full((n_sujs, n_blocs, n_trial), np.nan)\n",
    "# BLOC_TYPE = np.full((n_sujs, n_blocs), np.nan, dtype=np.object)\n",
    "\n",
    "# Loop across participant and blocs\n",
    "for i, suj in enumerate(sujs):\n",
    "    for block in range(n_blocs):\n",
    "\n",
    "        # Select lines in the DataFrame\n",
    "        _DF = DF.loc[(DF['id'] == suj) & (DF['expt_block'] == block)]\n",
    "\n",
    "        # Accuracy \n",
    "        ACCURACY[i, block, :_DF.shape[0]] = _DF['groundTruthCorrect_unshuf'].apply(lambda x: np.sum(x[0])/len(x[0]))\n",
    "        # accuracy on first property\n",
    "        acc_first_prop[i, block, :_DF.shape[0]] = _DF['groundTruthCorrect_unshuf'].apply(lambda x: np.sum(x[0][0]))\n",
    "        # accuracy on second property\n",
    "        acc_second_prop[i, block, :_DF.shape[0]] = _DF['groundTruthCorrect_unshuf'].apply(lambda x: np.sum(x[0][1:3])/2)\n",
    "        # accuracy on second property\n",
    "        acc_third_prop[i, block, :_DF.shape[0]] = _DF['groundTruthCorrect_unshuf'].apply(lambda x: np.sum(x[0][3:])/4)\n",
    "        # Reaction times\n",
    "        # RT[i, j, :_DF.shape[0]] = _DF['data : \"rt\"']\n",
    "        \n",
    "        # Bloc type\n",
    "        # BLOC_TYPE[i, j] = _DF['bloc_type'].unique()[0]"
   ]
  },
  {
   "cell_type": "markdown",
   "metadata": {},
   "source": [
    "### Save data as numpy arrays"
   ]
  },
  {
   "cell_type": "code",
   "execution_count": 134,
   "metadata": {},
   "outputs": [],
   "source": [
    "np.save(dname_new + 'ACCURACY.npy', ACCURACY)\n",
    "np.save(dname_new + 'Acc_first_prop.npy', acc_first_prop)\n",
    "np.save(dname_new + 'acc_second_prop.npy', acc_second_prop)\n",
    "np.save(dname_new + 'acc_third_prop.npy', acc_third_prop)\n",
    "# np.save(dname + 'SUJS.npy', sujs)"
   ]
  }
 ],
 "metadata": {
  "kernelspec": {
   "display_name": "Python 3.9.12 ('simple_analysis')",
   "language": "python",
   "name": "python3"
  },
  "language_info": {
   "codemirror_mode": {
    "name": "ipython",
    "version": 3
   },
   "file_extension": ".py",
   "mimetype": "text/x-python",
   "name": "python",
   "nbconvert_exporter": "python",
   "pygments_lexer": "ipython3",
   "version": "3.9.12"
  },
  "vscode": {
   "interpreter": {
    "hash": "714c65b6556cc764f3390fa3fd2d33ea130c4e159503f5fc78fc31bdcf5df947"
   }
  }
 },
 "nbformat": 4,
 "nbformat_minor": 4
}
