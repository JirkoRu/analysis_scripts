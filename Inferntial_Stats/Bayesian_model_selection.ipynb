{
 "cells": [
  {
   "cell_type": "code",
   "execution_count": 1,
   "metadata": {},
   "outputs": [],
   "source": [
    "import numpy as np\n",
    "import matplotlib.pyplot as plt\n",
    "from matplotlib.transforms import Affine2D\n",
    "import matplotlib.transforms as transforms\n",
    "import matplotlib\n",
    "import pandas as pd\n",
    "import os\n",
    "import os.path\n",
    "from scipy.optimize import curve_fit\n",
    "from groupBMC.groupBMC import GroupBMC\n"
   ]
  },
  {
   "cell_type": "code",
   "execution_count": 6,
   "metadata": {},
   "outputs": [
    {
     "data": {
      "text/plain": [
       "'c:\\\\Users\\\\Jirko\\\\Desktop\\\\Hip_Lab\\\\analysis_scripts'"
      ]
     },
     "execution_count": 6,
     "metadata": {},
     "output_type": "execute_result"
    }
   ],
   "source": [
    "dname = os.path.dirname(os.getcwd())\n",
    "dname"
   ]
  },
  {
   "cell_type": "code",
   "execution_count": 13,
   "metadata": {},
   "outputs": [
    {
     "data": {
      "text/html": [
       "<div>\n",
       "<style scoped>\n",
       "    .dataframe tbody tr th:only-of-type {\n",
       "        vertical-align: middle;\n",
       "    }\n",
       "\n",
       "    .dataframe tbody tr th {\n",
       "        vertical-align: top;\n",
       "    }\n",
       "\n",
       "    .dataframe thead th {\n",
       "        text-align: right;\n",
       "    }\n",
       "</style>\n",
       "<table border=\"1\" class=\"dataframe\">\n",
       "  <thead>\n",
       "    <tr style=\"text-align: right;\">\n",
       "      <th></th>\n",
       "      <th>ID</th>\n",
       "      <th>sigmoid</th>\n",
       "      <th>linear</th>\n",
       "      <th>relu</th>\n",
       "      <th>linear_step</th>\n",
       "    </tr>\n",
       "  </thead>\n",
       "  <tbody>\n",
       "    <tr>\n",
       "      <th>0</th>\n",
       "      <td>0</td>\n",
       "      <td>7.491478</td>\n",
       "      <td>3.465333</td>\n",
       "      <td>3.465333</td>\n",
       "      <td>8.800111</td>\n",
       "    </tr>\n",
       "    <tr>\n",
       "      <th>1</th>\n",
       "      <td>1</td>\n",
       "      <td>3.567308</td>\n",
       "      <td>7.362483</td>\n",
       "      <td>7.362483</td>\n",
       "      <td>14.351252</td>\n",
       "    </tr>\n",
       "    <tr>\n",
       "      <th>2</th>\n",
       "      <td>2</td>\n",
       "      <td>15.811235</td>\n",
       "      <td>1.525848</td>\n",
       "      <td>1.525848</td>\n",
       "      <td>9.932590</td>\n",
       "    </tr>\n",
       "    <tr>\n",
       "      <th>3</th>\n",
       "      <td>3</td>\n",
       "      <td>6.723197</td>\n",
       "      <td>4.696493</td>\n",
       "      <td>4.696493</td>\n",
       "      <td>10.463527</td>\n",
       "    </tr>\n",
       "    <tr>\n",
       "      <th>4</th>\n",
       "      <td>4</td>\n",
       "      <td>11.499478</td>\n",
       "      <td>2.322172</td>\n",
       "      <td>2.322172</td>\n",
       "      <td>6.498756</td>\n",
       "    </tr>\n",
       "    <tr>\n",
       "      <th>5</th>\n",
       "      <td>5</td>\n",
       "      <td>6.154761</td>\n",
       "      <td>1.074609</td>\n",
       "      <td>1.074609</td>\n",
       "      <td>7.139552</td>\n",
       "    </tr>\n",
       "  </tbody>\n",
       "</table>\n",
       "</div>"
      ],
      "text/plain": [
       "   ID    sigmoid    linear      relu  linear_step\n",
       "0   0   7.491478  3.465333  3.465333     8.800111\n",
       "1   1   3.567308  7.362483  7.362483    14.351252\n",
       "2   2  15.811235  1.525848  1.525848     9.932590\n",
       "3   3   6.723197  4.696493  4.696493    10.463527\n",
       "4   4  11.499478  2.322172  2.322172     6.498756\n",
       "5   5   6.154761  1.074609  1.074609     7.139552"
      ]
     },
     "execution_count": 13,
     "metadata": {},
     "output_type": "execute_result"
    }
   ],
   "source": [
    "df = pd.read_csv(dname + \"/part_level_analysis/params_trialwise_crossval/participantwise_log_likelihood.csv\")\n",
    "df.rename(columns={ df.columns[0]: \"ID\" }, inplace = True)\n",
    "df.head(6)"
   ]
  },
  {
   "cell_type": "code",
   "execution_count": 19,
   "metadata": {},
   "outputs": [
    {
     "data": {
      "text/plain": [
       "array([[ 7.49147838,  3.5673076 , 15.81123478,  6.72319733, 11.49947807,\n",
       "         6.15476052, 12.66401983,  2.2212755 ,  7.9034067 ,  9.77876469,\n",
       "         0.70796361, 20.95956167,  1.01592769,  7.29234906, 12.03873644,\n",
       "        10.50670684,  7.57109145, 21.57595601,  5.3739571 ,  7.79468142,\n",
       "        16.61319111,  7.2177106 ,  9.80817719,  7.86586524,  9.20425214,\n",
       "        16.07644079,  8.11144526, 15.01411282,  6.95005603,  2.43872424,\n",
       "        14.57483238,  7.88095129, 17.69675539, 14.09623759, 13.56949163,\n",
       "         6.33573783,  5.16012917, 11.57592581, 11.02549058,  9.20846215,\n",
       "        16.12581152, 18.19320707,  7.94776129, 12.46852722,  1.4895905 ,\n",
       "         3.21398521,  7.75176581, 13.05379255,  7.44248713],\n",
       "       [ 3.46533316,  7.36248331,  1.52584814,  4.6964934 ,  2.32217208,\n",
       "         1.07460925,  3.57963641,  5.69908376,  3.71338956,  7.41602483,\n",
       "         0.73525622,  8.17823106,  1.56187917,  2.15273448,  3.46628062,\n",
       "         5.2910977 ,  7.326119  ,  6.04578705,  0.78965855,  3.42565878,\n",
       "         4.95550483,  0.95782409,  0.90321779,  2.62170891,  0.83447178,\n",
       "         2.11443025,  3.83585841,  7.57020518,  0.94604333,  1.05972269,\n",
       "         5.56923602,  1.65677574,  2.46324416,  8.39263731,  3.60304969,\n",
       "         3.13865855,  3.44314958,  3.7082198 ,  7.64035213,  0.80904028,\n",
       "         7.52916854,  5.63971666,  3.71070583,  1.90332515,  3.01976709,\n",
       "         2.84420114,  3.62880433,  7.04825768,  3.03354191],\n",
       "       [ 3.46533316,  7.36248331,  1.52584814,  4.6964934 ,  2.32217208,\n",
       "         1.07460925,  3.57963641,  5.69908376,  3.72010408,  7.41602483,\n",
       "         0.73428206,  8.17823106,  1.56187917,  2.15273448,  3.46628062,\n",
       "         5.2910977 ,  7.326119  ,  6.04630604,  0.78965855,  3.39125125,\n",
       "         4.95550483,  0.95782409,  0.89774287,  2.62170891,  0.83447178,\n",
       "         2.11443025,  3.83585841,  7.57020518,  0.9488516 ,  1.05906574,\n",
       "         5.56923602,  1.65677574,  2.46324416,  8.39264168,  3.59350321,\n",
       "         3.13865855,  3.44314958,  3.7082198 ,  7.64035213,  0.80904028,\n",
       "         7.52916854,  5.63971666,  3.71070583,  1.90431759,  3.01976709,\n",
       "         2.84420114,  3.62604988,  7.04825768,  3.03354191],\n",
       "       [ 8.80011103, 14.35125216,  9.93259005, 10.46352671,  6.49875578,\n",
       "         7.13955237,  9.97880167, 11.16889961, 10.59285148, 15.52808709,\n",
       "         6.06340244, 18.23995924,  4.81259911,  9.73333031,  7.89396528,\n",
       "        18.89778366, 16.82548514, 19.11730224,  1.5526504 , 13.23445763,\n",
       "        20.69273398,  2.79502631,  7.27455306, 11.35036993,  5.06153095,\n",
       "        19.32370044, 12.75742176, 20.13149718,  7.18785369,  9.83077467,\n",
       "        16.55131867, 10.31812979, 11.89978274, 12.75083076, 10.42758112,\n",
       "         7.39560358,  9.24892048, 11.90998551, 17.82145572,  2.23042751,\n",
       "        19.65532196, 17.62315788,  7.96027272, 19.3515449 ,  6.37447781,\n",
       "        10.10351029,  9.50615684, 19.35450211, 11.59092608]])"
      ]
     },
     "execution_count": 19,
     "metadata": {},
     "output_type": "execute_result"
    }
   ],
   "source": [
    "data = df.to_numpy()\n",
    "L = data[:,1:].T\n",
    "\n",
    "L"
   ]
  },
  {
   "cell_type": "code",
   "execution_count": 20,
   "metadata": {},
   "outputs": [],
   "source": [
    "result = GroupBMC(L).get_result()"
   ]
  },
  {
   "cell_type": "code",
   "execution_count": 21,
   "metadata": {},
   "outputs": [
    {
     "name": "stdout",
     "output_type": "stream",
     "text": [
      "       subj1 subj2 subj3 subj4 subj5 subj6 subj7 subj8 subj9 subj10 subj11 subj12 subj13 subj14 subj15 subj16 subj17 subj18 subj19 subj20 subj21 subj22 subj23 subj24 subj25 subj26 subj27 subj28 subj29 subj30 subj31 subj32 subj33 subj34 subj35 subj36 subj37 subj38 subj39 subj40 subj41 subj42 subj43 subj44 subj45 subj46 subj47 subj48 subj49\n",
      "model1 0.102 0.000 0.993 0.010 0.984 0.136 0.861 0.000 0.028 0.001 0.002 0.865 0.009 0.035 0.964 0.000 0.000 0.831 0.951 0.002 0.007 0.972 0.842 0.013 0.964 0.016 0.004 0.003 0.250 0.000 0.055 0.036 0.993 0.618 0.907 0.128 0.007 0.232 0.000 0.998 0.012 0.427 0.294 0.000 0.003 0.000 0.068 0.001 0.007\n",
      "model2 0.000 0.000 0.000 0.000 0.000 0.000 0.000 0.000 0.000 0.000 0.000 0.000 0.000 0.000 0.000 0.000 0.000 0.000 0.000 0.000 0.000 0.000 0.000 0.000 0.000 0.000 0.000 0.000 0.000 0.000 0.000 0.000 0.000 0.000 0.000 0.000 0.000 0.000 0.000 0.000 0.000 0.000 0.000 0.000 0.000 0.000 0.000 0.000 0.000\n",
      "model3 0.000 0.000 0.000 0.000 0.000 0.000 0.000 0.000 0.000 0.000 0.000 0.000 0.000 0.000 0.000 0.000 0.000 0.000 0.000 0.000 0.000 0.000 0.000 0.000 0.000 0.000 0.000 0.000 0.000 0.000 0.000 0.000 0.000 0.000 0.000 0.000 0.000 0.000 0.000 0.000 0.000 0.000 0.000 0.000 0.000 0.000 0.000 0.000 0.000\n",
      "model4 0.898 1.000 0.007 0.990 0.016 0.864 0.139 1.000 0.972 0.999 0.998 0.135 0.991 0.965 0.036 1.000 1.000 0.169 0.049 0.998 0.993 0.028 0.158 0.987 0.036 0.984 0.996 0.997 0.750 1.000 0.945 0.964 0.007 0.382 0.093 0.872 0.993 0.768 1.000 0.002 0.988 0.573 0.706 1.000 0.997 1.000 0.932 0.999 0.993\n"
     ]
    }
   ],
   "source": [
    "\n",
    "print('       ' + ' '.join([f'subj{j+1}' for j in range(L.shape[1])]))\n",
    "for i in range(L.shape[0]):\n",
    "    print(f'model{i+1} ' + ' '.join(map(lambda f: f'{f:.3f}', result.attribution[i])))"
   ]
  },
  {
   "cell_type": "code",
   "execution_count": 25,
   "metadata": {},
   "outputs": [
    {
     "data": {
      "image/png": "[encoded data removed]",
      "text/plain": [
       "<Figure size 432x288 with 1 Axes>"
      ]
     },
     "metadata": {
      "needs_background": "light"
     },
     "output_type": "display_data"
    }
   ],
   "source": [
    "_, ax = plt.subplots()\n",
    "ax.errorbar(np.arange(len(L)), result.frequency_mean, result.frequency_var)\n",
    "ax.set_xticks([0, 1, 2, 3])\n",
    "ax.set_xticklabels([\"sigmoid\", \"linear\", \"relu\", \"linear_step\"])\n",
    "ax.set_xlabel('Model')\n",
    "ax.set_ylim(0, 1)\n",
    "ax.set_ylabel('Posterior model frequency')\n",
    "plt.show()"
   ]
  },
  {
   "cell_type": "code",
   "execution_count": 26,
   "metadata": {},
   "outputs": [
    {
     "data": {
      "image/png": "[encoded data removed]",
      "text/plain": [
       "<Figure size 432x288 with 1 Axes>"
      ]
     },
     "metadata": {
      "needs_background": "light"
     },
     "output_type": "display_data"
    }
   ],
   "source": [
    "_, ax = plt.subplots()\n",
    "ax.plot(np.arange(len(L)), result.exceedance_probability)\n",
    "ax.set_xticks([0, 1, 2,3])\n",
    "ax.set_xticklabels([\"sigmoid\", \"linear\", \"relu\", \"linear_step\"])\n",
    "ax.set_xlabel('Model')\n",
    "ax.set_ylim(0, 1)\n",
    "ax.set_ylabel('Exceedance probability')\n",
    "plt.show()"
   ]
  }
 ],
 "metadata": {
  "kernelspec": {
   "display_name": "Python 3.9.12 ('simple_analysis')",
   "language": "python",
   "name": "python3"
  },
  "language_info": {
   "codemirror_mode": {
    "name": "ipython",
    "version": 3
   },
   "file_extension": ".py",
   "mimetype": "text/x-python",
   "name": "python",
   "nbconvert_exporter": "python",
   "pygments_lexer": "ipython3",
   "version": "3.9.12"
  },
  "orig_nbformat": 4,
  "vscode": {
   "interpreter": {
    "hash": "714c65b6556cc764f3390fa3fd2d33ea130c4e159503f5fc78fc31bdcf5df947"
   }
  }
 },
 "nbformat": 4,
 "nbformat_minor": 2
}
