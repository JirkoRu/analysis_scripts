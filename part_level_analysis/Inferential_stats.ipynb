{
 "cells": [
  {
   "cell_type": "markdown",
   "metadata": {},
   "source": [
    "Code to run inferential tests on our data"
   ]
  },
  {
   "cell_type": "code",
   "execution_count": 1,
   "metadata": {},
   "outputs": [],
   "source": [
    "import numpy as np\n",
    "import matplotlib.pyplot as plt\n",
    "from matplotlib.transforms import Affine2D\n",
    "import matplotlib.transforms as transforms\n",
    "import matplotlib\n",
    "import pandas as pd\n",
    "import os\n",
    "import os.path\n",
    "from scipy import stats\n",
    "import rpy2\n",
    "import pingouin as pg"
   ]
  },
  {
   "cell_type": "code",
   "execution_count": 2,
   "metadata": {},
   "outputs": [
    {
     "data": {
      "text/plain": [
       "'c:\\\\Users\\\\Jirko\\\\Desktop\\\\Hip_Lab\\\\analysis_scripts\\\\part_level_analysis'"
      ]
     },
     "execution_count": 2,
     "metadata": {},
     "output_type": "execute_result"
    }
   ],
   "source": [
    "dname = os.getcwd()\n",
    "dname"
   ]
  },
  {
   "cell_type": "code",
   "execution_count": 3,
   "metadata": {},
   "outputs": [
    {
     "data": {
      "text/html": [
       "<div>\n",
       "<style scoped>\n",
       "    .dataframe tbody tr th:only-of-type {\n",
       "        vertical-align: middle;\n",
       "    }\n",
       "\n",
       "    .dataframe tbody tr th {\n",
       "        vertical-align: top;\n",
       "    }\n",
       "\n",
       "    .dataframe thead th {\n",
       "        text-align: right;\n",
       "    }\n",
       "</style>\n",
       "<table border=\"1\" class=\"dataframe\">\n",
       "  <thead>\n",
       "    <tr style=\"text-align: right;\">\n",
       "      <th></th>\n",
       "      <th>ID</th>\n",
       "      <th>sigmoid</th>\n",
       "      <th>linear</th>\n",
       "      <th>relu</th>\n",
       "      <th>linear_step_2</th>\n",
       "    </tr>\n",
       "  </thead>\n",
       "  <tbody>\n",
       "    <tr>\n",
       "      <th>0</th>\n",
       "      <td>0</td>\n",
       "      <td>3.782378</td>\n",
       "      <td>1.512084</td>\n",
       "      <td>1.512084</td>\n",
       "      <td>9.458630</td>\n",
       "    </tr>\n",
       "    <tr>\n",
       "      <th>1</th>\n",
       "      <td>1</td>\n",
       "      <td>2.810269</td>\n",
       "      <td>1.860386</td>\n",
       "      <td>1.860386</td>\n",
       "      <td>13.867986</td>\n",
       "    </tr>\n",
       "    <tr>\n",
       "      <th>2</th>\n",
       "      <td>2</td>\n",
       "      <td>9.675852</td>\n",
       "      <td>1.405977</td>\n",
       "      <td>1.405977</td>\n",
       "      <td>9.424753</td>\n",
       "    </tr>\n",
       "    <tr>\n",
       "      <th>3</th>\n",
       "      <td>3</td>\n",
       "      <td>6.361855</td>\n",
       "      <td>1.948662</td>\n",
       "      <td>1.948662</td>\n",
       "      <td>10.460960</td>\n",
       "    </tr>\n",
       "    <tr>\n",
       "      <th>4</th>\n",
       "      <td>4</td>\n",
       "      <td>1.706993</td>\n",
       "      <td>1.183748</td>\n",
       "      <td>1.183748</td>\n",
       "      <td>6.267608</td>\n",
       "    </tr>\n",
       "    <tr>\n",
       "      <th>5</th>\n",
       "      <td>5</td>\n",
       "      <td>5.508092</td>\n",
       "      <td>1.057950</td>\n",
       "      <td>1.057950</td>\n",
       "      <td>11.016581</td>\n",
       "    </tr>\n",
       "  </tbody>\n",
       "</table>\n",
       "</div>"
      ],
      "text/plain": [
       "   ID   sigmoid    linear      relu  linear_step_2\n",
       "0   0  3.782378  1.512084  1.512084       9.458630\n",
       "1   1  2.810269  1.860386  1.860386      13.867986\n",
       "2   2  9.675852  1.405977  1.405977       9.424753\n",
       "3   3  6.361855  1.948662  1.948662      10.460960\n",
       "4   4  1.706993  1.183748  1.183748       6.267608\n",
       "5   5  5.508092  1.057950  1.057950      11.016581"
      ]
     },
     "execution_count": 3,
     "metadata": {},
     "output_type": "execute_result"
    }
   ],
   "source": [
    "df = pd.read_csv(dname + \"/params_trialwise/participantwise_log_likelihood_2.csv\")\n",
    "df.rename(columns={ df.columns[0]: \"ID\" }, inplace = True)\n",
    "df.head(6)"
   ]
  },
  {
   "cell_type": "markdown",
   "metadata": {},
   "source": [
    "lets test for normality"
   ]
  },
  {
   "cell_type": "code",
   "execution_count": 4,
   "metadata": {},
   "outputs": [
    {
     "name": "stdout",
     "output_type": "stream",
     "text": [
      "ID\n",
      "0.9556298851966858 0.06263722479343414\n",
      "sigmoid\n",
      "0.9523840546607971 0.0461496002972126\n",
      "linear\n",
      "0.9624005556106567 0.11893825232982635\n",
      "relu\n",
      "0.9614629149436951 0.10882913321256638\n",
      "linear_step_2\n",
      "0.934101402759552 0.008761046454310417\n"
     ]
    }
   ],
   "source": [
    "for column in df:\n",
    "    print(column)\n",
    "    k2, p = stats.shapiro(df[column])\n",
    "    print(k2, p)"
   ]
  },
  {
   "cell_type": "markdown",
   "metadata": {},
   "source": [
    "This looks okayish so lets run an ANOVA"
   ]
  },
  {
   "cell_type": "code",
   "execution_count": 5,
   "metadata": {},
   "outputs": [
    {
     "name": "stderr",
     "output_type": "stream",
     "text": [
      "Unable to determine R home: [WinError 2] The system cannot find the file specified\n",
      "Unable to determine R library path: Command '('C:\\\\Program Files\\\\R\\\\R-4.1.2\\\\bin\\\\Rscript', '-e', 'cat(Sys.getenv(\"LD_LIBRARY_PATH\"))')' returned non-zero exit status 1.\n"
     ]
    }
   ],
   "source": [
    "# Call R\n",
    "from rpy2.robjects.packages import importr\n",
    "from rpy2 import robjects\n",
    "from rpy2.robjects import pandas2ri\n",
    "pandas2ri.activate()  # make pyr2 accept and auto-convert pandas dataframes\n",
    "from rpy2.robjects import IntVector, FloatVector, FactorVector, globalenv\n",
    "lme4 = importr('lme4')\n",
    "base = importr('base')\n",
    "stats = importr('stats')\n",
    "broom = importr('broom')\n",
    "utils = importr('utils')\n",
    "ez = importr('ez')"
   ]
  },
  {
   "cell_type": "code",
   "execution_count": 7,
   "metadata": {},
   "outputs": [
    {
     "name": "stdout",
     "output_type": "stream",
     "text": [
      "(196, 3)\n"
     ]
    },
    {
     "data": {
      "text/html": [
       "<div>\n",
       "<style scoped>\n",
       "    .dataframe tbody tr th:only-of-type {\n",
       "        vertical-align: middle;\n",
       "    }\n",
       "\n",
       "    .dataframe tbody tr th {\n",
       "        vertical-align: top;\n",
       "    }\n",
       "\n",
       "    .dataframe thead th {\n",
       "        text-align: right;\n",
       "    }\n",
       "</style>\n",
       "<table border=\"1\" class=\"dataframe\">\n",
       "  <thead>\n",
       "    <tr style=\"text-align: right;\">\n",
       "      <th></th>\n",
       "      <th>ID</th>\n",
       "      <th>func_type</th>\n",
       "      <th>log_likelihood</th>\n",
       "    </tr>\n",
       "  </thead>\n",
       "  <tbody>\n",
       "    <tr>\n",
       "      <th>0</th>\n",
       "      <td>0</td>\n",
       "      <td>sigmoid</td>\n",
       "      <td>3.782378</td>\n",
       "    </tr>\n",
       "    <tr>\n",
       "      <th>1</th>\n",
       "      <td>1</td>\n",
       "      <td>sigmoid</td>\n",
       "      <td>2.810269</td>\n",
       "    </tr>\n",
       "    <tr>\n",
       "      <th>2</th>\n",
       "      <td>2</td>\n",
       "      <td>sigmoid</td>\n",
       "      <td>9.675852</td>\n",
       "    </tr>\n",
       "    <tr>\n",
       "      <th>3</th>\n",
       "      <td>3</td>\n",
       "      <td>sigmoid</td>\n",
       "      <td>6.361855</td>\n",
       "    </tr>\n",
       "    <tr>\n",
       "      <th>4</th>\n",
       "      <td>4</td>\n",
       "      <td>sigmoid</td>\n",
       "      <td>1.706993</td>\n",
       "    </tr>\n",
       "    <tr>\n",
       "      <th>5</th>\n",
       "      <td>5</td>\n",
       "      <td>sigmoid</td>\n",
       "      <td>5.508092</td>\n",
       "    </tr>\n",
       "    <tr>\n",
       "      <th>6</th>\n",
       "      <td>6</td>\n",
       "      <td>sigmoid</td>\n",
       "      <td>12.693263</td>\n",
       "    </tr>\n",
       "    <tr>\n",
       "      <th>7</th>\n",
       "      <td>7</td>\n",
       "      <td>sigmoid</td>\n",
       "      <td>2.316006</td>\n",
       "    </tr>\n",
       "    <tr>\n",
       "      <th>8</th>\n",
       "      <td>8</td>\n",
       "      <td>sigmoid</td>\n",
       "      <td>7.226887</td>\n",
       "    </tr>\n",
       "    <tr>\n",
       "      <th>9</th>\n",
       "      <td>9</td>\n",
       "      <td>sigmoid</td>\n",
       "      <td>3.704647</td>\n",
       "    </tr>\n",
       "  </tbody>\n",
       "</table>\n",
       "</div>"
      ],
      "text/plain": [
       "   ID func_type  log_likelihood\n",
       "0   0   sigmoid        3.782378\n",
       "1   1   sigmoid        2.810269\n",
       "2   2   sigmoid        9.675852\n",
       "3   3   sigmoid        6.361855\n",
       "4   4   sigmoid        1.706993\n",
       "5   5   sigmoid        5.508092\n",
       "6   6   sigmoid       12.693263\n",
       "7   7   sigmoid        2.316006\n",
       "8   8   sigmoid        7.226887\n",
       "9   9   sigmoid        3.704647"
      ]
     },
     "execution_count": 7,
     "metadata": {},
     "output_type": "execute_result"
    }
   ],
   "source": [
    "# df_long = pd.wide_to_long(df, stubnames = [\"log-likelihood\"], i = [\"sigmoid\", \"linear\", \"relu\", \"linear_step\"], j = \"type\")\n",
    "df_long = pd.melt(df, id_vars = \"ID\", value_vars=[\"sigmoid\", \"linear\", \"relu\", \"linear_step_2\"], value_name=\"log_likelihood\", var_name=\"func_type\")\n",
    "# df_long.insert(0, 'ID', range(0, len(df_long)))\n",
    "print(df_long.shape)\n",
    "df_long.head(10)"
   ]
  },
  {
   "cell_type": "code",
   "execution_count": 9,
   "metadata": {},
   "outputs": [],
   "source": [
    "globalenv['log_likelihood'] = FloatVector(df_long['log_likelihood'])\n",
    "globalenv['func_type'] = FactorVector(df_long['func_type'])"
   ]
  },
  {
   "cell_type": "code",
   "execution_count": 10,
   "metadata": {},
   "outputs": [
    {
     "name": "stderr",
     "output_type": "stream",
     "text": [
      "R[write to console]: Warning:\n",
      "R[write to console]:  Converting \"ID\" to factor for ANOVA.\n",
      "\n",
      "R[write to console]: Warning:\n",
      "R[write to console]:  Converting \"func_type\" to factor for ANOVA.\n",
      "\n"
     ]
    },
    {
     "name": "stdout",
     "output_type": "stream",
     "text": [
      "$ANOVA\n",
      "       Effect DFn DFd      SSn      SSd        F            p p<.05       ges\n",
      "1 (Intercept)   1  48 6091.455 1110.227 263.3605 4.030035e-21     * 0.7352425\n",
      "2   func_type   3 144 3447.843 1083.279 152.7736 1.511690e-44     * 0.6111735\n",
      "\n",
      "$`Mauchly's Test for Sphericity`\n",
      "     Effect            W            p p<.05\n",
      "2 func_type 1.110352e-05 1.64156e-112     *\n",
      "\n",
      "$`Sphericity Corrections`\n",
      "     Effect       GGe        p[GG] p[GG]<.05       HFe        p[HF] p[HF]<.05\n",
      "2 func_type 0.6041406 6.271359e-28         * 0.6264936 7.207687e-29         *\n",
      "\n",
      "\n"
     ]
    }
   ],
   "source": [
    "anova1 = robjects.r(\"\"\"\n",
    "library(ez)\n",
    "function(df) {\n",
    "    # df gets passed in\n",
    "    ezANOVA(\n",
    "        data=df,\n",
    "        dv=.(log_likelihood),\n",
    "        within = .(func_type),\n",
    "        wid=ID, \n",
    "        detailed=TRUE)\n",
    "}\n",
    "\"\"\")\n",
    "print(anova1(df_long))"
   ]
  },
  {
   "cell_type": "markdown",
   "metadata": {},
   "source": [
    "ANOVA and post hoc test in with different syntax"
   ]
  },
  {
   "cell_type": "code",
   "execution_count": 12,
   "metadata": {},
   "outputs": [
    {
     "data": {
      "text/html": [
       "<div>\n",
       "<style scoped>\n",
       "    .dataframe tbody tr th:only-of-type {\n",
       "        vertical-align: middle;\n",
       "    }\n",
       "\n",
       "    .dataframe tbody tr th {\n",
       "        vertical-align: top;\n",
       "    }\n",
       "\n",
       "    .dataframe thead th {\n",
       "        text-align: right;\n",
       "    }\n",
       "</style>\n",
       "<table border=\"1\" class=\"dataframe\">\n",
       "  <thead>\n",
       "    <tr style=\"text-align: right;\">\n",
       "      <th></th>\n",
       "      <th>Source</th>\n",
       "      <th>SS</th>\n",
       "      <th>DF</th>\n",
       "      <th>MS</th>\n",
       "      <th>F</th>\n",
       "      <th>p-unc</th>\n",
       "      <th>p-GG-corr</th>\n",
       "      <th>ng2</th>\n",
       "      <th>eps</th>\n",
       "      <th>sphericity</th>\n",
       "      <th>W-spher</th>\n",
       "      <th>p-spher</th>\n",
       "    </tr>\n",
       "  </thead>\n",
       "  <tbody>\n",
       "    <tr>\n",
       "      <th>0</th>\n",
       "      <td>func_type</td>\n",
       "      <td>3447.842627</td>\n",
       "      <td>3</td>\n",
       "      <td>1149.280876</td>\n",
       "      <td>152.773639</td>\n",
       "      <td>1.511690e-44</td>\n",
       "      <td>6.271359e-28</td>\n",
       "      <td>0.611174</td>\n",
       "      <td>0.604141</td>\n",
       "      <td>False</td>\n",
       "      <td>0.268136</td>\n",
       "      <td>6.102259e-12</td>\n",
       "    </tr>\n",
       "    <tr>\n",
       "      <th>1</th>\n",
       "      <td>Error</td>\n",
       "      <td>1083.278810</td>\n",
       "      <td>144</td>\n",
       "      <td>7.522770</td>\n",
       "      <td>NaN</td>\n",
       "      <td>NaN</td>\n",
       "      <td>NaN</td>\n",
       "      <td>NaN</td>\n",
       "      <td>NaN</td>\n",
       "      <td>NaN</td>\n",
       "      <td>NaN</td>\n",
       "      <td>NaN</td>\n",
       "    </tr>\n",
       "  </tbody>\n",
       "</table>\n",
       "</div>"
      ],
      "text/plain": [
       "      Source           SS   DF           MS           F         p-unc  \\\n",
       "0  func_type  3447.842627    3  1149.280876  152.773639  1.511690e-44   \n",
       "1      Error  1083.278810  144     7.522770         NaN           NaN   \n",
       "\n",
       "      p-GG-corr       ng2       eps sphericity   W-spher       p-spher  \n",
       "0  6.271359e-28  0.611174  0.604141      False  0.268136  6.102259e-12  \n",
       "1           NaN       NaN       NaN        NaN       NaN           NaN  "
      ]
     },
     "execution_count": 12,
     "metadata": {},
     "output_type": "execute_result"
    }
   ],
   "source": [
    "res = pg.rm_anova(data = df_long, dv=\"log_likelihood\", within=\"func_type\", subject=\"ID\", detailed=True)\n",
    "res"
   ]
  },
  {
   "cell_type": "markdown",
   "metadata": {},
   "source": [
    "Make post hocs"
   ]
  },
  {
   "cell_type": "code",
   "execution_count": 68,
   "metadata": {},
   "outputs": [
    {
     "name": "stderr",
     "output_type": "stream",
     "text": [
      "c:\\Users\\Jirko\\anaconda3\\envs\\simple_analysis\\lib\\site-packages\\pingouin\\pairwise.py:27: UserWarning: pairwise_ttests is deprecated, use pairwise_tests instead.\n",
      "  warnings.warn(\"pairwise_ttests is deprecated, use pairwise_tests instead.\", UserWarning)\n"
     ]
    },
    {
     "data": {
      "text/html": [
       "<div>\n",
       "<style scoped>\n",
       "    .dataframe tbody tr th:only-of-type {\n",
       "        vertical-align: middle;\n",
       "    }\n",
       "\n",
       "    .dataframe tbody tr th {\n",
       "        vertical-align: top;\n",
       "    }\n",
       "\n",
       "    .dataframe thead th {\n",
       "        text-align: right;\n",
       "    }\n",
       "</style>\n",
       "<table border=\"1\" class=\"dataframe\">\n",
       "  <thead>\n",
       "    <tr style=\"text-align: right;\">\n",
       "      <th></th>\n",
       "      <th>Contrast</th>\n",
       "      <th>A</th>\n",
       "      <th>B</th>\n",
       "      <th>Paired</th>\n",
       "      <th>Parametric</th>\n",
       "      <th>T</th>\n",
       "      <th>dof</th>\n",
       "      <th>alternative</th>\n",
       "      <th>p-unc</th>\n",
       "      <th>p-corr</th>\n",
       "      <th>p-adjust</th>\n",
       "      <th>BF10</th>\n",
       "      <th>hedges</th>\n",
       "    </tr>\n",
       "  </thead>\n",
       "  <tbody>\n",
       "    <tr>\n",
       "      <th>0</th>\n",
       "      <td>func_type</td>\n",
       "      <td>linear</td>\n",
       "      <td>linear_step</td>\n",
       "      <td>True</td>\n",
       "      <td>True</td>\n",
       "      <td>-43.672896</td>\n",
       "      <td>48.0</td>\n",
       "      <td>two-sided</td>\n",
       "      <td>2.659429e-40</td>\n",
       "      <td>1.595657e-39</td>\n",
       "      <td>bonf</td>\n",
       "      <td>5.813e+36</td>\n",
       "      <td>-7.024180</td>\n",
       "    </tr>\n",
       "    <tr>\n",
       "      <th>1</th>\n",
       "      <td>func_type</td>\n",
       "      <td>linear</td>\n",
       "      <td>relu</td>\n",
       "      <td>True</td>\n",
       "      <td>True</td>\n",
       "      <td>1.416619</td>\n",
       "      <td>48.0</td>\n",
       "      <td>two-sided</td>\n",
       "      <td>1.630520e-01</td>\n",
       "      <td>9.783120e-01</td>\n",
       "      <td>bonf</td>\n",
       "      <td>0.396</td>\n",
       "      <td>0.003027</td>\n",
       "    </tr>\n",
       "    <tr>\n",
       "      <th>2</th>\n",
       "      <td>func_type</td>\n",
       "      <td>linear</td>\n",
       "      <td>sigmoid</td>\n",
       "      <td>True</td>\n",
       "      <td>True</td>\n",
       "      <td>-9.635225</td>\n",
       "      <td>48.0</td>\n",
       "      <td>two-sided</td>\n",
       "      <td>8.427834e-13</td>\n",
       "      <td>5.056700e-12</td>\n",
       "      <td>bonf</td>\n",
       "      <td>9.828e+09</td>\n",
       "      <td>-1.740385</td>\n",
       "    </tr>\n",
       "    <tr>\n",
       "      <th>3</th>\n",
       "      <td>func_type</td>\n",
       "      <td>linear_step</td>\n",
       "      <td>relu</td>\n",
       "      <td>True</td>\n",
       "      <td>True</td>\n",
       "      <td>43.721401</td>\n",
       "      <td>48.0</td>\n",
       "      <td>two-sided</td>\n",
       "      <td>2.524669e-40</td>\n",
       "      <td>1.514802e-39</td>\n",
       "      <td>bonf</td>\n",
       "      <td>6.117e+36</td>\n",
       "      <td>7.024764</td>\n",
       "    </tr>\n",
       "    <tr>\n",
       "      <th>4</th>\n",
       "      <td>func_type</td>\n",
       "      <td>linear_step</td>\n",
       "      <td>sigmoid</td>\n",
       "      <td>True</td>\n",
       "      <td>True</td>\n",
       "      <td>20.545881</td>\n",
       "      <td>48.0</td>\n",
       "      <td>two-sided</td>\n",
       "      <td>1.985855e-25</td>\n",
       "      <td>1.191513e-24</td>\n",
       "      <td>bonf</td>\n",
       "      <td>1.722e+22</td>\n",
       "      <td>2.697608</td>\n",
       "    </tr>\n",
       "    <tr>\n",
       "      <th>5</th>\n",
       "      <td>func_type</td>\n",
       "      <td>relu</td>\n",
       "      <td>sigmoid</td>\n",
       "      <td>True</td>\n",
       "      <td>True</td>\n",
       "      <td>-9.638575</td>\n",
       "      <td>48.0</td>\n",
       "      <td>two-sided</td>\n",
       "      <td>8.334713e-13</td>\n",
       "      <td>5.000828e-12</td>\n",
       "      <td>bonf</td>\n",
       "      <td>9.934e+09</td>\n",
       "      <td>-1.740956</td>\n",
       "    </tr>\n",
       "  </tbody>\n",
       "</table>\n",
       "</div>"
      ],
      "text/plain": [
       "    Contrast            A            B  Paired  Parametric          T   dof  \\\n",
       "0  func_type       linear  linear_step    True        True -43.672896  48.0   \n",
       "1  func_type       linear         relu    True        True   1.416619  48.0   \n",
       "2  func_type       linear      sigmoid    True        True  -9.635225  48.0   \n",
       "3  func_type  linear_step         relu    True        True  43.721401  48.0   \n",
       "4  func_type  linear_step      sigmoid    True        True  20.545881  48.0   \n",
       "5  func_type         relu      sigmoid    True        True  -9.638575  48.0   \n",
       "\n",
       "  alternative         p-unc        p-corr p-adjust       BF10    hedges  \n",
       "0   two-sided  2.659429e-40  1.595657e-39     bonf  5.813e+36 -7.024180  \n",
       "1   two-sided  1.630520e-01  9.783120e-01     bonf      0.396  0.003027  \n",
       "2   two-sided  8.427834e-13  5.056700e-12     bonf  9.828e+09 -1.740385  \n",
       "3   two-sided  2.524669e-40  1.514802e-39     bonf  6.117e+36  7.024764  \n",
       "4   two-sided  1.985855e-25  1.191513e-24     bonf  1.722e+22  2.697608  \n",
       "5   two-sided  8.334713e-13  5.000828e-12     bonf  9.934e+09 -1.740956  "
      ]
     },
     "execution_count": 68,
     "metadata": {},
     "output_type": "execute_result"
    }
   ],
   "source": [
    "post_hocs = pg.pairwise_ttests(data=df_long, \n",
    "                              dv=\"log_likelihood\", \n",
    "                              within=\"func_type\", \n",
    "                              subject=\"ID\", \n",
    "                              padjust=\"bonf\")\n",
    "\n",
    "post_hocs\n"
   ]
  }
 ],
 "metadata": {
  "kernelspec": {
   "display_name": "Python 3.9.12 ('simple_analysis')",
   "language": "python",
   "name": "python3"
  },
  "language_info": {
   "codemirror_mode": {
    "name": "ipython",
    "version": 3
   },
   "file_extension": ".py",
   "mimetype": "text/x-python",
   "name": "python",
   "nbconvert_exporter": "python",
   "pygments_lexer": "ipython3",
   "version": "3.9.12"
  },
  "orig_nbformat": 4,
  "vscode": {
   "interpreter": {
    "hash": "714c65b6556cc764f3390fa3fd2d33ea130c4e159503f5fc78fc31bdcf5df947"
   }
  }
 },
 "nbformat": 4,
 "nbformat_minor": 2
}
