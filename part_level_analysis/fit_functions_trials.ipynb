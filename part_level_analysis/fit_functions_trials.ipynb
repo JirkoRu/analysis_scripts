{
 "cells": [
  {
   "cell_type": "code",
   "execution_count": 4,
   "metadata": {},
   "outputs": [],
   "source": [
    "import numpy as np\n",
    "import matplotlib.pyplot as plt\n",
    "from matplotlib.transforms import Affine2D\n",
    "import matplotlib.transforms as transforms\n",
    "import matplotlib\n",
    "import pandas as pd\n",
    "import os\n",
    "import os.path\n",
    "from scipy.optimize import curve_fit"
   ]
  },
  {
   "cell_type": "code",
   "execution_count": 5,
   "metadata": {},
   "outputs": [
    {
     "data": {
      "text/plain": [
       "'c:\\\\Users\\\\Jirko\\\\Desktop\\\\Hip_Lab\\\\analysis_scripts/data_loading/data_v2_quotes/'"
      ]
     },
     "execution_count": 5,
     "metadata": {},
     "output_type": "execute_result"
    }
   ],
   "source": [
    "dname = os.path.dirname(os.getcwd()) + '/data_loading/data_v2_quotes/'\n",
    "dname"
   ]
  },
  {
   "cell_type": "code",
   "execution_count": 6,
   "metadata": {},
   "outputs": [],
   "source": [
    "ACCURACY = np.load(dname + 'ACCURACY_New.npy')\n",
    "acc_first_prop = np.load(dname + 'Acc_first_prop_New.npy')\n",
    "acc_second_prop = np.load(dname + 'acc_second_prop_New.npy')\n",
    "acc_third_prop = np.load(dname + 'acc_third_prop_New.npy')"
   ]
  },
  {
   "cell_type": "code",
   "execution_count": 7,
   "metadata": {},
   "outputs": [
    {
     "data": {
      "text/plain": [
       "(49, 8, 16)"
      ]
     },
     "execution_count": 7,
     "metadata": {},
     "output_type": "execute_result"
    }
   ],
   "source": [
    "n_sujs, n_blocs, n_trials = ACCURACY.shape\n",
    "# ACCURACY.shape\n",
    "acc_first_prop.shape\n",
    "acc_second_prop.shape\n",
    "# ACCURACY[0,:,:] "
   ]
  },
  {
   "cell_type": "code",
   "execution_count": 10,
   "metadata": {},
   "outputs": [
    {
     "name": "stdout",
     "output_type": "stream",
     "text": [
      "[1. 1. 0. 0. 0. 1. 0. 1. 0. 1. 1. 1. 1. 0. 1. 1.]\n",
      "[1. 1. 0. 0. 0. 1. 0. 1. 0. 1. 1. 1. 1. 0. 1. 1.]\n"
     ]
    }
   ],
   "source": [
    "print(acc_first_prop[0,0,:])\n",
    "acc_first_prop_reshaped = np.reshape(acc_first_prop,(49,128))\n",
    "acc_second_prop_reshaped = np.reshape(acc_second_prop,(49,128))\n",
    "acc_third_prop_reshaped = np.reshape(acc_third_prop,(49,128))"
   ]
  },
  {
   "cell_type": "code",
   "execution_count": null,
   "metadata": {},
   "outputs": [],
   "source": [
    "def plot_accuracy_indi(subj_means, fig_name, fig_title, chance_level=False):\n",
    "    # Define figure\n",
    "    fig, ax = plt.subplots(1, 1, figsize=(9, 4), dpi=300, facecolor='w')\n",
    "\n",
    "    # Individual data\n",
    "    for i in range(subj_means.shape[0]-40):\n",
    "        ax.plot(\n",
    "            np.arange(n_blocs),\n",
    "            subj_means[i,:]\n",
    "        )\n",
    "    if chance_level:\n",
    "        ax.axhline(y=chance_level, color='r', linestyle='--' )\n",
    "    # Aesthetics\n",
    "    ax.set_title(fig_title, fontweight='bold')\n",
    "    ax.set_ylim(0.3, 1.05)\n",
    "    ax.set_xlabel('Block #')\n",
    "    ax.set_ylabel('Accuracy')\n",
    "\n",
    "    # Hide the right and top spines\n",
    "    ax.spines.right.set_visible(False)\n",
    "    ax.spines.top.set_visible(False)\n",
    "\n",
    "    plt.tight_layout()\n",
    "    # fig.savefig(fig_name)"
   ]
  },
  {
   "cell_type": "code",
   "execution_count": null,
   "metadata": {},
   "outputs": [],
   "source": [
    "def sigmoid(x, x0, k):\n",
    "    y = 1 / (1 + np.exp(-k*(x-x0)))\n",
    "    return y\n",
    "\n",
    "def linear(x, w, b):\n",
    "    y = x * w + b\n",
    "    return y\n",
    "\n",
    "def relu(x, w, b1, b2):\n",
    "    y = np.maximum((x * w - b1),0) + b2\n",
    "    return y\n",
    "\n",
    "def heaviside(x, b1, b2):\n",
    "    y = 1 * (x + b1 > 0) * b2\n",
    "    return y"
   ]
  },
  {
   "cell_type": "code",
   "execution_count": null,
   "metadata": {},
   "outputs": [],
   "source": [
    "def part_fit(function, data, n_params, p0, bound):\n",
    "    \"\"\"make fit to each participant and return the params\n",
    "\n",
    "    Args:\n",
    "        function (_type_): _description_\n",
    "        data (_type_): _description_\n",
    "    \"\"\"\n",
    "    all_popt = np.full((data.shape[0], n_params), np.nan)\n",
    "    # loop over each participant\n",
    "    x_data = np.linspace(1, data.shape[1], 8)\n",
    "\n",
    "    for i in range(data.shape[0]):\n",
    "        y_data = data[i,:]\n",
    "\n",
    "        popt, pcov = curve_fit(function, x_data, y_data, p0, method='dogbox',bounds=bound, maxfev=5000)\n",
    "        \n",
    "        all_popt[i,:] = popt\n",
    "\n",
    "    return all_popt"
   ]
  },
  {
   "cell_type": "code",
   "execution_count": null,
   "metadata": {},
   "outputs": [],
   "source": [
    "p0 = [max(y_data), 1] # this is an mandatory initial guess\n",
    "bound = ([1, -np.inf], [np.inf, np.inf])\n",
    "\n",
    "all_popt = part_fit(sigmoid, subj_acc_second, 2, p0, bound)\n",
    "df = pd.DataFrame(all_popt, columns = ['x0','k'])\n",
    "df.to_csv(\"params/sigmoid.csv\")\n",
    "print(all_popt.shape)"
   ]
  }
 ],
 "metadata": {
  "kernelspec": {
   "display_name": "Python 3.9.12 ('simple_analysis')",
   "language": "python",
   "name": "python3"
  },
  "language_info": {
   "codemirror_mode": {
    "name": "ipython",
    "version": 3
   },
   "file_extension": ".py",
   "mimetype": "text/x-python",
   "name": "python",
   "nbconvert_exporter": "python",
   "pygments_lexer": "ipython3",
   "version": "3.9.12"
  },
  "orig_nbformat": 4,
  "vscode": {
   "interpreter": {
    "hash": "714c65b6556cc764f3390fa3fd2d33ea130c4e159503f5fc78fc31bdcf5df947"
   }
  }
 },
 "nbformat": 4,
 "nbformat_minor": 2
}
