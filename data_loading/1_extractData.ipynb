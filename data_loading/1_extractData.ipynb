{
 "cells": [
  {
   "cell_type": "markdown",
   "metadata": {},
   "source": [
    "# Import CSV files, combine them and extract Numpy arrays"
   ]
  },
  {
   "cell_type": "code",
   "execution_count": 2,
   "metadata": {},
   "outputs": [],
   "source": [
    "import numpy as np\n",
    "import pandas as pd\n",
    "import json\n",
    "import os\n",
    "import glob\n",
    "import re"
   ]
  },
  {
   "cell_type": "markdown",
   "metadata": {},
   "source": [
    "### Import files into pd.DataFrame"
   ]
  },
  {
   "cell_type": "code",
   "execution_count": 3,
   "metadata": {},
   "outputs": [
    {
     "data": {
      "text/plain": [
       "'c:\\\\Users\\\\Jirko\\\\Desktop\\\\Hip_Lab\\\\analysis_scripts\\\\data_loading/data_v2/'"
      ]
     },
     "execution_count": 3,
     "metadata": {},
     "output_type": "execute_result"
    }
   ],
   "source": [
    "dname = os.getcwd() + '/data_v2/'\n",
    "dname"
   ]
  },
  {
   "cell_type": "code",
   "execution_count": 4,
   "metadata": {},
   "outputs": [
    {
     "data": {
      "text/plain": [
       "['c:\\\\Users\\\\Jirko\\\\Desktop\\\\Hip_Lab\\\\analysis_scripts\\\\data_loading/data_v2\\\\0tl442hvKm05.txt',\n",
       " 'c:\\\\Users\\\\Jirko\\\\Desktop\\\\Hip_Lab\\\\analysis_scripts\\\\data_loading/data_v2\\\\1S2NaIDr2Hb7.txt',\n",
       " 'c:\\\\Users\\\\Jirko\\\\Desktop\\\\Hip_Lab\\\\analysis_scripts\\\\data_loading/data_v2\\\\3dWkc3IGEK2s.txt',\n",
       " 'c:\\\\Users\\\\Jirko\\\\Desktop\\\\Hip_Lab\\\\analysis_scripts\\\\data_loading/data_v2\\\\3opDXh8RdT6k.txt',\n",
       " 'c:\\\\Users\\\\Jirko\\\\Desktop\\\\Hip_Lab\\\\analysis_scripts\\\\data_loading/data_v2\\\\4NSH4GA1Oqqx.txt',\n",
       " 'c:\\\\Users\\\\Jirko\\\\Desktop\\\\Hip_Lab\\\\analysis_scripts\\\\data_loading/data_v2\\\\4R36AQWVXsxM.txt',\n",
       " 'c:\\\\Users\\\\Jirko\\\\Desktop\\\\Hip_Lab\\\\analysis_scripts\\\\data_loading/data_v2\\\\7aw0AQVPy0Mn.txt',\n",
       " 'c:\\\\Users\\\\Jirko\\\\Desktop\\\\Hip_Lab\\\\analysis_scripts\\\\data_loading/data_v2\\\\7JFi4csQY00N.txt',\n",
       " 'c:\\\\Users\\\\Jirko\\\\Desktop\\\\Hip_Lab\\\\analysis_scripts\\\\data_loading/data_v2\\\\7sp6iH0i4S3G.txt',\n",
       " 'c:\\\\Users\\\\Jirko\\\\Desktop\\\\Hip_Lab\\\\analysis_scripts\\\\data_loading/data_v2\\\\8uloC73yqgyF.txt',\n",
       " 'c:\\\\Users\\\\Jirko\\\\Desktop\\\\Hip_Lab\\\\analysis_scripts\\\\data_loading/data_v2\\\\90dULard70AO.txt',\n",
       " 'c:\\\\Users\\\\Jirko\\\\Desktop\\\\Hip_Lab\\\\analysis_scripts\\\\data_loading/data_v2\\\\9sKymqK0NbkJ.txt',\n",
       " 'c:\\\\Users\\\\Jirko\\\\Desktop\\\\Hip_Lab\\\\analysis_scripts\\\\data_loading/data_v2\\\\ahMhbbU8U0LZ.txt',\n",
       " 'c:\\\\Users\\\\Jirko\\\\Desktop\\\\Hip_Lab\\\\analysis_scripts\\\\data_loading/data_v2\\\\AR7NdQpVtSG6.txt',\n",
       " 'c:\\\\Users\\\\Jirko\\\\Desktop\\\\Hip_Lab\\\\analysis_scripts\\\\data_loading/data_v2\\\\c2f4PiMcTKfv.txt',\n",
       " 'c:\\\\Users\\\\Jirko\\\\Desktop\\\\Hip_Lab\\\\analysis_scripts\\\\data_loading/data_v2\\\\DrYcBn0Ezs1f.txt',\n",
       " 'c:\\\\Users\\\\Jirko\\\\Desktop\\\\Hip_Lab\\\\analysis_scripts\\\\data_loading/data_v2\\\\DvdHd7c6AuEX.txt',\n",
       " 'c:\\\\Users\\\\Jirko\\\\Desktop\\\\Hip_Lab\\\\analysis_scripts\\\\data_loading/data_v2\\\\dwKoLCApbhqp.txt',\n",
       " 'c:\\\\Users\\\\Jirko\\\\Desktop\\\\Hip_Lab\\\\analysis_scripts\\\\data_loading/data_v2\\\\F3EbrtyOkjmA.txt',\n",
       " 'c:\\\\Users\\\\Jirko\\\\Desktop\\\\Hip_Lab\\\\analysis_scripts\\\\data_loading/data_v2\\\\FsJw4SKaHymC.txt',\n",
       " 'c:\\\\Users\\\\Jirko\\\\Desktop\\\\Hip_Lab\\\\analysis_scripts\\\\data_loading/data_v2\\\\fyMFPxtvgkTz.txt',\n",
       " 'c:\\\\Users\\\\Jirko\\\\Desktop\\\\Hip_Lab\\\\analysis_scripts\\\\data_loading/data_v2\\\\gkFnW9bNcK27.txt',\n",
       " 'c:\\\\Users\\\\Jirko\\\\Desktop\\\\Hip_Lab\\\\analysis_scripts\\\\data_loading/data_v2\\\\h80KIzQEyVC1.txt',\n",
       " 'c:\\\\Users\\\\Jirko\\\\Desktop\\\\Hip_Lab\\\\analysis_scripts\\\\data_loading/data_v2\\\\HjfAibTUOYzb.txt',\n",
       " 'c:\\\\Users\\\\Jirko\\\\Desktop\\\\Hip_Lab\\\\analysis_scripts\\\\data_loading/data_v2\\\\hstPOZwIyRR1.txt',\n",
       " 'c:\\\\Users\\\\Jirko\\\\Desktop\\\\Hip_Lab\\\\analysis_scripts\\\\data_loading/data_v2\\\\iLHoSSqgp0C9.txt',\n",
       " 'c:\\\\Users\\\\Jirko\\\\Desktop\\\\Hip_Lab\\\\analysis_scripts\\\\data_loading/data_v2\\\\jMskiSjk3HOS.txt',\n",
       " 'c:\\\\Users\\\\Jirko\\\\Desktop\\\\Hip_Lab\\\\analysis_scripts\\\\data_loading/data_v2\\\\kgUy7OzybO1l.txt',\n",
       " 'c:\\\\Users\\\\Jirko\\\\Desktop\\\\Hip_Lab\\\\analysis_scripts\\\\data_loading/data_v2\\\\kLTG4TUC9OND.txt',\n",
       " 'c:\\\\Users\\\\Jirko\\\\Desktop\\\\Hip_Lab\\\\analysis_scripts\\\\data_loading/data_v2\\\\lfLERo3z2Pfm.txt',\n",
       " 'c:\\\\Users\\\\Jirko\\\\Desktop\\\\Hip_Lab\\\\analysis_scripts\\\\data_loading/data_v2\\\\lKvvH54mcN8v.txt',\n",
       " 'c:\\\\Users\\\\Jirko\\\\Desktop\\\\Hip_Lab\\\\analysis_scripts\\\\data_loading/data_v2\\\\mePbUUB9W0pA.txt',\n",
       " 'c:\\\\Users\\\\Jirko\\\\Desktop\\\\Hip_Lab\\\\analysis_scripts\\\\data_loading/data_v2\\\\mf4uNCxC6eFM.txt',\n",
       " 'c:\\\\Users\\\\Jirko\\\\Desktop\\\\Hip_Lab\\\\analysis_scripts\\\\data_loading/data_v2\\\\mmceCA7glerO.txt',\n",
       " 'c:\\\\Users\\\\Jirko\\\\Desktop\\\\Hip_Lab\\\\analysis_scripts\\\\data_loading/data_v2\\\\nWqt9f36BeSu.txt',\n",
       " 'c:\\\\Users\\\\Jirko\\\\Desktop\\\\Hip_Lab\\\\analysis_scripts\\\\data_loading/data_v2\\\\pD1cJuZQk4VN.txt',\n",
       " 'c:\\\\Users\\\\Jirko\\\\Desktop\\\\Hip_Lab\\\\analysis_scripts\\\\data_loading/data_v2\\\\PPSAUJJfcc8p.txt',\n",
       " 'c:\\\\Users\\\\Jirko\\\\Desktop\\\\Hip_Lab\\\\analysis_scripts\\\\data_loading/data_v2\\\\QPvPPDYJ2QJx.txt',\n",
       " 'c:\\\\Users\\\\Jirko\\\\Desktop\\\\Hip_Lab\\\\analysis_scripts\\\\data_loading/data_v2\\\\Rl2Z7xiIc0ze.txt',\n",
       " 'c:\\\\Users\\\\Jirko\\\\Desktop\\\\Hip_Lab\\\\analysis_scripts\\\\data_loading/data_v2\\\\RVzKFIgYYcCG.txt',\n",
       " 'c:\\\\Users\\\\Jirko\\\\Desktop\\\\Hip_Lab\\\\analysis_scripts\\\\data_loading/data_v2\\\\TcIEQJQgKfEO.txt',\n",
       " 'c:\\\\Users\\\\Jirko\\\\Desktop\\\\Hip_Lab\\\\analysis_scripts\\\\data_loading/data_v2\\\\thqbpAkuexrf.txt',\n",
       " 'c:\\\\Users\\\\Jirko\\\\Desktop\\\\Hip_Lab\\\\analysis_scripts\\\\data_loading/data_v2\\\\VwLIlkRbpOnF.txt',\n",
       " 'c:\\\\Users\\\\Jirko\\\\Desktop\\\\Hip_Lab\\\\analysis_scripts\\\\data_loading/data_v2\\\\VZJHywqkPvPv.txt',\n",
       " 'c:\\\\Users\\\\Jirko\\\\Desktop\\\\Hip_Lab\\\\analysis_scripts\\\\data_loading/data_v2\\\\W8E9mDU5WMAN.txt',\n",
       " 'c:\\\\Users\\\\Jirko\\\\Desktop\\\\Hip_Lab\\\\analysis_scripts\\\\data_loading/data_v2\\\\wbMmHFrF4EgN.txt',\n",
       " 'c:\\\\Users\\\\Jirko\\\\Desktop\\\\Hip_Lab\\\\analysis_scripts\\\\data_loading/data_v2\\\\xsNzf5gIo4Aw.txt',\n",
       " 'c:\\\\Users\\\\Jirko\\\\Desktop\\\\Hip_Lab\\\\analysis_scripts\\\\data_loading/data_v2\\\\yERZN8Pt1Fln.txt',\n",
       " 'c:\\\\Users\\\\Jirko\\\\Desktop\\\\Hip_Lab\\\\analysis_scripts\\\\data_loading/data_v2\\\\zVLRpmXHXIA7.txt']"
      ]
     },
     "execution_count": 4,
     "metadata": {},
     "output_type": "execute_result"
    }
   ],
   "source": [
    "# list the file names\n",
    "fnames = glob.glob(dname + '*.txt')\n",
    "fnames"
   ]
  },
  {
   "cell_type": "code",
   "execution_count": 5,
   "metadata": {},
   "outputs": [],
   "source": [
    "# regular expressions to make the file suitable to be read into a dataframe\n",
    "def replace_several(diction, text):\n",
    "    # create regex from dict\n",
    "    regex = re.compile(\"(%s)\" % \"|\".join(map(re.escape, diction.keys())))\n",
    "\n",
    "    # look-up value in dictionary\n",
    "    return regex.sub(lambda mo: diction[mo.string[mo.start():mo.end()]], text)  \n",
    "\n",
    "# dictionary for replacement\n",
    "expres_dict = {\"sdata\": '\\\"sdata\\\"', \"edata\": '\\\"edata\\\"', \"parameters\": '\\\"parameters\\\"'}\n",
    "\n",
    "# run a loop over file names\n",
    "for fname in fnames:\n",
    "    # make a new file to place the data\n",
    "    newfile = open(\"data_v2_quotes/\"+ os.path.basename(os.path.normpath(fname)) , 'w')\n",
    "    # print(\"data_v2_quotes/\"+ os.path.basename(os.path.normpath(fname)))\n",
    "    for i, line in enumerate(open(fname)):\n",
    "        rep_line = replace_several(expres_dict, line)\n",
    "        # replace the content of the file line by line\n",
    "        newfile.write(\"%s\" % rep_line)\n",
    "        # newfile.write('\\n')"
   ]
  },
  {
   "cell_type": "code",
   "execution_count": 6,
   "metadata": {},
   "outputs": [],
   "source": [
    "#  function from https://github.com/aranas\n",
    "def data2dict(file_path):\n",
    "    \"\"\" Load in data saved from javascript online study\n",
    "    Deals with missing '{}' and outputs data in the form of dicts.\n",
    "    ​\n",
    "    Parameters:\n",
    "    path_to_file (str) : full path to file that contains data\n",
    "​   \n",
    "    Returns:\n",
    "    out (list) : list of dicts from file\n",
    "    ​\n",
    "    \"\"\"\n",
    "    with open(file_path, \"r\") as file:\n",
    "        data_read = file.read().split('\\n')\n",
    "    out = [json.loads('{' + line + '}') for line in data_read]\n",
    "    return out\n",
    "\n",
    "# test = data2dict(\"data_v2_quotes/3dWkc3IGEK2s.txt\")\n",
    "# print(len(test))\n",
    "# print(test[])\n"
   ]
  },
  {
   "cell_type": "code",
   "execution_count": 7,
   "metadata": {},
   "outputs": [
    {
     "name": "stdout",
     "output_type": "stream",
     "text": [
      "['c:\\\\Users\\\\Jirko\\\\Desktop\\\\Hip_Lab\\\\analysis_scripts\\\\data_loading/data_v2_quotes\\\\0tl442hvKm05.txt', 'c:\\\\Users\\\\Jirko\\\\Desktop\\\\Hip_Lab\\\\analysis_scripts\\\\data_loading/data_v2_quotes\\\\1S2NaIDr2Hb7.txt', 'c:\\\\Users\\\\Jirko\\\\Desktop\\\\Hip_Lab\\\\analysis_scripts\\\\data_loading/data_v2_quotes\\\\3dWkc3IGEK2s.txt', 'c:\\\\Users\\\\Jirko\\\\Desktop\\\\Hip_Lab\\\\analysis_scripts\\\\data_loading/data_v2_quotes\\\\3opDXh8RdT6k.txt', 'c:\\\\Users\\\\Jirko\\\\Desktop\\\\Hip_Lab\\\\analysis_scripts\\\\data_loading/data_v2_quotes\\\\4NSH4GA1Oqqx.txt', 'c:\\\\Users\\\\Jirko\\\\Desktop\\\\Hip_Lab\\\\analysis_scripts\\\\data_loading/data_v2_quotes\\\\4R36AQWVXsxM.txt', 'c:\\\\Users\\\\Jirko\\\\Desktop\\\\Hip_Lab\\\\analysis_scripts\\\\data_loading/data_v2_quotes\\\\7aw0AQVPy0Mn.txt', 'c:\\\\Users\\\\Jirko\\\\Desktop\\\\Hip_Lab\\\\analysis_scripts\\\\data_loading/data_v2_quotes\\\\7JFi4csQY00N.txt', 'c:\\\\Users\\\\Jirko\\\\Desktop\\\\Hip_Lab\\\\analysis_scripts\\\\data_loading/data_v2_quotes\\\\7sp6iH0i4S3G.txt', 'c:\\\\Users\\\\Jirko\\\\Desktop\\\\Hip_Lab\\\\analysis_scripts\\\\data_loading/data_v2_quotes\\\\8uloC73yqgyF.txt', 'c:\\\\Users\\\\Jirko\\\\Desktop\\\\Hip_Lab\\\\analysis_scripts\\\\data_loading/data_v2_quotes\\\\90dULard70AO.txt', 'c:\\\\Users\\\\Jirko\\\\Desktop\\\\Hip_Lab\\\\analysis_scripts\\\\data_loading/data_v2_quotes\\\\9sKymqK0NbkJ.txt', 'c:\\\\Users\\\\Jirko\\\\Desktop\\\\Hip_Lab\\\\analysis_scripts\\\\data_loading/data_v2_quotes\\\\ahMhbbU8U0LZ.txt', 'c:\\\\Users\\\\Jirko\\\\Desktop\\\\Hip_Lab\\\\analysis_scripts\\\\data_loading/data_v2_quotes\\\\AR7NdQpVtSG6.txt', 'c:\\\\Users\\\\Jirko\\\\Desktop\\\\Hip_Lab\\\\analysis_scripts\\\\data_loading/data_v2_quotes\\\\c2f4PiMcTKfv.txt', 'c:\\\\Users\\\\Jirko\\\\Desktop\\\\Hip_Lab\\\\analysis_scripts\\\\data_loading/data_v2_quotes\\\\DrYcBn0Ezs1f.txt', 'c:\\\\Users\\\\Jirko\\\\Desktop\\\\Hip_Lab\\\\analysis_scripts\\\\data_loading/data_v2_quotes\\\\DvdHd7c6AuEX.txt', 'c:\\\\Users\\\\Jirko\\\\Desktop\\\\Hip_Lab\\\\analysis_scripts\\\\data_loading/data_v2_quotes\\\\dwKoLCApbhqp.txt', 'c:\\\\Users\\\\Jirko\\\\Desktop\\\\Hip_Lab\\\\analysis_scripts\\\\data_loading/data_v2_quotes\\\\F3EbrtyOkjmA.txt', 'c:\\\\Users\\\\Jirko\\\\Desktop\\\\Hip_Lab\\\\analysis_scripts\\\\data_loading/data_v2_quotes\\\\FsJw4SKaHymC.txt', 'c:\\\\Users\\\\Jirko\\\\Desktop\\\\Hip_Lab\\\\analysis_scripts\\\\data_loading/data_v2_quotes\\\\fyMFPxtvgkTz.txt', 'c:\\\\Users\\\\Jirko\\\\Desktop\\\\Hip_Lab\\\\analysis_scripts\\\\data_loading/data_v2_quotes\\\\gkFnW9bNcK27.txt', 'c:\\\\Users\\\\Jirko\\\\Desktop\\\\Hip_Lab\\\\analysis_scripts\\\\data_loading/data_v2_quotes\\\\h80KIzQEyVC1.txt', 'c:\\\\Users\\\\Jirko\\\\Desktop\\\\Hip_Lab\\\\analysis_scripts\\\\data_loading/data_v2_quotes\\\\HjfAibTUOYzb.txt', 'c:\\\\Users\\\\Jirko\\\\Desktop\\\\Hip_Lab\\\\analysis_scripts\\\\data_loading/data_v2_quotes\\\\hstPOZwIyRR1.txt', 'c:\\\\Users\\\\Jirko\\\\Desktop\\\\Hip_Lab\\\\analysis_scripts\\\\data_loading/data_v2_quotes\\\\iLHoSSqgp0C9.txt', 'c:\\\\Users\\\\Jirko\\\\Desktop\\\\Hip_Lab\\\\analysis_scripts\\\\data_loading/data_v2_quotes\\\\jMskiSjk3HOS.txt', 'c:\\\\Users\\\\Jirko\\\\Desktop\\\\Hip_Lab\\\\analysis_scripts\\\\data_loading/data_v2_quotes\\\\kgUy7OzybO1l.txt', 'c:\\\\Users\\\\Jirko\\\\Desktop\\\\Hip_Lab\\\\analysis_scripts\\\\data_loading/data_v2_quotes\\\\kLTG4TUC9OND.txt', 'c:\\\\Users\\\\Jirko\\\\Desktop\\\\Hip_Lab\\\\analysis_scripts\\\\data_loading/data_v2_quotes\\\\lfLERo3z2Pfm.txt', 'c:\\\\Users\\\\Jirko\\\\Desktop\\\\Hip_Lab\\\\analysis_scripts\\\\data_loading/data_v2_quotes\\\\lKvvH54mcN8v.txt', 'c:\\\\Users\\\\Jirko\\\\Desktop\\\\Hip_Lab\\\\analysis_scripts\\\\data_loading/data_v2_quotes\\\\mePbUUB9W0pA.txt', 'c:\\\\Users\\\\Jirko\\\\Desktop\\\\Hip_Lab\\\\analysis_scripts\\\\data_loading/data_v2_quotes\\\\mf4uNCxC6eFM.txt', 'c:\\\\Users\\\\Jirko\\\\Desktop\\\\Hip_Lab\\\\analysis_scripts\\\\data_loading/data_v2_quotes\\\\mmceCA7glerO.txt', 'c:\\\\Users\\\\Jirko\\\\Desktop\\\\Hip_Lab\\\\analysis_scripts\\\\data_loading/data_v2_quotes\\\\nWqt9f36BeSu.txt', 'c:\\\\Users\\\\Jirko\\\\Desktop\\\\Hip_Lab\\\\analysis_scripts\\\\data_loading/data_v2_quotes\\\\pD1cJuZQk4VN.txt', 'c:\\\\Users\\\\Jirko\\\\Desktop\\\\Hip_Lab\\\\analysis_scripts\\\\data_loading/data_v2_quotes\\\\PPSAUJJfcc8p.txt', 'c:\\\\Users\\\\Jirko\\\\Desktop\\\\Hip_Lab\\\\analysis_scripts\\\\data_loading/data_v2_quotes\\\\QPvPPDYJ2QJx.txt', 'c:\\\\Users\\\\Jirko\\\\Desktop\\\\Hip_Lab\\\\analysis_scripts\\\\data_loading/data_v2_quotes\\\\Rl2Z7xiIc0ze.txt', 'c:\\\\Users\\\\Jirko\\\\Desktop\\\\Hip_Lab\\\\analysis_scripts\\\\data_loading/data_v2_quotes\\\\RVzKFIgYYcCG.txt', 'c:\\\\Users\\\\Jirko\\\\Desktop\\\\Hip_Lab\\\\analysis_scripts\\\\data_loading/data_v2_quotes\\\\TcIEQJQgKfEO.txt', 'c:\\\\Users\\\\Jirko\\\\Desktop\\\\Hip_Lab\\\\analysis_scripts\\\\data_loading/data_v2_quotes\\\\thqbpAkuexrf.txt', 'c:\\\\Users\\\\Jirko\\\\Desktop\\\\Hip_Lab\\\\analysis_scripts\\\\data_loading/data_v2_quotes\\\\VwLIlkRbpOnF.txt', 'c:\\\\Users\\\\Jirko\\\\Desktop\\\\Hip_Lab\\\\analysis_scripts\\\\data_loading/data_v2_quotes\\\\VZJHywqkPvPv.txt', 'c:\\\\Users\\\\Jirko\\\\Desktop\\\\Hip_Lab\\\\analysis_scripts\\\\data_loading/data_v2_quotes\\\\W8E9mDU5WMAN.txt', 'c:\\\\Users\\\\Jirko\\\\Desktop\\\\Hip_Lab\\\\analysis_scripts\\\\data_loading/data_v2_quotes\\\\wbMmHFrF4EgN.txt', 'c:\\\\Users\\\\Jirko\\\\Desktop\\\\Hip_Lab\\\\analysis_scripts\\\\data_loading/data_v2_quotes\\\\xsNzf5gIo4Aw.txt', 'c:\\\\Users\\\\Jirko\\\\Desktop\\\\Hip_Lab\\\\analysis_scripts\\\\data_loading/data_v2_quotes\\\\yERZN8Pt1Fln.txt', 'c:\\\\Users\\\\Jirko\\\\Desktop\\\\Hip_Lab\\\\analysis_scripts\\\\data_loading/data_v2_quotes\\\\zVLRpmXHXIA7.txt']\n"
     ]
    }
   ],
   "source": [
    "dname_new = os.getcwd() + '/data_v2_quotes/'\n",
    "fnames_new = glob.glob(dname_new + '*.txt')\n",
    "print(fnames_new)"
   ]
  },
  {
   "cell_type": "code",
   "execution_count": 10,
   "metadata": {},
   "outputs": [
    {
     "ename": "JSONDecodeError",
     "evalue": "Expecting value: line 1 column 1 (char 0)",
     "output_type": "error",
     "traceback": [
      "\u001b[1;31m---------------------------------------------------------------------------\u001b[0m",
      "\u001b[1;31mJSONDecodeError\u001b[0m                           Traceback (most recent call last)",
      "\u001b[1;32mc:\\Users\\Jirko\\Desktop\\Hip_Lab\\analysis_scripts\\data_loading\\1_extractData.ipynb Cell 9'\u001b[0m in \u001b[0;36m<cell line: 2>\u001b[1;34m()\u001b[0m\n\u001b[0;32m      <a href='vscode-notebook-cell:/c%3A/Users/Jirko/Desktop/Hip_Lab/analysis_scripts/data_loading/1_extractData.ipynb#ch0000008?line=3'>4</a>\u001b[0m \u001b[39mwith\u001b[39;00m \u001b[39mopen\u001b[39m(fname) \u001b[39mas\u001b[39;00m f:\n\u001b[0;32m      <a href='vscode-notebook-cell:/c%3A/Users/Jirko/Desktop/Hip_Lab/analysis_scripts/data_loading/1_extractData.ipynb#ch0000008?line=4'>5</a>\u001b[0m     \u001b[39m# read the data and transform to a dictionary\u001b[39;00m\n\u001b[0;32m      <a href='vscode-notebook-cell:/c%3A/Users/Jirko/Desktop/Hip_Lab/analysis_scripts/data_loading/1_extractData.ipynb#ch0000008?line=5'>6</a>\u001b[0m     data \u001b[39m=\u001b[39m f\u001b[39m.\u001b[39mread() \n\u001b[1;32m----> <a href='vscode-notebook-cell:/c%3A/Users/Jirko/Desktop/Hip_Lab/analysis_scripts/data_loading/1_extractData.ipynb#ch0000008?line=6'>7</a>\u001b[0m     js \u001b[39m=\u001b[39m json\u001b[39m.\u001b[39;49mloads(data)\n\u001b[0;32m      <a href='vscode-notebook-cell:/c%3A/Users/Jirko/Desktop/Hip_Lab/analysis_scripts/data_loading/1_extractData.ipynb#ch0000008?line=7'>8</a>\u001b[0m     \u001b[39mprint\u001b[39m(\u001b[39mlen\u001b[39m(js[\u001b[39m\"\u001b[39m\u001b[39msdata\u001b[39m\u001b[39m\"\u001b[39m]))\n\u001b[0;32m      <a href='vscode-notebook-cell:/c%3A/Users/Jirko/Desktop/Hip_Lab/analysis_scripts/data_loading/1_extractData.ipynb#ch0000008?line=8'>9</a>\u001b[0m     \u001b[39m# enter the dict into a dataframe\u001b[39;00m\n",
      "File \u001b[1;32mc:\\Users\\Jirko\\anaconda3\\envs\\simple_analysis\\lib\\json\\__init__.py:346\u001b[0m, in \u001b[0;36mloads\u001b[1;34m(s, cls, object_hook, parse_float, parse_int, parse_constant, object_pairs_hook, **kw)\u001b[0m\n\u001b[0;32m    341\u001b[0m     s \u001b[39m=\u001b[39m s\u001b[39m.\u001b[39mdecode(detect_encoding(s), \u001b[39m'\u001b[39m\u001b[39msurrogatepass\u001b[39m\u001b[39m'\u001b[39m)\n\u001b[0;32m    343\u001b[0m \u001b[39mif\u001b[39;00m (\u001b[39mcls\u001b[39m \u001b[39mis\u001b[39;00m \u001b[39mNone\u001b[39;00m \u001b[39mand\u001b[39;00m object_hook \u001b[39mis\u001b[39;00m \u001b[39mNone\u001b[39;00m \u001b[39mand\u001b[39;00m\n\u001b[0;32m    344\u001b[0m         parse_int \u001b[39mis\u001b[39;00m \u001b[39mNone\u001b[39;00m \u001b[39mand\u001b[39;00m parse_float \u001b[39mis\u001b[39;00m \u001b[39mNone\u001b[39;00m \u001b[39mand\u001b[39;00m\n\u001b[0;32m    345\u001b[0m         parse_constant \u001b[39mis\u001b[39;00m \u001b[39mNone\u001b[39;00m \u001b[39mand\u001b[39;00m object_pairs_hook \u001b[39mis\u001b[39;00m \u001b[39mNone\u001b[39;00m \u001b[39mand\u001b[39;00m \u001b[39mnot\u001b[39;00m kw):\n\u001b[1;32m--> 346\u001b[0m     \u001b[39mreturn\u001b[39;00m _default_decoder\u001b[39m.\u001b[39;49mdecode(s)\n\u001b[0;32m    347\u001b[0m \u001b[39mif\u001b[39;00m \u001b[39mcls\u001b[39m \u001b[39mis\u001b[39;00m \u001b[39mNone\u001b[39;00m:\n\u001b[0;32m    348\u001b[0m     \u001b[39mcls\u001b[39m \u001b[39m=\u001b[39m JSONDecoder\n",
      "File \u001b[1;32mc:\\Users\\Jirko\\anaconda3\\envs\\simple_analysis\\lib\\json\\decoder.py:337\u001b[0m, in \u001b[0;36mJSONDecoder.decode\u001b[1;34m(self, s, _w)\u001b[0m\n\u001b[0;32m    332\u001b[0m \u001b[39mdef\u001b[39;00m \u001b[39mdecode\u001b[39m(\u001b[39mself\u001b[39m, s, _w\u001b[39m=\u001b[39mWHITESPACE\u001b[39m.\u001b[39mmatch):\n\u001b[0;32m    333\u001b[0m     \u001b[39m\"\"\"Return the Python representation of ``s`` (a ``str`` instance\u001b[39;00m\n\u001b[0;32m    334\u001b[0m \u001b[39m    containing a JSON document).\u001b[39;00m\n\u001b[0;32m    335\u001b[0m \n\u001b[0;32m    336\u001b[0m \u001b[39m    \"\"\"\u001b[39;00m\n\u001b[1;32m--> 337\u001b[0m     obj, end \u001b[39m=\u001b[39m \u001b[39mself\u001b[39;49m\u001b[39m.\u001b[39;49mraw_decode(s, idx\u001b[39m=\u001b[39;49m_w(s, \u001b[39m0\u001b[39;49m)\u001b[39m.\u001b[39;49mend())\n\u001b[0;32m    338\u001b[0m     end \u001b[39m=\u001b[39m _w(s, end)\u001b[39m.\u001b[39mend()\n\u001b[0;32m    339\u001b[0m     \u001b[39mif\u001b[39;00m end \u001b[39m!=\u001b[39m \u001b[39mlen\u001b[39m(s):\n",
      "File \u001b[1;32mc:\\Users\\Jirko\\anaconda3\\envs\\simple_analysis\\lib\\json\\decoder.py:355\u001b[0m, in \u001b[0;36mJSONDecoder.raw_decode\u001b[1;34m(self, s, idx)\u001b[0m\n\u001b[0;32m    353\u001b[0m     obj, end \u001b[39m=\u001b[39m \u001b[39mself\u001b[39m\u001b[39m.\u001b[39mscan_once(s, idx)\n\u001b[0;32m    354\u001b[0m \u001b[39mexcept\u001b[39;00m \u001b[39mStopIteration\u001b[39;00m \u001b[39mas\u001b[39;00m err:\n\u001b[1;32m--> 355\u001b[0m     \u001b[39mraise\u001b[39;00m JSONDecodeError(\u001b[39m\"\u001b[39m\u001b[39mExpecting value\u001b[39m\u001b[39m\"\u001b[39m, s, err\u001b[39m.\u001b[39mvalue) \u001b[39mfrom\u001b[39;00m \u001b[39mNone\u001b[39m\n\u001b[0;32m    356\u001b[0m \u001b[39mreturn\u001b[39;00m obj, end\n",
      "\u001b[1;31mJSONDecodeError\u001b[0m: Expecting value: line 1 column 1 (char 0)"
     ]
    }
   ],
   "source": [
    "DF = pd.DataFrame()\n",
    "for i, fname in enumerate(fnames):\n",
    "\n",
    "    with open(fname) as f:\n",
    "        # read the data and transform to a dictionary\n",
    "        data = f.read() \n",
    "        js = json.loads(data)\n",
    "        print(len(js[\"sdata\"]))\n",
    "        # enter the dict into a dataframe\n",
    "        df = pd.DataFrame.from_dict(js[\"sdata\"], orient='index')\n",
    "        df = df.transpose() # small hack to load data into dataframe\n",
    "        # add a participant ID\n",
    "        df.insert(loc=0, column=\"id\", value=i)\n",
    "    \n",
    "    # Append to the big dataFrame\n",
    "    DF = DF.append(df, ignore_index=True)"
   ]
  },
  {
   "cell_type": "code",
   "execution_count": 11,
   "metadata": {},
   "outputs": [
    {
     "name": "stderr",
     "output_type": "stream",
     "text": [
      "C:\\Users\\Jirko\\AppData\\Local\\Temp\\ipykernel_15220\\2468291895.py:21: FutureWarning: The frame.append method is deprecated and will be removed from pandas in a future version. Use pandas.concat instead.\n",
      "  DF = DF.append(df, ignore_index=True)\n",
      "C:\\Users\\Jirko\\AppData\\Local\\Temp\\ipykernel_15220\\2468291895.py:21: FutureWarning: The frame.append method is deprecated and will be removed from pandas in a future version. Use pandas.concat instead.\n",
      "  DF = DF.append(df, ignore_index=True)\n",
      "C:\\Users\\Jirko\\AppData\\Local\\Temp\\ipykernel_15220\\2468291895.py:21: FutureWarning: The frame.append method is deprecated and will be removed from pandas in a future version. Use pandas.concat instead.\n",
      "  DF = DF.append(df, ignore_index=True)\n",
      "C:\\Users\\Jirko\\AppData\\Local\\Temp\\ipykernel_15220\\2468291895.py:21: FutureWarning: The frame.append method is deprecated and will be removed from pandas in a future version. Use pandas.concat instead.\n",
      "  DF = DF.append(df, ignore_index=True)\n",
      "C:\\Users\\Jirko\\AppData\\Local\\Temp\\ipykernel_15220\\2468291895.py:21: FutureWarning: The frame.append method is deprecated and will be removed from pandas in a future version. Use pandas.concat instead.\n",
      "  DF = DF.append(df, ignore_index=True)\n",
      "C:\\Users\\Jirko\\AppData\\Local\\Temp\\ipykernel_15220\\2468291895.py:21: FutureWarning: The frame.append method is deprecated and will be removed from pandas in a future version. Use pandas.concat instead.\n",
      "  DF = DF.append(df, ignore_index=True)\n",
      "C:\\Users\\Jirko\\AppData\\Local\\Temp\\ipykernel_15220\\2468291895.py:21: FutureWarning: The frame.append method is deprecated and will be removed from pandas in a future version. Use pandas.concat instead.\n",
      "  DF = DF.append(df, ignore_index=True)\n",
      "C:\\Users\\Jirko\\AppData\\Local\\Temp\\ipykernel_15220\\2468291895.py:21: FutureWarning: The frame.append method is deprecated and will be removed from pandas in a future version. Use pandas.concat instead.\n",
      "  DF = DF.append(df, ignore_index=True)\n",
      "C:\\Users\\Jirko\\AppData\\Local\\Temp\\ipykernel_15220\\2468291895.py:21: FutureWarning: The frame.append method is deprecated and will be removed from pandas in a future version. Use pandas.concat instead.\n",
      "  DF = DF.append(df, ignore_index=True)\n",
      "C:\\Users\\Jirko\\AppData\\Local\\Temp\\ipykernel_15220\\2468291895.py:21: FutureWarning: The frame.append method is deprecated and will be removed from pandas in a future version. Use pandas.concat instead.\n",
      "  DF = DF.append(df, ignore_index=True)\n",
      "C:\\Users\\Jirko\\AppData\\Local\\Temp\\ipykernel_15220\\2468291895.py:21: FutureWarning: The frame.append method is deprecated and will be removed from pandas in a future version. Use pandas.concat instead.\n",
      "  DF = DF.append(df, ignore_index=True)\n",
      "C:\\Users\\Jirko\\AppData\\Local\\Temp\\ipykernel_15220\\2468291895.py:21: FutureWarning: The frame.append method is deprecated and will be removed from pandas in a future version. Use pandas.concat instead.\n",
      "  DF = DF.append(df, ignore_index=True)\n",
      "C:\\Users\\Jirko\\AppData\\Local\\Temp\\ipykernel_15220\\2468291895.py:21: FutureWarning: The frame.append method is deprecated and will be removed from pandas in a future version. Use pandas.concat instead.\n",
      "  DF = DF.append(df, ignore_index=True)\n",
      "C:\\Users\\Jirko\\AppData\\Local\\Temp\\ipykernel_15220\\2468291895.py:21: FutureWarning: The frame.append method is deprecated and will be removed from pandas in a future version. Use pandas.concat instead.\n",
      "  DF = DF.append(df, ignore_index=True)\n",
      "C:\\Users\\Jirko\\AppData\\Local\\Temp\\ipykernel_15220\\2468291895.py:21: FutureWarning: The frame.append method is deprecated and will be removed from pandas in a future version. Use pandas.concat instead.\n",
      "  DF = DF.append(df, ignore_index=True)\n",
      "C:\\Users\\Jirko\\AppData\\Local\\Temp\\ipykernel_15220\\2468291895.py:21: FutureWarning: The frame.append method is deprecated and will be removed from pandas in a future version. Use pandas.concat instead.\n",
      "  DF = DF.append(df, ignore_index=True)\n",
      "C:\\Users\\Jirko\\AppData\\Local\\Temp\\ipykernel_15220\\2468291895.py:21: FutureWarning: The frame.append method is deprecated and will be removed from pandas in a future version. Use pandas.concat instead.\n",
      "  DF = DF.append(df, ignore_index=True)\n",
      "C:\\Users\\Jirko\\AppData\\Local\\Temp\\ipykernel_15220\\2468291895.py:21: FutureWarning: The frame.append method is deprecated and will be removed from pandas in a future version. Use pandas.concat instead.\n",
      "  DF = DF.append(df, ignore_index=True)\n",
      "C:\\Users\\Jirko\\AppData\\Local\\Temp\\ipykernel_15220\\2468291895.py:21: FutureWarning: The frame.append method is deprecated and will be removed from pandas in a future version. Use pandas.concat instead.\n",
      "  DF = DF.append(df, ignore_index=True)\n",
      "C:\\Users\\Jirko\\AppData\\Local\\Temp\\ipykernel_15220\\2468291895.py:21: FutureWarning: The frame.append method is deprecated and will be removed from pandas in a future version. Use pandas.concat instead.\n",
      "  DF = DF.append(df, ignore_index=True)\n",
      "C:\\Users\\Jirko\\AppData\\Local\\Temp\\ipykernel_15220\\2468291895.py:21: FutureWarning: The frame.append method is deprecated and will be removed from pandas in a future version. Use pandas.concat instead.\n",
      "  DF = DF.append(df, ignore_index=True)\n",
      "C:\\Users\\Jirko\\AppData\\Local\\Temp\\ipykernel_15220\\2468291895.py:21: FutureWarning: The frame.append method is deprecated and will be removed from pandas in a future version. Use pandas.concat instead.\n",
      "  DF = DF.append(df, ignore_index=True)\n",
      "C:\\Users\\Jirko\\AppData\\Local\\Temp\\ipykernel_15220\\2468291895.py:21: FutureWarning: The frame.append method is deprecated and will be removed from pandas in a future version. Use pandas.concat instead.\n",
      "  DF = DF.append(df, ignore_index=True)\n",
      "C:\\Users\\Jirko\\AppData\\Local\\Temp\\ipykernel_15220\\2468291895.py:21: FutureWarning: The frame.append method is deprecated and will be removed from pandas in a future version. Use pandas.concat instead.\n",
      "  DF = DF.append(df, ignore_index=True)\n",
      "C:\\Users\\Jirko\\AppData\\Local\\Temp\\ipykernel_15220\\2468291895.py:21: FutureWarning: The frame.append method is deprecated and will be removed from pandas in a future version. Use pandas.concat instead.\n",
      "  DF = DF.append(df, ignore_index=True)\n",
      "C:\\Users\\Jirko\\AppData\\Local\\Temp\\ipykernel_15220\\2468291895.py:21: FutureWarning: The frame.append method is deprecated and will be removed from pandas in a future version. Use pandas.concat instead.\n",
      "  DF = DF.append(df, ignore_index=True)\n",
      "C:\\Users\\Jirko\\AppData\\Local\\Temp\\ipykernel_15220\\2468291895.py:21: FutureWarning: The frame.append method is deprecated and will be removed from pandas in a future version. Use pandas.concat instead.\n",
      "  DF = DF.append(df, ignore_index=True)\n",
      "C:\\Users\\Jirko\\AppData\\Local\\Temp\\ipykernel_15220\\2468291895.py:21: FutureWarning: The frame.append method is deprecated and will be removed from pandas in a future version. Use pandas.concat instead.\n",
      "  DF = DF.append(df, ignore_index=True)\n",
      "C:\\Users\\Jirko\\AppData\\Local\\Temp\\ipykernel_15220\\2468291895.py:21: FutureWarning: The frame.append method is deprecated and will be removed from pandas in a future version. Use pandas.concat instead.\n",
      "  DF = DF.append(df, ignore_index=True)\n",
      "C:\\Users\\Jirko\\AppData\\Local\\Temp\\ipykernel_15220\\2468291895.py:21: FutureWarning: The frame.append method is deprecated and will be removed from pandas in a future version. Use pandas.concat instead.\n",
      "  DF = DF.append(df, ignore_index=True)\n",
      "C:\\Users\\Jirko\\AppData\\Local\\Temp\\ipykernel_15220\\2468291895.py:21: FutureWarning: The frame.append method is deprecated and will be removed from pandas in a future version. Use pandas.concat instead.\n",
      "  DF = DF.append(df, ignore_index=True)\n",
      "C:\\Users\\Jirko\\AppData\\Local\\Temp\\ipykernel_15220\\2468291895.py:21: FutureWarning: The frame.append method is deprecated and will be removed from pandas in a future version. Use pandas.concat instead.\n",
      "  DF = DF.append(df, ignore_index=True)\n",
      "C:\\Users\\Jirko\\AppData\\Local\\Temp\\ipykernel_15220\\2468291895.py:21: FutureWarning: The frame.append method is deprecated and will be removed from pandas in a future version. Use pandas.concat instead.\n",
      "  DF = DF.append(df, ignore_index=True)\n",
      "C:\\Users\\Jirko\\AppData\\Local\\Temp\\ipykernel_15220\\2468291895.py:21: FutureWarning: The frame.append method is deprecated and will be removed from pandas in a future version. Use pandas.concat instead.\n",
      "  DF = DF.append(df, ignore_index=True)\n",
      "C:\\Users\\Jirko\\AppData\\Local\\Temp\\ipykernel_15220\\2468291895.py:21: FutureWarning: The frame.append method is deprecated and will be removed from pandas in a future version. Use pandas.concat instead.\n",
      "  DF = DF.append(df, ignore_index=True)\n",
      "C:\\Users\\Jirko\\AppData\\Local\\Temp\\ipykernel_15220\\2468291895.py:21: FutureWarning: The frame.append method is deprecated and will be removed from pandas in a future version. Use pandas.concat instead.\n",
      "  DF = DF.append(df, ignore_index=True)\n",
      "C:\\Users\\Jirko\\AppData\\Local\\Temp\\ipykernel_15220\\2468291895.py:21: FutureWarning: The frame.append method is deprecated and will be removed from pandas in a future version. Use pandas.concat instead.\n",
      "  DF = DF.append(df, ignore_index=True)\n",
      "C:\\Users\\Jirko\\AppData\\Local\\Temp\\ipykernel_15220\\2468291895.py:21: FutureWarning: The frame.append method is deprecated and will be removed from pandas in a future version. Use pandas.concat instead.\n",
      "  DF = DF.append(df, ignore_index=True)\n",
      "C:\\Users\\Jirko\\AppData\\Local\\Temp\\ipykernel_15220\\2468291895.py:21: FutureWarning: The frame.append method is deprecated and will be removed from pandas in a future version. Use pandas.concat instead.\n",
      "  DF = DF.append(df, ignore_index=True)\n",
      "C:\\Users\\Jirko\\AppData\\Local\\Temp\\ipykernel_15220\\2468291895.py:21: FutureWarning: The frame.append method is deprecated and will be removed from pandas in a future version. Use pandas.concat instead.\n",
      "  DF = DF.append(df, ignore_index=True)\n",
      "C:\\Users\\Jirko\\AppData\\Local\\Temp\\ipykernel_15220\\2468291895.py:21: FutureWarning: The frame.append method is deprecated and will be removed from pandas in a future version. Use pandas.concat instead.\n",
      "  DF = DF.append(df, ignore_index=True)\n",
      "C:\\Users\\Jirko\\AppData\\Local\\Temp\\ipykernel_15220\\2468291895.py:21: FutureWarning: The frame.append method is deprecated and will be removed from pandas in a future version. Use pandas.concat instead.\n",
      "  DF = DF.append(df, ignore_index=True)\n",
      "C:\\Users\\Jirko\\AppData\\Local\\Temp\\ipykernel_15220\\2468291895.py:21: FutureWarning: The frame.append method is deprecated and will be removed from pandas in a future version. Use pandas.concat instead.\n",
      "  DF = DF.append(df, ignore_index=True)\n",
      "C:\\Users\\Jirko\\AppData\\Local\\Temp\\ipykernel_15220\\2468291895.py:21: FutureWarning: The frame.append method is deprecated and will be removed from pandas in a future version. Use pandas.concat instead.\n",
      "  DF = DF.append(df, ignore_index=True)\n",
      "C:\\Users\\Jirko\\AppData\\Local\\Temp\\ipykernel_15220\\2468291895.py:21: FutureWarning: The frame.append method is deprecated and will be removed from pandas in a future version. Use pandas.concat instead.\n",
      "  DF = DF.append(df, ignore_index=True)\n",
      "C:\\Users\\Jirko\\AppData\\Local\\Temp\\ipykernel_15220\\2468291895.py:21: FutureWarning: The frame.append method is deprecated and will be removed from pandas in a future version. Use pandas.concat instead.\n",
      "  DF = DF.append(df, ignore_index=True)\n",
      "C:\\Users\\Jirko\\AppData\\Local\\Temp\\ipykernel_15220\\2468291895.py:21: FutureWarning: The frame.append method is deprecated and will be removed from pandas in a future version. Use pandas.concat instead.\n",
      "  DF = DF.append(df, ignore_index=True)\n",
      "C:\\Users\\Jirko\\AppData\\Local\\Temp\\ipykernel_15220\\2468291895.py:21: FutureWarning: The frame.append method is deprecated and will be removed from pandas in a future version. Use pandas.concat instead.\n",
      "  DF = DF.append(df, ignore_index=True)\n",
      "C:\\Users\\Jirko\\AppData\\Local\\Temp\\ipykernel_15220\\2468291895.py:21: FutureWarning: The frame.append method is deprecated and will be removed from pandas in a future version. Use pandas.concat instead.\n",
      "  DF = DF.append(df, ignore_index=True)\n"
     ]
    }
   ],
   "source": [
    "def create_df(fnames):\n",
    "    \"\"\"function to create the dataframe from the files\"\"\"\n",
    "    DF = pd.DataFrame()\n",
    "    for i, fname in enumerate(fnames):\n",
    "        list_of_dicts = data2dict(fname)\n",
    "        # get the relevant sdata\n",
    "        data_dict = list_of_dicts[0][\"sdata\"]\n",
    "        \n",
    "        # remove entries of type integer\n",
    "        for key in list(data_dict):\n",
    "            if isinstance(data_dict[key], int):\n",
    "                del data_dict[key]\n",
    "\n",
    "        # creating the dict\n",
    "        df = pd.DataFrame.from_dict(data_dict, orient='index')\n",
    "        df = df.transpose() # small hack to load data into dataframe\n",
    "        # add a participant ID\n",
    "        df.insert(loc=0, column=\"id\", value=i)\n",
    "    \n",
    "        # Append to the big dataFrame\n",
    "        DF = DF.append(df, ignore_index=True)\n",
    "    return DF \n",
    "\n",
    "DF = create_df(fnames_new)\n"
   ]
  },
  {
   "cell_type": "markdown",
   "metadata": {},
   "source": [
    "### Explore DataFrame"
   ]
  },
  {
   "cell_type": "code",
   "execution_count": 12,
   "metadata": {},
   "outputs": [
    {
     "data": {
      "text/html": [
       "<div>\n",
       "<style scoped>\n",
       "    .dataframe tbody tr th:only-of-type {\n",
       "        vertical-align: middle;\n",
       "    }\n",
       "\n",
       "    .dataframe tbody tr th {\n",
       "        vertical-align: top;\n",
       "    }\n",
       "\n",
       "    .dataframe thead th {\n",
       "        text-align: right;\n",
       "    }\n",
       "</style>\n",
       "<table border=\"1\" class=\"dataframe\">\n",
       "  <thead>\n",
       "    <tr style=\"text-align: right;\">\n",
       "      <th></th>\n",
       "      <th>id</th>\n",
       "      <th>expt_index</th>\n",
       "      <th>expt_trial</th>\n",
       "      <th>expt_block</th>\n",
       "      <th>trial_att</th>\n",
       "      <th>vbxi_category</th>\n",
       "      <th>exemplar</th>\n",
       "      <th>trialProperties</th>\n",
       "      <th>trialPropShuff</th>\n",
       "      <th>relevProps</th>\n",
       "      <th>relevPropsShuff</th>\n",
       "      <th>trial_bonus</th>\n",
       "      <th>block_bonus</th>\n",
       "      <th>resp_timestamp</th>\n",
       "      <th>resp_reactiontime</th>\n",
       "      <th>property_order</th>\n",
       "      <th>resp_correct_array</th>\n",
       "      <th>resp_correct_array_unshuf</th>\n",
       "      <th>prop_responses</th>\n",
       "      <th>groundTruthCorrect</th>\n",
       "      <th>groundTruthCorrect_unshuf</th>\n",
       "      <th>resp_indices</th>\n",
       "      <th>resp_indices_values</th>\n",
       "    </tr>\n",
       "  </thead>\n",
       "  <tbody>\n",
       "    <tr>\n",
       "      <th>0</th>\n",
       "      <td>0</td>\n",
       "      <td>0</td>\n",
       "      <td>0</td>\n",
       "      <td>0</td>\n",
       "      <td>1</td>\n",
       "      <td>7</td>\n",
       "      <td>10</td>\n",
       "      <td>[1, 0, 1, 0, 0, 0, 1]</td>\n",
       "      <td>[[0, 1, 0, 0, 1, 0, 1], [0, 0, 0, 1, 1, 1, 0]]</td>\n",
       "      <td>None</td>\n",
       "      <td>[]</td>\n",
       "      <td>1</td>\n",
       "      <td>23</td>\n",
       "      <td>[1656927914973, 1656927926827]</td>\n",
       "      <td>[9.699, 21.552]</td>\n",
       "      <td>[[1, 0, 5, 4, 2, 3, 6], [5, 3, 4, 2, 0, 6, 1]]</td>\n",
       "      <td>[[False, True, False, None, None, None, None],...</td>\n",
       "      <td>[[True, False, None, None, None, False, None],...</td>\n",
       "      <td>[[1, 1, 1, None, None, None, None], [None, Non...</td>\n",
       "      <td>[[0, 1, 0, 1, 0, 1, 0], [1, 1, 1, 1, 1, 1, 1]]</td>\n",
       "      <td>[[1, 0, 0, 1, 1, 0, 0], [1, 1, 1, 1, 1, 1, 1]]</td>\n",
       "      <td>[[0, 2, 1], [4, 3, 5]]</td>\n",
       "      <td>[[1, 1, 1], [1, 1, 1]]</td>\n",
       "    </tr>\n",
       "    <tr>\n",
       "      <th>1</th>\n",
       "      <td>0</td>\n",
       "      <td>1</td>\n",
       "      <td>1</td>\n",
       "      <td>0</td>\n",
       "      <td>0</td>\n",
       "      <td>7</td>\n",
       "      <td>0</td>\n",
       "      <td>[1, 0, 1, 0, 0, 0, 1]</td>\n",
       "      <td>[[1, 1, 1, 0, 0, 0, 0]]</td>\n",
       "      <td>None</td>\n",
       "      <td>[]</td>\n",
       "      <td>3</td>\n",
       "      <td>32</td>\n",
       "      <td>[1656927934679]</td>\n",
       "      <td>[5.846]</td>\n",
       "      <td>[[0, 6, 2, 3, 1, 5, 4]]</td>\n",
       "      <td>[[True, True, True, None, None, None, None]]</td>\n",
       "      <td>[[True, None, True, None, None, None, True]]</td>\n",
       "      <td>[[1, 1, 1, None, None, None, None]]</td>\n",
       "      <td>[[1, 1, 1, 1, 1, 1, 1]]</td>\n",
       "      <td>[[1, 1, 1, 1, 1, 1, 1]]</td>\n",
       "      <td>[[0, 1, 2]]</td>\n",
       "      <td>[[1, 1, 1]]</td>\n",
       "    </tr>\n",
       "    <tr>\n",
       "      <th>2</th>\n",
       "      <td>0</td>\n",
       "      <td>2</td>\n",
       "      <td>2</td>\n",
       "      <td>0</td>\n",
       "      <td>1</td>\n",
       "      <td>3</td>\n",
       "      <td>1</td>\n",
       "      <td>[1, 1, 0, 0, 1, 0, 0]</td>\n",
       "      <td>[[1, 0, 0, 0, 1, 0, 1], [1, 1, 1, 0, 0, 0, 0]]</td>\n",
       "      <td>None</td>\n",
       "      <td>[]</td>\n",
       "      <td>1</td>\n",
       "      <td>31</td>\n",
       "      <td>[1656927943664, 1656927953941]</td>\n",
       "      <td>[6.981, 17.258]</td>\n",
       "      <td>[[4, 2, 5, 3, 1, 6, 0], [0, 4, 1, 2, 5, 3, 6]]</td>\n",
       "      <td>[[None, None, False, False, True, None, None],...</td>\n",
       "      <td>[[None, True, None, False, None, False, None],...</td>\n",
       "      <td>[[None, None, 1, 1, 1, None, None], [1, 1, 1, ...</td>\n",
       "      <td>[[0, 1, 0, 0, 1, 1, 0], [1, 1, 1, 1, 1, 1, 1]]</td>\n",
       "      <td>[[0, 1, 1, 0, 0, 0, 1], [1, 1, 1, 1, 1, 1, 1]]</td>\n",
       "      <td>[[2, 4, 3], [1, 2, 0]]</td>\n",
       "      <td>[[1, 1, 1], [1, 1, 1]]</td>\n",
       "    </tr>\n",
       "  </tbody>\n",
       "</table>\n",
       "</div>"
      ],
      "text/plain": [
       "   id expt_index expt_trial expt_block trial_att vbxi_category exemplar  \\\n",
       "0   0          0          0          0         1             7       10   \n",
       "1   0          1          1          0         0             7        0   \n",
       "2   0          2          2          0         1             3        1   \n",
       "\n",
       "         trialProperties                                  trialPropShuff  \\\n",
       "0  [1, 0, 1, 0, 0, 0, 1]  [[0, 1, 0, 0, 1, 0, 1], [0, 0, 0, 1, 1, 1, 0]]   \n",
       "1  [1, 0, 1, 0, 0, 0, 1]                         [[1, 1, 1, 0, 0, 0, 0]]   \n",
       "2  [1, 1, 0, 0, 1, 0, 0]  [[1, 0, 0, 0, 1, 0, 1], [1, 1, 1, 0, 0, 0, 0]]   \n",
       "\n",
       "  relevProps relevPropsShuff trial_bonus block_bonus  \\\n",
       "0       None              []           1          23   \n",
       "1       None              []           3          32   \n",
       "2       None              []           1          31   \n",
       "\n",
       "                   resp_timestamp resp_reactiontime  \\\n",
       "0  [1656927914973, 1656927926827]   [9.699, 21.552]   \n",
       "1                 [1656927934679]           [5.846]   \n",
       "2  [1656927943664, 1656927953941]   [6.981, 17.258]   \n",
       "\n",
       "                                   property_order  \\\n",
       "0  [[1, 0, 5, 4, 2, 3, 6], [5, 3, 4, 2, 0, 6, 1]]   \n",
       "1                         [[0, 6, 2, 3, 1, 5, 4]]   \n",
       "2  [[4, 2, 5, 3, 1, 6, 0], [0, 4, 1, 2, 5, 3, 6]]   \n",
       "\n",
       "                                  resp_correct_array  \\\n",
       "0  [[False, True, False, None, None, None, None],...   \n",
       "1       [[True, True, True, None, None, None, None]]   \n",
       "2  [[None, None, False, False, True, None, None],...   \n",
       "\n",
       "                           resp_correct_array_unshuf  \\\n",
       "0  [[True, False, None, None, None, False, None],...   \n",
       "1       [[True, None, True, None, None, None, True]]   \n",
       "2  [[None, True, None, False, None, False, None],...   \n",
       "\n",
       "                                      prop_responses  \\\n",
       "0  [[1, 1, 1, None, None, None, None], [None, Non...   \n",
       "1                [[1, 1, 1, None, None, None, None]]   \n",
       "2  [[None, None, 1, 1, 1, None, None], [1, 1, 1, ...   \n",
       "\n",
       "                               groundTruthCorrect  \\\n",
       "0  [[0, 1, 0, 1, 0, 1, 0], [1, 1, 1, 1, 1, 1, 1]]   \n",
       "1                         [[1, 1, 1, 1, 1, 1, 1]]   \n",
       "2  [[0, 1, 0, 0, 1, 1, 0], [1, 1, 1, 1, 1, 1, 1]]   \n",
       "\n",
       "                        groundTruthCorrect_unshuf            resp_indices  \\\n",
       "0  [[1, 0, 0, 1, 1, 0, 0], [1, 1, 1, 1, 1, 1, 1]]  [[0, 2, 1], [4, 3, 5]]   \n",
       "1                         [[1, 1, 1, 1, 1, 1, 1]]             [[0, 1, 2]]   \n",
       "2  [[0, 1, 1, 0, 0, 0, 1], [1, 1, 1, 1, 1, 1, 1]]  [[2, 4, 3], [1, 2, 0]]   \n",
       "\n",
       "      resp_indices_values  \n",
       "0  [[1, 1, 1], [1, 1, 1]]  \n",
       "1             [[1, 1, 1]]  \n",
       "2  [[1, 1, 1], [1, 1, 1]]  "
      ]
     },
     "execution_count": 12,
     "metadata": {},
     "output_type": "execute_result"
    }
   ],
   "source": [
    "pd.set_option('display.max_columns', None)\n",
    "DF.shape\n",
    "DF.head(3)"
   ]
  },
  {
   "cell_type": "markdown",
   "metadata": {},
   "source": [
    "### Filter responses"
   ]
  },
  {
   "cell_type": "code",
   "execution_count": 13,
   "metadata": {},
   "outputs": [
    {
     "data": {
      "text/html": [
       "<div>\n",
       "<style scoped>\n",
       "    .dataframe tbody tr th:only-of-type {\n",
       "        vertical-align: middle;\n",
       "    }\n",
       "\n",
       "    .dataframe tbody tr th {\n",
       "        vertical-align: top;\n",
       "    }\n",
       "\n",
       "    .dataframe thead th {\n",
       "        text-align: right;\n",
       "    }\n",
       "</style>\n",
       "<table border=\"1\" class=\"dataframe\">\n",
       "  <thead>\n",
       "    <tr style=\"text-align: right;\">\n",
       "      <th></th>\n",
       "      <th>id</th>\n",
       "      <th>expt_index</th>\n",
       "      <th>expt_trial</th>\n",
       "      <th>expt_block</th>\n",
       "      <th>trial_att</th>\n",
       "      <th>vbxi_category</th>\n",
       "      <th>exemplar</th>\n",
       "      <th>trialProperties</th>\n",
       "      <th>trialPropShuff</th>\n",
       "      <th>trial_bonus</th>\n",
       "      <th>block_bonus</th>\n",
       "      <th>resp_timestamp</th>\n",
       "      <th>resp_reactiontime</th>\n",
       "      <th>property_order</th>\n",
       "      <th>resp_correct_array</th>\n",
       "      <th>resp_correct_array_unshuf</th>\n",
       "      <th>prop_responses</th>\n",
       "      <th>groundTruthCorrect</th>\n",
       "      <th>groundTruthCorrect_unshuf</th>\n",
       "      <th>resp_indices</th>\n",
       "      <th>resp_indices_values</th>\n",
       "    </tr>\n",
       "  </thead>\n",
       "  <tbody>\n",
       "    <tr>\n",
       "      <th>0</th>\n",
       "      <td>0</td>\n",
       "      <td>0</td>\n",
       "      <td>0</td>\n",
       "      <td>0</td>\n",
       "      <td>1</td>\n",
       "      <td>7</td>\n",
       "      <td>10</td>\n",
       "      <td>[1, 0, 1, 0, 0, 0, 1]</td>\n",
       "      <td>[[0, 1, 0, 0, 1, 0, 1], [0, 0, 0, 1, 1, 1, 0]]</td>\n",
       "      <td>1</td>\n",
       "      <td>23</td>\n",
       "      <td>[1656927914973, 1656927926827]</td>\n",
       "      <td>[9.699, 21.552]</td>\n",
       "      <td>[[1, 0, 5, 4, 2, 3, 6], [5, 3, 4, 2, 0, 6, 1]]</td>\n",
       "      <td>[[False, True, False, None, None, None, None],...</td>\n",
       "      <td>[[True, False, None, None, None, False, None],...</td>\n",
       "      <td>[[1, 1, 1, None, None, None, None], [None, Non...</td>\n",
       "      <td>[[0, 1, 0, 1, 0, 1, 0], [1, 1, 1, 1, 1, 1, 1]]</td>\n",
       "      <td>[[1, 0, 0, 1, 1, 0, 0], [1, 1, 1, 1, 1, 1, 1]]</td>\n",
       "      <td>[[0, 2, 1], [4, 3, 5]]</td>\n",
       "      <td>[[1, 1, 1], [1, 1, 1]]</td>\n",
       "    </tr>\n",
       "    <tr>\n",
       "      <th>1</th>\n",
       "      <td>0</td>\n",
       "      <td>1</td>\n",
       "      <td>1</td>\n",
       "      <td>0</td>\n",
       "      <td>0</td>\n",
       "      <td>7</td>\n",
       "      <td>0</td>\n",
       "      <td>[1, 0, 1, 0, 0, 0, 1]</td>\n",
       "      <td>[[1, 1, 1, 0, 0, 0, 0]]</td>\n",
       "      <td>3</td>\n",
       "      <td>32</td>\n",
       "      <td>[1656927934679]</td>\n",
       "      <td>[5.846]</td>\n",
       "      <td>[[0, 6, 2, 3, 1, 5, 4]]</td>\n",
       "      <td>[[True, True, True, None, None, None, None]]</td>\n",
       "      <td>[[True, None, True, None, None, None, True]]</td>\n",
       "      <td>[[1, 1, 1, None, None, None, None]]</td>\n",
       "      <td>[[1, 1, 1, 1, 1, 1, 1]]</td>\n",
       "      <td>[[1, 1, 1, 1, 1, 1, 1]]</td>\n",
       "      <td>[[0, 1, 2]]</td>\n",
       "      <td>[[1, 1, 1]]</td>\n",
       "    </tr>\n",
       "    <tr>\n",
       "      <th>2</th>\n",
       "      <td>0</td>\n",
       "      <td>2</td>\n",
       "      <td>2</td>\n",
       "      <td>0</td>\n",
       "      <td>1</td>\n",
       "      <td>3</td>\n",
       "      <td>1</td>\n",
       "      <td>[1, 1, 0, 0, 1, 0, 0]</td>\n",
       "      <td>[[1, 0, 0, 0, 1, 0, 1], [1, 1, 1, 0, 0, 0, 0]]</td>\n",
       "      <td>1</td>\n",
       "      <td>31</td>\n",
       "      <td>[1656927943664, 1656927953941]</td>\n",
       "      <td>[6.981, 17.258]</td>\n",
       "      <td>[[4, 2, 5, 3, 1, 6, 0], [0, 4, 1, 2, 5, 3, 6]]</td>\n",
       "      <td>[[None, None, False, False, True, None, None],...</td>\n",
       "      <td>[[None, True, None, False, None, False, None],...</td>\n",
       "      <td>[[None, None, 1, 1, 1, None, None], [1, 1, 1, ...</td>\n",
       "      <td>[[0, 1, 0, 0, 1, 1, 0], [1, 1, 1, 1, 1, 1, 1]]</td>\n",
       "      <td>[[0, 1, 1, 0, 0, 0, 1], [1, 1, 1, 1, 1, 1, 1]]</td>\n",
       "      <td>[[2, 4, 3], [1, 2, 0]]</td>\n",
       "      <td>[[1, 1, 1], [1, 1, 1]]</td>\n",
       "    </tr>\n",
       "  </tbody>\n",
       "</table>\n",
       "</div>"
      ],
      "text/plain": [
       "   id expt_index expt_trial expt_block trial_att vbxi_category exemplar  \\\n",
       "0   0          0          0          0         1             7       10   \n",
       "1   0          1          1          0         0             7        0   \n",
       "2   0          2          2          0         1             3        1   \n",
       "\n",
       "         trialProperties                                  trialPropShuff  \\\n",
       "0  [1, 0, 1, 0, 0, 0, 1]  [[0, 1, 0, 0, 1, 0, 1], [0, 0, 0, 1, 1, 1, 0]]   \n",
       "1  [1, 0, 1, 0, 0, 0, 1]                         [[1, 1, 1, 0, 0, 0, 0]]   \n",
       "2  [1, 1, 0, 0, 1, 0, 0]  [[1, 0, 0, 0, 1, 0, 1], [1, 1, 1, 0, 0, 0, 0]]   \n",
       "\n",
       "  trial_bonus block_bonus                  resp_timestamp resp_reactiontime  \\\n",
       "0           1          23  [1656927914973, 1656927926827]   [9.699, 21.552]   \n",
       "1           3          32                 [1656927934679]           [5.846]   \n",
       "2           1          31  [1656927943664, 1656927953941]   [6.981, 17.258]   \n",
       "\n",
       "                                   property_order  \\\n",
       "0  [[1, 0, 5, 4, 2, 3, 6], [5, 3, 4, 2, 0, 6, 1]]   \n",
       "1                         [[0, 6, 2, 3, 1, 5, 4]]   \n",
       "2  [[4, 2, 5, 3, 1, 6, 0], [0, 4, 1, 2, 5, 3, 6]]   \n",
       "\n",
       "                                  resp_correct_array  \\\n",
       "0  [[False, True, False, None, None, None, None],...   \n",
       "1       [[True, True, True, None, None, None, None]]   \n",
       "2  [[None, None, False, False, True, None, None],...   \n",
       "\n",
       "                           resp_correct_array_unshuf  \\\n",
       "0  [[True, False, None, None, None, False, None],...   \n",
       "1       [[True, None, True, None, None, None, True]]   \n",
       "2  [[None, True, None, False, None, False, None],...   \n",
       "\n",
       "                                      prop_responses  \\\n",
       "0  [[1, 1, 1, None, None, None, None], [None, Non...   \n",
       "1                [[1, 1, 1, None, None, None, None]]   \n",
       "2  [[None, None, 1, 1, 1, None, None], [1, 1, 1, ...   \n",
       "\n",
       "                               groundTruthCorrect  \\\n",
       "0  [[0, 1, 0, 1, 0, 1, 0], [1, 1, 1, 1, 1, 1, 1]]   \n",
       "1                         [[1, 1, 1, 1, 1, 1, 1]]   \n",
       "2  [[0, 1, 0, 0, 1, 1, 0], [1, 1, 1, 1, 1, 1, 1]]   \n",
       "\n",
       "                        groundTruthCorrect_unshuf            resp_indices  \\\n",
       "0  [[1, 0, 0, 1, 1, 0, 0], [1, 1, 1, 1, 1, 1, 1]]  [[0, 2, 1], [4, 3, 5]]   \n",
       "1                         [[1, 1, 1, 1, 1, 1, 1]]             [[0, 1, 2]]   \n",
       "2  [[0, 1, 1, 0, 0, 0, 1], [1, 1, 1, 1, 1, 1, 1]]  [[2, 4, 3], [1, 2, 0]]   \n",
       "\n",
       "      resp_indices_values  \n",
       "0  [[1, 1, 1], [1, 1, 1]]  \n",
       "1             [[1, 1, 1]]  \n",
       "2  [[1, 1, 1], [1, 1, 1]]  "
      ]
     },
     "execution_count": 13,
     "metadata": {},
     "output_type": "execute_result"
    }
   ],
   "source": [
    "# drop redundant columns\n",
    "DF.drop(columns=[\"relevProps\", \"relevPropsShuff\"], inplace=True)\n",
    "DF.head(3)"
   ]
  },
  {
   "cell_type": "markdown",
   "metadata": {},
   "source": [
    "### Save full DataFrame to CSV"
   ]
  },
  {
   "cell_type": "code",
   "execution_count": null,
   "metadata": {},
   "outputs": [],
   "source": [
    "DF.to_csv(dname_new + 'full_data.csv')"
   ]
  },
  {
   "cell_type": "markdown",
   "metadata": {},
   "source": [
    "### Retreive parameters"
   ]
  },
  {
   "cell_type": "code",
   "execution_count": 14,
   "metadata": {},
   "outputs": [
    {
     "data": {
      "text/plain": [
       "49"
      ]
     },
     "execution_count": 14,
     "metadata": {},
     "output_type": "execute_result"
    }
   ],
   "source": [
    "sujs = DF['id'].unique()\n",
    "n_sujs = sujs.size\n",
    "n_sujs"
   ]
  },
  {
   "cell_type": "code",
   "execution_count": 15,
   "metadata": {},
   "outputs": [
    {
     "data": {
      "text/plain": [
       "128"
      ]
     },
     "execution_count": 15,
     "metadata": {},
     "output_type": "execute_result"
    }
   ],
   "source": [
    "n_trials_per_suj = DF.loc[DF['id'] == sujs[0]].shape[0]\n",
    "n_trials_per_suj"
   ]
  },
  {
   "cell_type": "code",
   "execution_count": 16,
   "metadata": {},
   "outputs": [
    {
     "data": {
      "text/plain": [
       "8"
      ]
     },
     "execution_count": 16,
     "metadata": {},
     "output_type": "execute_result"
    }
   ],
   "source": [
    "n_blocs = DF['expt_block'].unique().size\n",
    "n_blocs"
   ]
  },
  {
   "cell_type": "code",
   "execution_count": 17,
   "metadata": {},
   "outputs": [
    {
     "data": {
      "text/plain": [
       "16"
      ]
     },
     "execution_count": 17,
     "metadata": {},
     "output_type": "execute_result"
    }
   ],
   "source": [
    "n_trials_per_block = int(n_trials_per_suj/n_blocs)\n",
    "n_trials_per_block"
   ]
  },
  {
   "cell_type": "markdown",
   "metadata": {},
   "source": [
    "### Put data in numpy arrays"
   ]
  },
  {
   "cell_type": "code",
   "execution_count": 21,
   "metadata": {},
   "outputs": [
    {
     "data": {
      "text/plain": [
       "(49, 8, 16)"
      ]
     },
     "execution_count": 21,
     "metadata": {},
     "output_type": "execute_result"
    }
   ],
   "source": [
    "ACCURACY = np.full((n_sujs, n_blocs, n_trials_per_block), np.nan)\n",
    "acc_first_prop = np.full((n_sujs, n_blocs, n_trials_per_block), np.nan)\n",
    "acc_second_prop = np.full((n_sujs, n_blocs, n_trials_per_block), np.nan)\n",
    "acc_third_prop = np.full((n_sujs, n_blocs, n_trials_per_block), np.nan)\n",
    "# RT = np.full((n_sujs, n_blocs, n_trial), np.nan)\n",
    "# BLOC_TYPE = np.full((n_sujs, n_blocs), np.nan, dtype=np.object)\n",
    "\n",
    "# Loop across participant and blocs\n",
    "for i, suj in enumerate(sujs):\n",
    "    for block in range(n_blocs):\n",
    "\n",
    "        # Select lines in the DataFrame\n",
    "        _DF = DF.loc[(DF['id'] == suj) & (DF['expt_block'] == block)]\n",
    "\n",
    "        # Accuracy \n",
    "        ACCURACY[i, block, :_DF.shape[0]] = _DF['groundTruthCorrect_unshuf'].apply(lambda x: np.sum(x[0])/len(x[0]))\n",
    "        # accuracy on first property\n",
    "        acc_first_prop[i, block, :_DF.shape[0]] = _DF['groundTruthCorrect_unshuf'].apply(lambda x: np.sum(x[0][0]))\n",
    "        \n",
    "        # accuracy on second property\n",
    "        acc_second_prop[i, block, :_DF.shape[0]] = _DF['groundTruthCorrect_unshuf'].apply(lambda x: np.sum(x[0][1:3])/2)\n",
    "        # accuracy on second property\n",
    "        acc_third_prop[i, block, :_DF.shape[0]] = _DF['groundTruthCorrect_unshuf'].apply(lambda x: np.sum(x[0][3:])/4)\n",
    "        # Reaction times\n",
    "        # RT[i, j, :_DF.shape[0]] = _DF['data : \"rt\"']\n",
    "        \n",
    "        # Bloc type\n",
    "        # BLOC_TYPE[i, j] = _DF['bloc_type'].unique()[0]"
   ]
  },
  {
   "cell_type": "markdown",
   "metadata": {},
   "source": [
    "### Save data as numpy arrays"
   ]
  },
  {
   "cell_type": "code",
   "execution_count": 18,
   "metadata": {},
   "outputs": [],
   "source": [
    "np.save(dname_new + 'ACCURACY.npy', ACCURACY)\n",
    "np.save(dname_new + 'Acc_first_prop.npy', acc_first_prop)\n",
    "np.save(dname_new + 'acc_second_prop.npy', acc_second_prop)\n",
    "np.save(dname_new + 'acc_third_prop.npy', acc_third_prop)\n",
    "# np.save(dname + 'SUJS.npy', sujs)"
   ]
  }
 ],
 "metadata": {
  "kernelspec": {
   "display_name": "Python 3.9.12 ('simple_analysis')",
   "language": "python",
   "name": "python3"
  },
  "language_info": {
   "codemirror_mode": {
    "name": "ipython",
    "version": 3
   },
   "file_extension": ".py",
   "mimetype": "text/x-python",
   "name": "python",
   "nbconvert_exporter": "python",
   "pygments_lexer": "ipython3",
   "version": "3.9.12"
  },
  "vscode": {
   "interpreter": {
    "hash": "714c65b6556cc764f3390fa3fd2d33ea130c4e159503f5fc78fc31bdcf5df947"
   }
  }
 },
 "nbformat": 4,
 "nbformat_minor": 4
}
