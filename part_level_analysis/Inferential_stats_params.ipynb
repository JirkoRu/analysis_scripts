{
 "cells": [
  {
   "cell_type": "code",
   "execution_count": 1,
   "metadata": {},
   "outputs": [],
   "source": [
    "import numpy as np\n",
    "import matplotlib.pyplot as plt\n",
    "from matplotlib.transforms import Affine2D\n",
    "import matplotlib.transforms as transforms\n",
    "import matplotlib\n",
    "import pandas as pd\n",
    "import os\n",
    "import os.path\n",
    "from scipy import stats\n",
    "import rpy2\n",
    "import pingouin as pg"
   ]
  },
  {
   "cell_type": "code",
   "execution_count": 2,
   "metadata": {},
   "outputs": [
    {
     "data": {
      "text/plain": [
       "'c:\\\\Users\\\\Jirko\\\\Desktop\\\\Hip_Lab\\\\analysis_scripts\\\\part_level_analysis'"
      ]
     },
     "execution_count": 2,
     "metadata": {},
     "output_type": "execute_result"
    }
   ],
   "source": [
    "dname = os.getcwd()\n",
    "dname"
   ]
  },
  {
   "cell_type": "code",
   "execution_count": 3,
   "metadata": {},
   "outputs": [],
   "source": [
    "def load_parameters(function, levels_list, n_params):\n",
    "\n",
    "     all_popt = np.full((49,n_params, len(levels_list)), np.nan)\n",
    "\n",
    "     # loop over each level in the hierarchy\n",
    "     for j, level in enumerate(levels_list):\n",
    "          print(level)\n",
    "          # load the model params for each participant\n",
    "          df = pd.read_csv(dname + \"/params_trialwise/\" + level + \"/\" + function + \".csv\")\n",
    "          # convert to a numpy array\n",
    "          all_popt[:,:,j] = df.to_numpy()[:,1:]\n",
    "\n",
    "     return all_popt"
   ]
  },
  {
   "cell_type": "markdown",
   "metadata": {},
   "source": [
    "load data for the sigmoid function"
   ]
  },
  {
   "cell_type": "code",
   "execution_count": 4,
   "metadata": {},
   "outputs": [
    {
     "name": "stdout",
     "output_type": "stream",
     "text": [
      "first\n",
      "second\n",
      "third\n"
     ]
    },
    {
     "data": {
      "text/plain": [
       "array([[ 0.16313757,  0.01419942,  0.00428915],\n",
       "       [ 0.0589399 ,  0.05259373,  0.06015026],\n",
       "       [ 0.31622844,  0.01335061,  8.19469091],\n",
       "       [ 0.36777479,  0.0273126 ,  0.01651874],\n",
       "       [ 0.07297063,  0.00806406,  0.01239857],\n",
       "       [ 0.56075114,  0.01709113,  0.00800739],\n",
       "       [22.41925197, 18.95729278, -0.00175428],\n",
       "       [ 0.05525069,  0.04876343,  0.06339958],\n",
       "       [ 0.84881293,  0.00426701,  0.00356616],\n",
       "       [ 0.05319436,  0.05241972,  0.1168471 ],\n",
       "       [ 0.00122941, -0.0050139 ,  0.00891045],\n",
       "       [19.96004609,  9.35180579,  0.06137927],\n",
       "       [ 0.02771156,  0.00981549,  0.01278051],\n",
       "       [20.29441186,  0.00278962, -0.00364497],\n",
       "       [20.14691063,  0.01346834,  0.00668531],\n",
       "       [ 0.20133064,  0.20361201,  0.08450377],\n",
       "       [ 0.08910803,  0.04672859,  0.72841137],\n",
       "       [ 0.1117511 , 20.07174176,  8.87025709],\n",
       "       [17.29777779,  0.00830623, -0.00028974],\n",
       "       [ 9.8239217 , -0.0061689 , -0.0167701 ],\n",
       "       [ 9.88007994,  0.30766782,  0.19450076],\n",
       "       [18.41446371,  0.00811139, -0.00341466],\n",
       "       [ 0.01950837,  0.00473382, -0.00684411],\n",
       "       [20.4162014 ,  0.03279424, -0.00421897],\n",
       "       [ 9.33380725,  0.00507846, -0.00163404],\n",
       "       [19.34155977,  0.03792381, 18.58780367],\n",
       "       [19.03429914,  0.03247602,  0.01752917],\n",
       "       [ 0.21350878,  0.18394773,  0.19401968],\n",
       "       [ 0.02350326,  0.00269568, -0.00809906],\n",
       "       [ 0.08006086,  0.00489863, -0.01511195],\n",
       "       [ 0.21146861,  0.05680065, 19.84642112],\n",
       "       [20.13580822,  0.00211587,  0.00711315],\n",
       "       [ 0.08664566,  0.02429608,  0.00866468],\n",
       "       [ 0.63886117,  9.45116493,  0.01804872],\n",
       "       [22.83127191, -0.00149553, -0.0064738 ],\n",
       "       [ 9.1053961 ,  0.01224132,  0.00906091],\n",
       "       [ 0.08693236,  0.01947678, -0.00219019],\n",
       "       [ 0.34027074,  0.0183228 , 18.22163657],\n",
       "       [ 0.09342478,  0.08464364,  0.10242224],\n",
       "       [18.16419588,  0.00688551,  0.00867194],\n",
       "       [ 0.10276655,  0.14158548,  0.07610652],\n",
       "       [ 0.32063863,  0.1493352 ,  0.03189392],\n",
       "       [ 0.47873522,  0.00578972,  0.00677269],\n",
       "       [ 0.37274565, 19.37527144,  0.04780875],\n",
       "       [ 0.04812179,  0.00278679,  0.00537808],\n",
       "       [ 0.75988232,  0.01577008,  0.02103414],\n",
       "       [ 0.271728  ,  0.01350398, -0.00542482],\n",
       "       [ 0.28478461,  0.19953345,  0.083933  ],\n",
       "       [ 0.05534244,  0.02467488,  0.00819408]])"
      ]
     },
     "execution_count": 4,
     "metadata": {},
     "output_type": "execute_result"
    }
   ],
   "source": [
    "levels_list = [\"first\", \"second\", \"third\"]\n",
    "all_popt_sig = load_parameters(\"sigmoid\", levels_list, 2)\n",
    "np.set_printoptions(suppress=True)\n",
    "all_popt_sig[:,1,:]"
   ]
  },
  {
   "cell_type": "markdown",
   "metadata": {},
   "source": [
    "load the data for the step-function"
   ]
  },
  {
   "cell_type": "code",
   "execution_count": 41,
   "metadata": {},
   "outputs": [
    {
     "name": "stdout",
     "output_type": "stream",
     "text": [
      "first\n",
      "second\n",
      "third\n"
     ]
    },
    {
     "data": {
      "text/plain": [
       "array([[ 15.8974359 ,  81.20657067, 128.        ],\n",
       "       [ 39.42418426,  60.10586313,  63.45278806],\n",
       "       [  8.15999999,  88.0503049 , 128.        ],\n",
       "       [  7.77777776,  80.72423399, 128.        ],\n",
       "       [ 41.35590204, 119.67599412, 128.        ],\n",
       "       [ 11.76744124,  25.22831051, 128.        ],\n",
       "       [  6.76862287, 116.44851964, 128.        ],\n",
       "       [ 59.85507227,  76.2524272 ,  74.13932219],\n",
       "       [  4.99999986, 128.        , 128.        ],\n",
       "       [ 30.40192929,  49.66216158,  52.59036169],\n",
       "       [128.        , 128.        , 128.        ],\n",
       "       [  6.49999989,  32.40793114,  39.96108935],\n",
       "       [ 74.5806277 , 128.        , 128.        ],\n",
       "       [ 33.05804683, 128.        , 128.        ],\n",
       "       [ 16.08602147, 118.39039492, 128.        ],\n",
       "       [ 13.20967742,  12.74509805,  23.12299466],\n",
       "       [ 22.06395351,  55.59024353,   8.0000001 ],\n",
       "       [ 11.24444442,  20.49999999,  21.08917195],\n",
       "       [ 96.25192793, 128.        , 128.        ],\n",
       "       [ 16.80898878, 128.        , 128.        ],\n",
       "       [  0.67393921,  10.13157893,  17.33009708],\n",
       "       [  1.03787702, 127.46863463, 128.        ],\n",
       "       [ 41.28422873, 128.        , 128.        ],\n",
       "       [  1.96991334,  44.7713415 , 128.        ],\n",
       "       [ 96.25192797, 128.        , 128.        ],\n",
       "       [  9.49999998,  16.26086927,   5.73591875],\n",
       "       [ 20.21126762,  60.7990113 ,  87.74066805],\n",
       "       [ 13.        ,  17.33009708,  21.78289471],\n",
       "       [ 43.06750391, 128.        , 128.        ],\n",
       "       [ 31.56363635, 128.        , 128.        ],\n",
       "       [  4.99999998,  14.09722224,  40.32786875],\n",
       "       [  1.97615574, 128.        , 128.        ],\n",
       "       [ 17.00000001,  69.19913417, 128.        ],\n",
       "       [  3.49999995,  58.12630664,  56.65975509],\n",
       "       [  8.70000013, 128.        , 128.        ],\n",
       "       [ 19.44881831, 117.39795915, 123.5486029 ],\n",
       "       [ 21.36129032,  84.42905122, 128.        ],\n",
       "       [ 15.83870995,  52.59541906, 123.42716721],\n",
       "       [ 21.49999996,  31.0925373 ,  33.05804746],\n",
       "       [122.01214652, 128.        , 128.        ],\n",
       "       [ 10.69444442,  19.00000002,  23.62841533],\n",
       "       [ 19.00000002,  13.20967737,  39.96108942],\n",
       "       [  9.19354835, 128.        , 128.        ],\n",
       "       [ 10.13157893,   3.91975773,  20.06993011],\n",
       "       [ 37.95896327, 128.        , 128.        ],\n",
       "       [  9.0000001 ,  73.93798876,  93.66070818],\n",
       "       [ 12.03703705,  85.0346939 , 128.        ],\n",
       "       [ 14.49999984,  24.47916635,  18.02564103],\n",
       "       [ 41.64510489,  22.32352941, 128.        ]])"
      ]
     },
     "execution_count": 41,
     "metadata": {},
     "output_type": "execute_result"
    }
   ],
   "source": [
    "levels_list = [\"first\", \"second\", \"third\"]\n",
    "all_popt_step = load_parameters(\"linear_step_2\", levels_list, 2)\n",
    "np.set_printoptions(suppress=True)\n",
    "all_popt_step[:,1,:]"
   ]
  },
  {
   "cell_type": "code",
   "execution_count": 6,
   "metadata": {},
   "outputs": [
    {
     "data": {
      "text/plain": [
       "(49, 3)"
      ]
     },
     "execution_count": 6,
     "metadata": {},
     "output_type": "execute_result"
    }
   ],
   "source": [
    "# calculate the differences between the two parameters\n",
    "differences = np.array([all_popt_step[:,0,i] - all_popt_step[:,1,i] for i in range(all_popt_step.shape[2])])\n",
    "differences = differences.T\n",
    "distance = np.absolute(differences)\n",
    "distance.shape"
   ]
  },
  {
   "cell_type": "code",
   "execution_count": 26,
   "metadata": {},
   "outputs": [
    {
     "name": "stdout",
     "output_type": "stream",
     "text": [
      "first\n",
      "15.897435895437674\n",
      "0.733368992805481 4.327932145997693e-08\n",
      "second\n",
      "69.19913416866069\n",
      "0.875976026058197 9.861315629677847e-05\n",
      "third\n",
      "93.6607081803035\n",
      "0.799263060092926 1.026049744723423e-06\n"
     ]
    }
   ],
   "source": [
    "df_distances = pd.DataFrame(distance, columns=[\"first\", \"second\", \"third\"])\n",
    "df_distances.insert(0, 'ID', range(len(df_distances)))\n",
    "df_distances.head()\n",
    "for column in df_distances.iloc[:,1:]:\n",
    "    print(column)\n",
    "    print(df_distances[column].median())\n",
    "    k2, p = stats.shapiro(df_distances[column])\n",
    "    print(k2, p)"
   ]
  },
  {
   "cell_type": "markdown",
   "metadata": {},
   "source": [
    "make into long format"
   ]
  },
  {
   "cell_type": "code",
   "execution_count": 13,
   "metadata": {},
   "outputs": [
    {
     "data": {
      "text/html": [
       "<div>\n",
       "<style scoped>\n",
       "    .dataframe tbody tr th:only-of-type {\n",
       "        vertical-align: middle;\n",
       "    }\n",
       "\n",
       "    .dataframe tbody tr th {\n",
       "        vertical-align: top;\n",
       "    }\n",
       "\n",
       "    .dataframe thead th {\n",
       "        text-align: right;\n",
       "    }\n",
       "</style>\n",
       "<table border=\"1\" class=\"dataframe\">\n",
       "  <thead>\n",
       "    <tr style=\"text-align: right;\">\n",
       "      <th></th>\n",
       "      <th>ID</th>\n",
       "      <th>Level</th>\n",
       "      <th>Distance</th>\n",
       "    </tr>\n",
       "  </thead>\n",
       "  <tbody>\n",
       "    <tr>\n",
       "      <th>0</th>\n",
       "      <td>0</td>\n",
       "      <td>first</td>\n",
       "      <td>15.897436</td>\n",
       "    </tr>\n",
       "    <tr>\n",
       "      <th>1</th>\n",
       "      <td>1</td>\n",
       "      <td>first</td>\n",
       "      <td>39.424184</td>\n",
       "    </tr>\n",
       "    <tr>\n",
       "      <th>2</th>\n",
       "      <td>2</td>\n",
       "      <td>first</td>\n",
       "      <td>8.160000</td>\n",
       "    </tr>\n",
       "    <tr>\n",
       "      <th>3</th>\n",
       "      <td>3</td>\n",
       "      <td>first</td>\n",
       "      <td>7.777778</td>\n",
       "    </tr>\n",
       "    <tr>\n",
       "      <th>4</th>\n",
       "      <td>4</td>\n",
       "      <td>first</td>\n",
       "      <td>41.355902</td>\n",
       "    </tr>\n",
       "  </tbody>\n",
       "</table>\n",
       "</div>"
      ],
      "text/plain": [
       "   ID  Level   Distance\n",
       "0   0  first  15.897436\n",
       "1   1  first  39.424184\n",
       "2   2  first   8.160000\n",
       "3   3  first   7.777778\n",
       "4   4  first  41.355902"
      ]
     },
     "execution_count": 13,
     "metadata": {},
     "output_type": "execute_result"
    }
   ],
   "source": [
    "df_dist_long = pd.melt(df_distances,\n",
    "                        id_vars = \"ID\", \n",
    "                        value_vars=[\"first\", \"second\", \"third\"], \n",
    "                        value_name=\"Distance\", \n",
    "                        var_name=\"Level\")\n",
    "df_dist_long.head()"
   ]
  },
  {
   "cell_type": "markdown",
   "metadata": {},
   "source": [
    "Run the anova on the distances"
   ]
  },
  {
   "cell_type": "code",
   "execution_count": 19,
   "metadata": {},
   "outputs": [
    {
     "data": {
      "text/html": [
       "<div>\n",
       "<style scoped>\n",
       "    .dataframe tbody tr th:only-of-type {\n",
       "        vertical-align: middle;\n",
       "    }\n",
       "\n",
       "    .dataframe tbody tr th {\n",
       "        vertical-align: top;\n",
       "    }\n",
       "\n",
       "    .dataframe thead th {\n",
       "        text-align: right;\n",
       "    }\n",
       "</style>\n",
       "<table border=\"1\" class=\"dataframe\">\n",
       "  <thead>\n",
       "    <tr style=\"text-align: right;\">\n",
       "      <th></th>\n",
       "      <th>Source</th>\n",
       "      <th>W</th>\n",
       "      <th>ddof1</th>\n",
       "      <th>Q</th>\n",
       "      <th>p-unc</th>\n",
       "    </tr>\n",
       "  </thead>\n",
       "  <tbody>\n",
       "    <tr>\n",
       "      <th>Friedman</th>\n",
       "      <td>Level</td>\n",
       "      <td>0.520899</td>\n",
       "      <td>2</td>\n",
       "      <td>51.048128</td>\n",
       "      <td>8.223180e-12</td>\n",
       "    </tr>\n",
       "  </tbody>\n",
       "</table>\n",
       "</div>"
      ],
      "text/plain": [
       "         Source         W  ddof1          Q         p-unc\n",
       "Friedman  Level  0.520899      2  51.048128  8.223180e-12"
      ]
     },
     "execution_count": 19,
     "metadata": {},
     "output_type": "execute_result"
    }
   ],
   "source": [
    "res = pg.friedman(data = df_dist_long, dv=\"Distance\", within=\"Level\", subject=\"ID\")\n",
    "res"
   ]
  },
  {
   "cell_type": "code",
   "execution_count": 24,
   "metadata": {},
   "outputs": [
    {
     "data": {
      "text/html": [
       "<div>\n",
       "<style scoped>\n",
       "    .dataframe tbody tr th:only-of-type {\n",
       "        vertical-align: middle;\n",
       "    }\n",
       "\n",
       "    .dataframe tbody tr th {\n",
       "        vertical-align: top;\n",
       "    }\n",
       "\n",
       "    .dataframe thead th {\n",
       "        text-align: right;\n",
       "    }\n",
       "</style>\n",
       "<table border=\"1\" class=\"dataframe\">\n",
       "  <thead>\n",
       "    <tr style=\"text-align: right;\">\n",
       "      <th></th>\n",
       "      <th>Contrast</th>\n",
       "      <th>A</th>\n",
       "      <th>B</th>\n",
       "      <th>mean(A)</th>\n",
       "      <th>std(A)</th>\n",
       "      <th>mean(B)</th>\n",
       "      <th>std(B)</th>\n",
       "      <th>Paired</th>\n",
       "      <th>Parametric</th>\n",
       "      <th>W-val</th>\n",
       "      <th>alternative</th>\n",
       "      <th>p-unc</th>\n",
       "      <th>p-corr</th>\n",
       "      <th>p-adjust</th>\n",
       "      <th>hedges</th>\n",
       "    </tr>\n",
       "  </thead>\n",
       "  <tbody>\n",
       "    <tr>\n",
       "      <th>0</th>\n",
       "      <td>Level</td>\n",
       "      <td>first</td>\n",
       "      <td>second</td>\n",
       "      <td>26.329644</td>\n",
       "      <td>30.096700</td>\n",
       "      <td>72.403763</td>\n",
       "      <td>44.628323</td>\n",
       "      <td>True</td>\n",
       "      <td>False</td>\n",
       "      <td>89.0</td>\n",
       "      <td>two-sided</td>\n",
       "      <td>1.966941e-07</td>\n",
       "      <td>5.900822e-07</td>\n",
       "      <td>bonf</td>\n",
       "      <td>-1.201006</td>\n",
       "    </tr>\n",
       "    <tr>\n",
       "      <th>1</th>\n",
       "      <td>Level</td>\n",
       "      <td>first</td>\n",
       "      <td>third</td>\n",
       "      <td>26.329644</td>\n",
       "      <td>30.096700</td>\n",
       "      <td>81.991582</td>\n",
       "      <td>47.654671</td>\n",
       "      <td>True</td>\n",
       "      <td>False</td>\n",
       "      <td>69.0</td>\n",
       "      <td>two-sided</td>\n",
       "      <td>6.612981e-08</td>\n",
       "      <td>1.983894e-07</td>\n",
       "      <td>bonf</td>\n",
       "      <td>-1.385685</td>\n",
       "    </tr>\n",
       "    <tr>\n",
       "      <th>2</th>\n",
       "      <td>Level</td>\n",
       "      <td>second</td>\n",
       "      <td>third</td>\n",
       "      <td>72.403763</td>\n",
       "      <td>44.628323</td>\n",
       "      <td>81.991582</td>\n",
       "      <td>47.654671</td>\n",
       "      <td>True</td>\n",
       "      <td>False</td>\n",
       "      <td>231.0</td>\n",
       "      <td>two-sided</td>\n",
       "      <td>1.642773e-02</td>\n",
       "      <td>4.928318e-02</td>\n",
       "      <td>bonf</td>\n",
       "      <td>-0.206053</td>\n",
       "    </tr>\n",
       "  </tbody>\n",
       "</table>\n",
       "</div>"
      ],
      "text/plain": [
       "  Contrast       A       B    mean(A)     std(A)    mean(B)     std(B)  \\\n",
       "0    Level   first  second  26.329644  30.096700  72.403763  44.628323   \n",
       "1    Level   first   third  26.329644  30.096700  81.991582  47.654671   \n",
       "2    Level  second   third  72.403763  44.628323  81.991582  47.654671   \n",
       "\n",
       "   Paired  Parametric  W-val alternative         p-unc        p-corr p-adjust  \\\n",
       "0    True       False   89.0   two-sided  1.966941e-07  5.900822e-07     bonf   \n",
       "1    True       False   69.0   two-sided  6.612981e-08  1.983894e-07     bonf   \n",
       "2    True       False  231.0   two-sided  1.642773e-02  4.928318e-02     bonf   \n",
       "\n",
       "     hedges  \n",
       "0 -1.201006  \n",
       "1 -1.385685  \n",
       "2 -0.206053  "
      ]
     },
     "execution_count": 24,
     "metadata": {},
     "output_type": "execute_result"
    }
   ],
   "source": [
    "post_hoc = pg.pairwise_tests(data = df_dist_long, \n",
    "                            dv=\"Distance\",\n",
    "                            within=\"Level\",\n",
    "                            subject=\"ID\", \n",
    "                            parametric=False,\n",
    "                            padjust=\"bonf\",\n",
    "                            return_desc=True)\n",
    "post_hoc"
   ]
  },
  {
   "cell_type": "code",
   "execution_count": 42,
   "metadata": {},
   "outputs": [
    {
     "name": "stdout",
     "output_type": "stream",
     "text": [
      "first\n",
      "15.897435895437674\n",
      "0.7283564209938049 3.472906229262662e-08\n",
      "second\n",
      "80.724233992896\n",
      "0.8491699695587158 1.741409687383566e-05\n",
      "third\n",
      "128.0\n",
      "0.709193766117096 1.5317544566073593e-08\n"
     ]
    }
   ],
   "source": [
    "df_b_2 = pd.DataFrame(all_popt_step[:,1,:], columns=[\"first\", \"second\", \"third\"])\n",
    "df_b_2.insert(0, 'ID', range(len(df_b_2)))\n",
    "df_b_2.head()\n",
    "for column in df_b_2.iloc[:,1:]:\n",
    "    print(column)\n",
    "    print(df_b_2[column].median())\n",
    "    k2, p = stats.shapiro(df_b_2[column])\n",
    "    print(k2, p)"
   ]
  },
  {
   "cell_type": "code",
   "execution_count": 44,
   "metadata": {},
   "outputs": [
    {
     "data": {
      "text/html": [
       "<div>\n",
       "<style scoped>\n",
       "    .dataframe tbody tr th:only-of-type {\n",
       "        vertical-align: middle;\n",
       "    }\n",
       "\n",
       "    .dataframe tbody tr th {\n",
       "        vertical-align: top;\n",
       "    }\n",
       "\n",
       "    .dataframe thead th {\n",
       "        text-align: right;\n",
       "    }\n",
       "</style>\n",
       "<table border=\"1\" class=\"dataframe\">\n",
       "  <thead>\n",
       "    <tr style=\"text-align: right;\">\n",
       "      <th></th>\n",
       "      <th>ID</th>\n",
       "      <th>Level</th>\n",
       "      <th>value</th>\n",
       "    </tr>\n",
       "  </thead>\n",
       "  <tbody>\n",
       "    <tr>\n",
       "      <th>0</th>\n",
       "      <td>0</td>\n",
       "      <td>first</td>\n",
       "      <td>15.897436</td>\n",
       "    </tr>\n",
       "    <tr>\n",
       "      <th>1</th>\n",
       "      <td>1</td>\n",
       "      <td>first</td>\n",
       "      <td>39.424184</td>\n",
       "    </tr>\n",
       "    <tr>\n",
       "      <th>2</th>\n",
       "      <td>2</td>\n",
       "      <td>first</td>\n",
       "      <td>8.160000</td>\n",
       "    </tr>\n",
       "    <tr>\n",
       "      <th>3</th>\n",
       "      <td>3</td>\n",
       "      <td>first</td>\n",
       "      <td>7.777778</td>\n",
       "    </tr>\n",
       "    <tr>\n",
       "      <th>4</th>\n",
       "      <td>4</td>\n",
       "      <td>first</td>\n",
       "      <td>41.355902</td>\n",
       "    </tr>\n",
       "    <tr>\n",
       "      <th>5</th>\n",
       "      <td>5</td>\n",
       "      <td>first</td>\n",
       "      <td>11.767441</td>\n",
       "    </tr>\n",
       "    <tr>\n",
       "      <th>6</th>\n",
       "      <td>6</td>\n",
       "      <td>first</td>\n",
       "      <td>6.768623</td>\n",
       "    </tr>\n",
       "    <tr>\n",
       "      <th>7</th>\n",
       "      <td>7</td>\n",
       "      <td>first</td>\n",
       "      <td>59.855072</td>\n",
       "    </tr>\n",
       "    <tr>\n",
       "      <th>8</th>\n",
       "      <td>8</td>\n",
       "      <td>first</td>\n",
       "      <td>5.000000</td>\n",
       "    </tr>\n",
       "    <tr>\n",
       "      <th>9</th>\n",
       "      <td>9</td>\n",
       "      <td>first</td>\n",
       "      <td>30.401929</td>\n",
       "    </tr>\n",
       "    <tr>\n",
       "      <th>10</th>\n",
       "      <td>10</td>\n",
       "      <td>first</td>\n",
       "      <td>128.000000</td>\n",
       "    </tr>\n",
       "    <tr>\n",
       "      <th>11</th>\n",
       "      <td>11</td>\n",
       "      <td>first</td>\n",
       "      <td>6.500000</td>\n",
       "    </tr>\n",
       "    <tr>\n",
       "      <th>12</th>\n",
       "      <td>12</td>\n",
       "      <td>first</td>\n",
       "      <td>74.580628</td>\n",
       "    </tr>\n",
       "    <tr>\n",
       "      <th>13</th>\n",
       "      <td>13</td>\n",
       "      <td>first</td>\n",
       "      <td>33.058047</td>\n",
       "    </tr>\n",
       "    <tr>\n",
       "      <th>14</th>\n",
       "      <td>14</td>\n",
       "      <td>first</td>\n",
       "      <td>16.086021</td>\n",
       "    </tr>\n",
       "  </tbody>\n",
       "</table>\n",
       "</div>"
      ],
      "text/plain": [
       "    ID  Level       value\n",
       "0    0  first   15.897436\n",
       "1    1  first   39.424184\n",
       "2    2  first    8.160000\n",
       "3    3  first    7.777778\n",
       "4    4  first   41.355902\n",
       "5    5  first   11.767441\n",
       "6    6  first    6.768623\n",
       "7    7  first   59.855072\n",
       "8    8  first    5.000000\n",
       "9    9  first   30.401929\n",
       "10  10  first  128.000000\n",
       "11  11  first    6.500000\n",
       "12  12  first   74.580628\n",
       "13  13  first   33.058047\n",
       "14  14  first   16.086021"
      ]
     },
     "execution_count": 44,
     "metadata": {},
     "output_type": "execute_result"
    }
   ],
   "source": [
    "df_b_2_long = pd.melt(df_b_2,\n",
    "                        id_vars = \"ID\", \n",
    "                        value_vars=[\"first\", \"second\", \"third\"], \n",
    "                        value_name=\"value\", \n",
    "                        var_name=\"Level\")\n",
    "df_b_2_long.head(15)"
   ]
  },
  {
   "cell_type": "code",
   "execution_count": 45,
   "metadata": {},
   "outputs": [
    {
     "data": {
      "text/html": [
       "<div>\n",
       "<style scoped>\n",
       "    .dataframe tbody tr th:only-of-type {\n",
       "        vertical-align: middle;\n",
       "    }\n",
       "\n",
       "    .dataframe tbody tr th {\n",
       "        vertical-align: top;\n",
       "    }\n",
       "\n",
       "    .dataframe thead th {\n",
       "        text-align: right;\n",
       "    }\n",
       "</style>\n",
       "<table border=\"1\" class=\"dataframe\">\n",
       "  <thead>\n",
       "    <tr style=\"text-align: right;\">\n",
       "      <th></th>\n",
       "      <th>Source</th>\n",
       "      <th>W</th>\n",
       "      <th>ddof1</th>\n",
       "      <th>Q</th>\n",
       "      <th>p-unc</th>\n",
       "    </tr>\n",
       "  </thead>\n",
       "  <tbody>\n",
       "    <tr>\n",
       "      <th>Friedman</th>\n",
       "      <td>Level</td>\n",
       "      <td>0.684247</td>\n",
       "      <td>2</td>\n",
       "      <td>67.05618</td>\n",
       "      <td>2.747487e-15</td>\n",
       "    </tr>\n",
       "  </tbody>\n",
       "</table>\n",
       "</div>"
      ],
      "text/plain": [
       "         Source         W  ddof1         Q         p-unc\n",
       "Friedman  Level  0.684247      2  67.05618  2.747487e-15"
      ]
     },
     "execution_count": 45,
     "metadata": {},
     "output_type": "execute_result"
    }
   ],
   "source": [
    "res = pg.friedman(data = df_b_2_long, dv=\"value\", within=\"Level\", subject=\"ID\")\n",
    "res"
   ]
  },
  {
   "cell_type": "code",
   "execution_count": 47,
   "metadata": {},
   "outputs": [
    {
     "data": {
      "text/html": [
       "<div>\n",
       "<style scoped>\n",
       "    .dataframe tbody tr th:only-of-type {\n",
       "        vertical-align: middle;\n",
       "    }\n",
       "\n",
       "    .dataframe tbody tr th {\n",
       "        vertical-align: top;\n",
       "    }\n",
       "\n",
       "    .dataframe thead th {\n",
       "        text-align: right;\n",
       "    }\n",
       "</style>\n",
       "<table border=\"1\" class=\"dataframe\">\n",
       "  <thead>\n",
       "    <tr style=\"text-align: right;\">\n",
       "      <th></th>\n",
       "      <th>Contrast</th>\n",
       "      <th>A</th>\n",
       "      <th>B</th>\n",
       "      <th>mean(A)</th>\n",
       "      <th>std(A)</th>\n",
       "      <th>mean(B)</th>\n",
       "      <th>std(B)</th>\n",
       "      <th>Paired</th>\n",
       "      <th>Parametric</th>\n",
       "      <th>W-val</th>\n",
       "      <th>alternative</th>\n",
       "      <th>p-unc</th>\n",
       "      <th>p-corr</th>\n",
       "      <th>p-adjust</th>\n",
       "      <th>hedges</th>\n",
       "    </tr>\n",
       "  </thead>\n",
       "  <tbody>\n",
       "    <tr>\n",
       "      <th>0</th>\n",
       "      <td>Level</td>\n",
       "      <td>first</td>\n",
       "      <td>second</td>\n",
       "      <td>26.597350</td>\n",
       "      <td>29.923271</td>\n",
       "      <td>77.603919</td>\n",
       "      <td>45.792120</td>\n",
       "      <td>True</td>\n",
       "      <td>False</td>\n",
       "      <td>25.0</td>\n",
       "      <td>two-sided</td>\n",
       "      <td>7.959835e-09</td>\n",
       "      <td>2.387951e-08</td>\n",
       "      <td>bonf</td>\n",
       "      <td>-1.308344</td>\n",
       "    </tr>\n",
       "    <tr>\n",
       "      <th>1</th>\n",
       "      <td>Level</td>\n",
       "      <td>first</td>\n",
       "      <td>third</td>\n",
       "      <td>26.597350</td>\n",
       "      <td>29.923271</td>\n",
       "      <td>93.292092</td>\n",
       "      <td>46.503374</td>\n",
       "      <td>True</td>\n",
       "      <td>False</td>\n",
       "      <td>12.0</td>\n",
       "      <td>two-sided</td>\n",
       "      <td>3.577266e-09</td>\n",
       "      <td>1.073180e-08</td>\n",
       "      <td>bonf</td>\n",
       "      <td>-1.692291</td>\n",
       "    </tr>\n",
       "    <tr>\n",
       "      <th>2</th>\n",
       "      <td>Level</td>\n",
       "      <td>second</td>\n",
       "      <td>third</td>\n",
       "      <td>77.603919</td>\n",
       "      <td>45.792120</td>\n",
       "      <td>93.292092</td>\n",
       "      <td>46.503374</td>\n",
       "      <td>True</td>\n",
       "      <td>False</td>\n",
       "      <td>65.0</td>\n",
       "      <td>two-sided</td>\n",
       "      <td>7.296897e-05</td>\n",
       "      <td>2.189069e-04</td>\n",
       "      <td>bonf</td>\n",
       "      <td>-0.337282</td>\n",
       "    </tr>\n",
       "  </tbody>\n",
       "</table>\n",
       "</div>"
      ],
      "text/plain": [
       "  Contrast       A       B    mean(A)     std(A)    mean(B)     std(B)  \\\n",
       "0    Level   first  second  26.597350  29.923271  77.603919  45.792120   \n",
       "1    Level   first   third  26.597350  29.923271  93.292092  46.503374   \n",
       "2    Level  second   third  77.603919  45.792120  93.292092  46.503374   \n",
       "\n",
       "   Paired  Parametric  W-val alternative         p-unc        p-corr p-adjust  \\\n",
       "0    True       False   25.0   two-sided  7.959835e-09  2.387951e-08     bonf   \n",
       "1    True       False   12.0   two-sided  3.577266e-09  1.073180e-08     bonf   \n",
       "2    True       False   65.0   two-sided  7.296897e-05  2.189069e-04     bonf   \n",
       "\n",
       "     hedges  \n",
       "0 -1.308344  \n",
       "1 -1.692291  \n",
       "2 -0.337282  "
      ]
     },
     "execution_count": 47,
     "metadata": {},
     "output_type": "execute_result"
    }
   ],
   "source": [
    "post_hoc = pg.pairwise_tests(data = df_b_2_long, \n",
    "                            dv=\"value\",\n",
    "                            within=\"Level\",\n",
    "                            subject=\"ID\", \n",
    "                            parametric=False,\n",
    "                            padjust=\"bonf\",\n",
    "                            return_desc=True)\n",
    "post_hoc"
   ]
  }
 ],
 "metadata": {
  "kernelspec": {
   "display_name": "Python 3.9.12 ('simple_analysis')",
   "language": "python",
   "name": "python3"
  },
  "language_info": {
   "codemirror_mode": {
    "name": "ipython",
    "version": 3
   },
   "file_extension": ".py",
   "mimetype": "text/x-python",
   "name": "python",
   "nbconvert_exporter": "python",
   "pygments_lexer": "ipython3",
   "version": "3.9.12"
  },
  "orig_nbformat": 4,
  "vscode": {
   "interpreter": {
    "hash": "714c65b6556cc764f3390fa3fd2d33ea130c4e159503f5fc78fc31bdcf5df947"
   }
  }
 },
 "nbformat": 4,
 "nbformat_minor": 2
}
